{
 "cells": [
  {
   "cell_type": "markdown",
   "metadata": {},
   "source": [
    "# DATA 512 FINAL PROJECT"
   ]
  },
  {
   "cell_type": "markdown",
   "metadata": {},
   "source": [
    "A successful report will take the form of a well-written, well-executed research study document (plus supplementary resources, see the full requirements below) contained in a folder within your Github repository—the same folder that holds your final project plan (Assignment 5).\n",
    "\n",
    "Your previous deliverables for the final project proposal and plan (assignments 4 and 5) are part of this report: you are expected to build your report by adding more text (and, obviously, code!) to your existing project plan Jupyter Notebook.\n",
    "\n",
    "Structure of the report\n",
    "The report should be structured well, with headings and even sub-headings. Most reports should have a structure similar to this one\n",
    "\n",
    "Introduction\n",
    "Background or Related Work\n",
    "Research questions or hypotheses\n",
    "Methodology\n",
    "Findings\n",
    "Discussion (including Limitations and Implications)\n",
    "Conclusion\n",
    "References"
   ]
  },
  {
   "cell_type": "markdown",
   "metadata": {},
   "source": [
    "## Introduction / Motivation\n",
    "\n",
    "start with some sort of “introduction” or “motivation” section that describes what the study is about, why it is important/interesting, and note any existing research in this area and/or other related work, like articles by journalists.\n",
    "\n",
    "Contain a description of their dataset and the license or terms of use (unless these are described in the README)"
   ]
  },
  {
   "cell_type": "code",
   "execution_count": null,
   "metadata": {},
   "outputs": [],
   "source": []
  },
  {
   "cell_type": "markdown",
   "metadata": {},
   "source": [
    "## Background or Related Work"
   ]
  },
  {
   "cell_type": "code",
   "execution_count": null,
   "metadata": {},
   "outputs": [],
   "source": []
  },
  {
   "cell_type": "markdown",
   "metadata": {},
   "source": [
    "## Research questions or hypotheses\n",
    "\n",
    "Contain explicit research questions or hypotheses"
   ]
  },
  {
   "cell_type": "code",
   "execution_count": null,
   "metadata": {},
   "outputs": [],
   "source": []
  },
  {
   "cell_type": "markdown",
   "metadata": {},
   "source": [
    "## Methodology\n",
    "\n",
    "Describe the methods they used, and explain why these methods are good/appropriate methods to use\n"
   ]
  },
  {
   "cell_type": "code",
   "execution_count": null,
   "metadata": {},
   "outputs": [],
   "source": []
  },
  {
   "cell_type": "markdown",
   "metadata": {},
   "source": [
    "## Findings"
   ]
  },
  {
   "cell_type": "code",
   "execution_count": 2,
   "metadata": {},
   "outputs": [],
   "source": [
    "import pandas as pd\n",
    "import numpy as np\n",
    "import os\n",
    "\n",
    "# import libraries for visualizations\n",
    "import matplotlib.pyplot as plt\n",
    "import seaborn as sns\n",
    "\n",
    "# magic code for viewing plots using jupyter notebooks:\n",
    "%matplotlib inline"
   ]
  },
  {
   "cell_type": "code",
   "execution_count": 3,
   "metadata": {},
   "outputs": [],
   "source": [
    "# set the base directory\n",
    "os.chdir('/home/jovyan/data-512/data-512-final/data-512-final')\n",
    "\n",
    "# read the data\n",
    "df_inv = pd.read_csv('raw_data/NFCS_2018_Investor_Data_191107.csv')\n",
    "df_sbs = pd.read_csv('raw_data/NFCS_2018_State_Data_190603.csv')"
   ]
  },
  {
   "cell_type": "markdown",
   "metadata": {},
   "source": [
    "---\n",
    "# DEMOGRAPHICS\n",
    "A higher number of respondents identified as female."
   ]
  },
  {
   "cell_type": "code",
   "execution_count": 4,
   "metadata": {},
   "outputs": [
    {
     "data": {
      "text/plain": [
       "<seaborn.axisgrid.FacetGrid at 0x7f306d956650>"
      ]
     },
     "execution_count": 4,
     "metadata": {},
     "output_type": "execute_result"
    },
    {
     "data": {
      "image/png": "[encoded data removed]",
      "text/plain": [
       "<Figure size 360x360 with 1 Axes>"
      ]
     },
     "metadata": {
      "needs_background": "light"
     },
     "output_type": "display_data"
    }
   ],
   "source": [
    "# create a nicer column for gender\n",
    "df_sbs['Gender'] = df_sbs['A3'].apply(lambda x: 'Male' if x == 1 else 'Female')\n",
    "\n",
    "# plot the gender distribution\n",
    "sns.catplot(x=\"Gender\", \n",
    "            kind=\"count\", \n",
    "            data=df_sbs,\n",
    "            palette=(\"Blues\"))"
   ]
  },
  {
   "cell_type": "markdown",
   "metadata": {},
   "source": [
    "---\n",
    "# PARTICIPATION\n",
    "Initially it appears that quite a bit of the female respondents hold an investment account"
   ]
  },
  {
   "cell_type": "code",
   "execution_count": 5,
   "metadata": {},
   "outputs": [
    {
     "data": {
      "text/plain": [
       "Text(0.5, 0.98, 'Do you hold an investment account?')"
      ]
     },
     "execution_count": 5,
     "metadata": {},
     "output_type": "execute_result"
    },
    {
     "data": {
      "image/png": "[encoded data removed]",
      "text/plain": [
       "<Figure size 432.625x360 with 1 Axes>"
      ]
     },
     "metadata": {
      "needs_background": "light"
     },
     "output_type": "display_data"
    }
   ],
   "source": [
    "# who has access to an investment account\n",
    "\n",
    "# create a clean column with labels\n",
    "def investment_accounts(score):\n",
    "    if score == 1:\n",
    "        return 'Yes'\n",
    "    elif score == 2:\n",
    "        return 'No'\n",
    "    else:\n",
    "        return \"Don't know\"\n",
    "        \n",
    "df_sbs['Hold_Investment_Account'] = df_sbs.apply(lambda x: investment_accounts(x['C1_2012']),axis=1)\n",
    "\n",
    "# plot the gender distribution\n",
    "g3 = sns.catplot(x=\"Hold_Investment_Account\", \n",
    "            kind=\"count\",\n",
    "            hue='Gender',\n",
    "            data=df_sbs,\n",
    "            order=[\"Yes\", \"No\", \"Don't know\"],\n",
    "            palette=(\"Blues\"))\n",
    "g3.fig.suptitle('Do you hold an investment account?') # can also get the figure from plt.gcf()"
   ]
  },
  {
   "cell_type": "markdown",
   "metadata": {},
   "source": [
    "As a percentage of respondents about 0.535117 female respondents hold an account.   And about 0.612412 of males hold an account."
   ]
  },
  {
   "cell_type": "markdown",
   "metadata": {},
   "source": [
    "It's difficult to see who's account these actually belong to.   There is a lot of unknown data.   Not clear the gender of the partner, lots of respondents with unknown or non responses to this question."
   ]
  },
  {
   "cell_type": "code",
   "execution_count": 7,
   "metadata": {},
   "outputs": [
    {
     "data": {
      "text/plain": [
       "Text(0.5, 0.98, 'Who owns the account?')"
      ]
     },
     "execution_count": 7,
     "metadata": {},
     "output_type": "execute_result"
    },
    {
     "data": {
      "image/png": "[encoded data removed]",
      "text/plain": [
       "<Figure size 360x360 with 1 Axes>"
      ]
     },
     "metadata": {
      "needs_background": "light"
     },
     "output_type": "display_data"
    }
   ],
   "source": [
    "# create a clean column with labels\n",
    "def who_owns_account(gender, owner):\n",
    "    if owner in ('3') or (gender == 'Female' and owner in ('1')):\n",
    "        return 'Female Respondent Owns Account'\n",
    "    elif  gender == 'Female' and owner in ('2'):\n",
    "        return \"Female's Partner Owns Account\"\n",
    "    elif  gender == 'Male' and owner in ('2'):\n",
    "        return 'Unknown'\n",
    "    elif  gender == 'Male' and owner in ('1'):\n",
    "        return 'Male Owns Account'\n",
    "    elif  owner in ('98','99', ' '):\n",
    "        return 'Unknown'\n",
    "        \n",
    "df_sbs['Account_Owner'] = df_sbs.apply(lambda x: who_owns_account(x['Gender'], x['C2_2012']),axis=1)\n",
    "\n",
    "\n",
    "g3 = sns.catplot(y=\"Account_Owner\", \n",
    "            kind=\"count\",\n",
    "            data=df_sbs.where(df_sbs['C1_2012'] == 1),\n",
    "            order=[\"Female Respondent Owns Account\", 'Male Owns Account', \"Female's Partner Owns Account\", \"Unknown\"],\n",
    "            palette=(\"Blues\"))\n",
    "g3.fig.suptitle('Who owns the account?')"
   ]
  },
  {
   "cell_type": "code",
   "execution_count": null,
   "metadata": {},
   "outputs": [],
   "source": [
    "# create a clean column with labels\n",
    "def who_owns_account(gender, owner):\n",
    "    if owner in ('3') or (gender == 'Female' and owner in ('1')):\n",
    "        return 'Female Respondent Owns Account'\n",
    "    elif  gender == 'Female' and owner in ('2'):\n",
    "        return \"Female's Partner Owns Account\"\n",
    "    elif  gender == 'Male' and owner in ('2'):\n",
    "        return 'Unknown'\n",
    "    elif  gender == 'Male' and owner in ('1'):\n",
    "        return 'Male Owns Account'\n",
    "    elif  owner in ('98','99', ' '):\n",
    "        return 'Unknown'\n",
    "        \n",
    "df_sbs['Account_Owner'] = df_sbs.apply(lambda x: who_owns_account(x['Gender'], x['C2_2012']),axis=1)\n",
    "\n",
    "\n",
    "g3 = sns.catplot(y=\"Account_Owner\", \n",
    "            kind=\"count\",\n",
    "            data=df_sbs.where(df_sbs['C1_2012'] == 1),\n",
    "            order=[\"Female Respondent Owns Account\", 'Male Owns Account', \"Female's Partner Owns Account\", \"Unknown\"],\n",
    "            palette=(\"Blues\"))\n",
    "g3.fig.suptitle('Who owns the account?')"
   ]
  },
  {
   "cell_type": "code",
   "execution_count": 6,
   "metadata": {},
   "outputs": [
    {
     "ename": "KeyError",
     "evalue": "\"['Account_Owner'] not in index\"",
     "output_type": "error",
     "traceback": [
      "\u001b[0;31m---------------------------------------------------------------------------\u001b[0m",
      "\u001b[0;31mKeyError\u001b[0m                                  Traceback (most recent call last)",
      "\u001b[0;32m<ipython-input-6-2ade079768d3>\u001b[0m in \u001b[0;36m<module>\u001b[0;34m\u001b[0m\n\u001b[0;32m----> 1\u001b[0;31m \u001b[0mdf_sbs\u001b[0m\u001b[0;34m[\u001b[0m\u001b[0;34m(\u001b[0m\u001b[0mdf_sbs\u001b[0m\u001b[0;34m[\u001b[0m\u001b[0;34m'Gender'\u001b[0m\u001b[0;34m]\u001b[0m \u001b[0;34m==\u001b[0m\u001b[0;34m'Female'\u001b[0m\u001b[0;34m)\u001b[0m\u001b[0;34m]\u001b[0m\u001b[0;34m[\u001b[0m\u001b[0;34m[\u001b[0m\u001b[0;34m'Gender'\u001b[0m\u001b[0;34m,\u001b[0m\u001b[0;34m'Account_Owner'\u001b[0m\u001b[0;34m]\u001b[0m\u001b[0;34m]\u001b[0m\u001b[0;34m.\u001b[0m\u001b[0mvalue_counts\u001b[0m\u001b[0;34m(\u001b[0m\u001b[0mnormalize\u001b[0m\u001b[0;34m=\u001b[0m\u001b[0;32mTrue\u001b[0m\u001b[0;34m)\u001b[0m\u001b[0;34m\u001b[0m\u001b[0;34m\u001b[0m\u001b[0m\n\u001b[0m",
      "\u001b[0;32m/opt/conda/lib/python3.7/site-packages/pandas/core/frame.py\u001b[0m in \u001b[0;36m__getitem__\u001b[0;34m(self, key)\u001b[0m\n\u001b[1;32m   2906\u001b[0m             \u001b[0;32mif\u001b[0m \u001b[0mis_iterator\u001b[0m\u001b[0;34m(\u001b[0m\u001b[0mkey\u001b[0m\u001b[0;34m)\u001b[0m\u001b[0;34m:\u001b[0m\u001b[0;34m\u001b[0m\u001b[0;34m\u001b[0m\u001b[0m\n\u001b[1;32m   2907\u001b[0m                 \u001b[0mkey\u001b[0m \u001b[0;34m=\u001b[0m \u001b[0mlist\u001b[0m\u001b[0;34m(\u001b[0m\u001b[0mkey\u001b[0m\u001b[0;34m)\u001b[0m\u001b[0;34m\u001b[0m\u001b[0;34m\u001b[0m\u001b[0m\n\u001b[0;32m-> 2908\u001b[0;31m             \u001b[0mindexer\u001b[0m \u001b[0;34m=\u001b[0m \u001b[0mself\u001b[0m\u001b[0;34m.\u001b[0m\u001b[0mloc\u001b[0m\u001b[0;34m.\u001b[0m\u001b[0m_get_listlike_indexer\u001b[0m\u001b[0;34m(\u001b[0m\u001b[0mkey\u001b[0m\u001b[0;34m,\u001b[0m \u001b[0maxis\u001b[0m\u001b[0;34m=\u001b[0m\u001b[0;36m1\u001b[0m\u001b[0;34m,\u001b[0m \u001b[0mraise_missing\u001b[0m\u001b[0;34m=\u001b[0m\u001b[0;32mTrue\u001b[0m\u001b[0;34m)\u001b[0m\u001b[0;34m[\u001b[0m\u001b[0;36m1\u001b[0m\u001b[0;34m]\u001b[0m\u001b[0;34m\u001b[0m\u001b[0;34m\u001b[0m\u001b[0m\n\u001b[0m\u001b[1;32m   2909\u001b[0m \u001b[0;34m\u001b[0m\u001b[0m\n\u001b[1;32m   2910\u001b[0m         \u001b[0;31m# take() does not accept boolean indexers\u001b[0m\u001b[0;34m\u001b[0m\u001b[0;34m\u001b[0m\u001b[0;34m\u001b[0m\u001b[0m\n",
      "\u001b[0;32m/opt/conda/lib/python3.7/site-packages/pandas/core/indexing.py\u001b[0m in \u001b[0;36m_get_listlike_indexer\u001b[0;34m(self, key, axis, raise_missing)\u001b[0m\n\u001b[1;32m   1252\u001b[0m             \u001b[0mkeyarr\u001b[0m\u001b[0;34m,\u001b[0m \u001b[0mindexer\u001b[0m\u001b[0;34m,\u001b[0m \u001b[0mnew_indexer\u001b[0m \u001b[0;34m=\u001b[0m \u001b[0max\u001b[0m\u001b[0;34m.\u001b[0m\u001b[0m_reindex_non_unique\u001b[0m\u001b[0;34m(\u001b[0m\u001b[0mkeyarr\u001b[0m\u001b[0;34m)\u001b[0m\u001b[0;34m\u001b[0m\u001b[0;34m\u001b[0m\u001b[0m\n\u001b[1;32m   1253\u001b[0m \u001b[0;34m\u001b[0m\u001b[0m\n\u001b[0;32m-> 1254\u001b[0;31m         \u001b[0mself\u001b[0m\u001b[0;34m.\u001b[0m\u001b[0m_validate_read_indexer\u001b[0m\u001b[0;34m(\u001b[0m\u001b[0mkeyarr\u001b[0m\u001b[0;34m,\u001b[0m \u001b[0mindexer\u001b[0m\u001b[0;34m,\u001b[0m \u001b[0maxis\u001b[0m\u001b[0;34m,\u001b[0m \u001b[0mraise_missing\u001b[0m\u001b[0;34m=\u001b[0m\u001b[0mraise_missing\u001b[0m\u001b[0;34m)\u001b[0m\u001b[0;34m\u001b[0m\u001b[0;34m\u001b[0m\u001b[0m\n\u001b[0m\u001b[1;32m   1255\u001b[0m         \u001b[0;32mreturn\u001b[0m \u001b[0mkeyarr\u001b[0m\u001b[0;34m,\u001b[0m \u001b[0mindexer\u001b[0m\u001b[0;34m\u001b[0m\u001b[0;34m\u001b[0m\u001b[0m\n\u001b[1;32m   1256\u001b[0m \u001b[0;34m\u001b[0m\u001b[0m\n",
      "\u001b[0;32m/opt/conda/lib/python3.7/site-packages/pandas/core/indexing.py\u001b[0m in \u001b[0;36m_validate_read_indexer\u001b[0;34m(self, key, indexer, axis, raise_missing)\u001b[0m\n\u001b[1;32m   1302\u001b[0m             \u001b[0;32mif\u001b[0m \u001b[0mraise_missing\u001b[0m\u001b[0;34m:\u001b[0m\u001b[0;34m\u001b[0m\u001b[0;34m\u001b[0m\u001b[0m\n\u001b[1;32m   1303\u001b[0m                 \u001b[0mnot_found\u001b[0m \u001b[0;34m=\u001b[0m \u001b[0mlist\u001b[0m\u001b[0;34m(\u001b[0m\u001b[0mset\u001b[0m\u001b[0;34m(\u001b[0m\u001b[0mkey\u001b[0m\u001b[0;34m)\u001b[0m \u001b[0;34m-\u001b[0m \u001b[0mset\u001b[0m\u001b[0;34m(\u001b[0m\u001b[0max\u001b[0m\u001b[0;34m)\u001b[0m\u001b[0;34m)\u001b[0m\u001b[0;34m\u001b[0m\u001b[0;34m\u001b[0m\u001b[0m\n\u001b[0;32m-> 1304\u001b[0;31m                 \u001b[0;32mraise\u001b[0m \u001b[0mKeyError\u001b[0m\u001b[0;34m(\u001b[0m\u001b[0;34mf\"{not_found} not in index\"\u001b[0m\u001b[0;34m)\u001b[0m\u001b[0;34m\u001b[0m\u001b[0;34m\u001b[0m\u001b[0m\n\u001b[0m\u001b[1;32m   1305\u001b[0m \u001b[0;34m\u001b[0m\u001b[0m\n\u001b[1;32m   1306\u001b[0m             \u001b[0;31m# we skip the warning on Categorical\u001b[0m\u001b[0;34m\u001b[0m\u001b[0;34m\u001b[0m\u001b[0;34m\u001b[0m\u001b[0m\n",
      "\u001b[0;31mKeyError\u001b[0m: \"['Account_Owner'] not in index\""
     ]
    }
   ],
   "source": [
    "df_sbs[(df_sbs['Gender'] =='Female')][['Gender','Account_Owner']].value_counts(normalize=True)"
   ]
  },
  {
   "cell_type": "markdown",
   "metadata": {},
   "source": [
    "---\n",
    "# ATTITUDES"
   ]
  },
  {
   "cell_type": "code",
   "execution_count": 4,
   "metadata": {},
   "outputs": [
    {
     "data": {
      "text/plain": [
       "Text(0.5, 0.98, 'Discussing My Finances Makes Me Feel Stressed')"
      ]
     },
     "execution_count": 4,
     "metadata": {},
     "output_type": "execute_result"
    },
    {
     "data": {
      "image/png": "[encoded data removed]",
      "text/plain": [
       "<Figure size 432.625x360 with 1 Axes>"
      ]
     },
     "metadata": {
      "needs_background": "light"
     },
     "output_type": "display_data"
    }
   ],
   "source": [
    "\n",
    "# create a clean column with labels\n",
    "def financial_stress(score):\n",
    "    if score <= 3:\n",
    "        return 'Disagree'\n",
    "    elif score == 4:\n",
    "        return 'Neutral'\n",
    "    elif score <= 7:\n",
    "        return \"Agree\"\n",
    "    else:\n",
    "        return \"Don't know.\"\n",
    "        \n",
    "df_sbs['Stressed'] = df_sbs.apply(lambda x: financial_stress(x['J33_41']),axis=1)\n",
    "\n",
    "# plot the gender distribution\n",
    "g2 = sns.catplot(x=\"Stressed\", \n",
    "            kind=\"count\",\n",
    "            hue='Gender',\n",
    "            data=df_sbs,\n",
    "            palette=(\"Blues\"))\n",
    "g2.fig.suptitle('Discussing My Finances Makes Me Feel Stressed') # can also get the figure from plt.gcf()"
   ]
  },
  {
   "cell_type": "markdown",
   "metadata": {},
   "source": [
    "41% of males report feeling stressed about discussing finances while 49% of females discuss feeling stressed."
   ]
  },
  {
   "cell_type": "markdown",
   "metadata": {},
   "source": [
    "## Discussion (including Limitations and Implications)\n",
    "\n",
    "Summarize the findings, and what they mean (implications for business, design, further research, public policy, etc). An explicit “Discussion” “Conclusion” and “Limitations” section are great! But there are other ways to organize this information too. It just needs to be there in some form."
   ]
  },
  {
   "cell_type": "code",
   "execution_count": null,
   "metadata": {},
   "outputs": [],
   "source": []
  },
  {
   "cell_type": "markdown",
   "metadata": {},
   "source": [
    "## Conclusion"
   ]
  },
  {
   "cell_type": "code",
   "execution_count": null,
   "metadata": {},
   "outputs": [],
   "source": []
  },
  {
   "cell_type": "markdown",
   "metadata": {},
   "source": [
    "## References"
   ]
  }
 ],
 "metadata": {
  "kernelspec": {
   "display_name": "Python 3",
   "language": "python",
   "name": "python3"
  },
  "language_info": {
   "codemirror_mode": {
    "name": "ipython",
    "version": 3
   },
   "file_extension": ".py",
   "mimetype": "text/x-python",
   "name": "python",
   "nbconvert_exporter": "python",
   "pygments_lexer": "ipython3",
   "version": "3.7.4"
  }
 },
 "nbformat": 4,
 "nbformat_minor": 4
}
