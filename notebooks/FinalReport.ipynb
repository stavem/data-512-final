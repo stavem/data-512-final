{
 "cells": [
  {
   "cell_type": "markdown",
   "metadata": {},
   "source": [
    "For this assignment, you will publish the complete code, data, and analysis of your final research project. The goal is to demonstrate that you can incorporate all of the human-centered design considerations you learned in this course and create research artifacts that are understandable, impactful, and reproducible.\n",
    "\n",
    "The final project report is intended to serve as...\n",
    "\n",
    "A demonstration of an end-to-end scientific research project that incorporates the principles and practices that you learned in this course. \n",
    "A rich and detailed portfolio piece that you can use to demonstrate your capabilities as a scientist and an expert data science practitioner.\n",
    "An answer to a research question that you came up with yourself because you think is both practically useful and scientifically interesting.\n",
    "An exercise in designing and conducting quality research within a particular set of constraints. \n",
    "A successful report will take the form of a well-written, well-executed research study document (plus supplementary resources, see the full requirements below) contained in a folder within your Github repository—the same folder that holds your final project plan (Assignment 5).\n",
    "\n",
    "Your previous deliverables for the final project proposal and plan (assignments 4 and 5) are part of this report: you are expected to build your report by adding more text (and, obviously, code!) to your existing project plan Jupyter Notebook.\n",
    "\n",
    "Structure of the report\n",
    "The report should be structured well, with headings and even sub-headings. Most reports should have a structure similar to this one\n",
    "\n",
    "Introduction\n",
    "Background or Related Work\n",
    "Research questions or hypotheses\n",
    "Methodology\n",
    "Findings\n",
    "Discussion (including Limitations and Implications)\n",
    "Conclusion\n",
    "References"
   ]
  }
 ],
 "metadata": {
  "kernelspec": {
   "display_name": "Python 3",
   "language": "python",
   "name": "python3"
  },
  "language_info": {
   "codemirror_mode": {
    "name": "ipython",
    "version": 3
   },
   "file_extension": ".py",
   "mimetype": "text/x-python",
   "name": "python",
   "nbconvert_exporter": "python",
   "pygments_lexer": "ipython3",
   "version": "3.7.4"
  }
 },
 "nbformat": 4,
 "nbformat_minor": 4
}
