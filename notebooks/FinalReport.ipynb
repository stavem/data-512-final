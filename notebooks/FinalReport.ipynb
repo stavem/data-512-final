{
 "cells": [
  {
   "cell_type": "markdown",
   "metadata": {},
   "source": [
    "# DATA 512 FINAL PROJECT"
   ]
  },
  {
   "cell_type": "markdown",
   "metadata": {},
   "source": [
    "A successful report will take the form of a well-written, well-executed research study document (plus supplementary resources, see the full requirements below) contained in a folder within your Github repository—the same folder that holds your final project plan (Assignment 5).\n",
    "\n",
    "Your previous deliverables for the final project proposal and plan (assignments 4 and 5) are part of this report: you are expected to build your report by adding more text (and, obviously, code!) to your existing project plan Jupyter Notebook.\n",
    "\n",
    "Structure of the report\n",
    "The report should be structured well, with headings and even sub-headings. Most reports should have a structure similar to this one\n",
    "\n",
    "Introduction\n",
    "Background or Related Work\n",
    "Research questions or hypotheses\n",
    "Methodology\n",
    "Findings\n",
    "Discussion (including Limitations and Implications)\n",
    "Conclusion\n",
    "References"
   ]
  },
  {
   "cell_type": "markdown",
   "metadata": {},
   "source": [
    "## Introduction / Motivation\n",
    "\n",
    "start with some sort of “introduction” or “motivation” section that describes what the study is about, why it is important/interesting, and note any existing research in this area and/or other related work, like articles by journalists.\n",
    "\n",
    "Contain a description of their dataset and the license or terms of use (unless these are described in the README)"
   ]
  },
  {
   "cell_type": "code",
   "execution_count": null,
   "metadata": {},
   "outputs": [],
   "source": []
  },
  {
   "cell_type": "markdown",
   "metadata": {},
   "source": [
    "## Background or Related Work"
   ]
  },
  {
   "cell_type": "code",
   "execution_count": null,
   "metadata": {},
   "outputs": [],
   "source": []
  },
  {
   "cell_type": "markdown",
   "metadata": {},
   "source": [
    "## Research questions or hypotheses\n",
    "\n",
    "Contain explicit research questions or hypotheses"
   ]
  },
  {
   "cell_type": "code",
   "execution_count": null,
   "metadata": {},
   "outputs": [],
   "source": []
  },
  {
   "cell_type": "markdown",
   "metadata": {},
   "source": [
    "## Methodology\n",
    "\n",
    "Describe the methods they used, and explain why these methods are good/appropriate methods to use\n"
   ]
  },
  {
   "cell_type": "code",
   "execution_count": null,
   "metadata": {},
   "outputs": [],
   "source": []
  },
  {
   "cell_type": "markdown",
   "metadata": {},
   "source": [
    "## Data Exploration"
   ]
  },
  {
   "cell_type": "markdown",
   "metadata": {},
   "source": []
  },
  {
   "cell_type": "code",
   "execution_count": 1,
   "metadata": {},
   "outputs": [],
   "source": [
    "# change the current working directory - use relative references later\n",
    "import os\n",
    "os.chdir('/home/jovyan/data-512/data-512-final/data-512-final')"
   ]
  },
  {
   "cell_type": "markdown",
   "metadata": {},
   "source": [
    "Since multiple files are going to be downloaded from the internet. We'll define a method to retreive the data."
   ]
  },
  {
   "cell_type": "code",
   "execution_count": 2,
   "metadata": {},
   "outputs": [],
   "source": [
    "def get_data(zip_file_url):\n",
    "    \"\"\"\n",
    "    Input: Website to extract zip file.\n",
    "    Output:  Extracted data in '/raw_data' folder\n",
    "    \"\"\"\n",
    "    import requests, zipfile, io\n",
    "    r = requests.get(zip_file_url)\n",
    "    if r.ok:\n",
    "        print('Request Succesful.')\n",
    "    else:\n",
    "        print('Error submitting request.')\n",
    "        \n",
    "    z = zipfile.ZipFile(io.BytesIO(r.content))\n",
    "    z.extractall('./raw_data')"
   ]
  },
  {
   "cell_type": "markdown",
   "metadata": {},
   "source": [
    "Call the method multiple times to save the files in the appropriate place."
   ]
  },
  {
   "cell_type": "code",
   "execution_count": 3,
   "metadata": {},
   "outputs": [],
   "source": [
    "%%capture\n",
    "import pandas as pd\n",
    "import numpy as np\n",
    "\n",
    "# download state by state data, store this in a data frame\n",
    "BASE_URL = 'https://www.usfinancialcapability.org/downloads/'\n",
    "\n",
    "file_list = ['NFCS_2018_State_by_State_Data_Excel.zip', 'NFCS_2018_Inv_Data_Excel.zip']\n",
    "\n",
    "for filename in file_list:\n",
    "    get_data(zip_file_url = BASE_URL + filename)\n",
    "        \n",
    "# read the state by state data into a dataframe\n",
    "df_sbs = pd.read_csv('raw_data/NFCS 2018 State Data 190603.csv')\n",
    "\n",
    "# read the investor data into a dataframe\n",
    "df_inv = pd.read_csv('raw_data/NFCS 2018 Investor Data 191107.csv')"
   ]
  },
  {
   "cell_type": "markdown",
   "metadata": {},
   "source": [
    "Now we can check our import results."
   ]
  },
  {
   "cell_type": "code",
   "execution_count": 4,
   "metadata": {},
   "outputs": [
    {
     "data": {
      "text/html": [
       "<div>\n",
       "<style scoped>\n",
       "    .dataframe tbody tr th:only-of-type {\n",
       "        vertical-align: middle;\n",
       "    }\n",
       "\n",
       "    .dataframe tbody tr th {\n",
       "        vertical-align: top;\n",
       "    }\n",
       "\n",
       "    .dataframe thead th {\n",
       "        text-align: right;\n",
       "    }\n",
       "</style>\n",
       "<table border=\"1\" class=\"dataframe\">\n",
       "  <thead>\n",
       "    <tr style=\"text-align: right;\">\n",
       "      <th></th>\n",
       "      <th>NFCSID</th>\n",
       "      <th>STATEQ</th>\n",
       "      <th>CENSUSDIV</th>\n",
       "      <th>CENSUSREG</th>\n",
       "      <th>A3</th>\n",
       "      <th>A3Ar_w</th>\n",
       "      <th>A3B</th>\n",
       "      <th>A4A_new_w</th>\n",
       "      <th>A5_2015</th>\n",
       "      <th>A6</th>\n",
       "      <th>...</th>\n",
       "      <th>M42</th>\n",
       "      <th>M6</th>\n",
       "      <th>M7</th>\n",
       "      <th>M8</th>\n",
       "      <th>M31</th>\n",
       "      <th>M9</th>\n",
       "      <th>M10</th>\n",
       "      <th>wgt_n2</th>\n",
       "      <th>wgt_d2</th>\n",
       "      <th>wgt_s3</th>\n",
       "    </tr>\n",
       "  </thead>\n",
       "  <tbody>\n",
       "    <tr>\n",
       "      <th>0</th>\n",
       "      <td>2018010001</td>\n",
       "      <td>48</td>\n",
       "      <td>9</td>\n",
       "      <td>4</td>\n",
       "      <td>2</td>\n",
       "      <td>5</td>\n",
       "      <td>11</td>\n",
       "      <td>1</td>\n",
       "      <td>5</td>\n",
       "      <td>4</td>\n",
       "      <td>...</td>\n",
       "      <td></td>\n",
       "      <td>1</td>\n",
       "      <td>3</td>\n",
       "      <td>98</td>\n",
       "      <td>98</td>\n",
       "      <td>98</td>\n",
       "      <td>1</td>\n",
       "      <td>0.683683</td>\n",
       "      <td>0.519642</td>\n",
       "      <td>1.095189</td>\n",
       "    </tr>\n",
       "    <tr>\n",
       "      <th>1</th>\n",
       "      <td>2018010002</td>\n",
       "      <td>10</td>\n",
       "      <td>5</td>\n",
       "      <td>3</td>\n",
       "      <td>2</td>\n",
       "      <td>2</td>\n",
       "      <td>8</td>\n",
       "      <td>1</td>\n",
       "      <td>6</td>\n",
       "      <td>1</td>\n",
       "      <td>...</td>\n",
       "      <td></td>\n",
       "      <td>1</td>\n",
       "      <td>3</td>\n",
       "      <td>98</td>\n",
       "      <td>3</td>\n",
       "      <td>1</td>\n",
       "      <td>98</td>\n",
       "      <td>0.808358</td>\n",
       "      <td>2.516841</td>\n",
       "      <td>0.922693</td>\n",
       "    </tr>\n",
       "    <tr>\n",
       "      <th>2</th>\n",
       "      <td>2018010003</td>\n",
       "      <td>44</td>\n",
       "      <td>7</td>\n",
       "      <td>3</td>\n",
       "      <td>2</td>\n",
       "      <td>2</td>\n",
       "      <td>8</td>\n",
       "      <td>1</td>\n",
       "      <td>6</td>\n",
       "      <td>1</td>\n",
       "      <td>...</td>\n",
       "      <td></td>\n",
       "      <td>1</td>\n",
       "      <td>1</td>\n",
       "      <td>98</td>\n",
       "      <td>98</td>\n",
       "      <td>1</td>\n",
       "      <td>98</td>\n",
       "      <td>1.021551</td>\n",
       "      <td>1.896192</td>\n",
       "      <td>0.671093</td>\n",
       "    </tr>\n",
       "    <tr>\n",
       "      <th>3</th>\n",
       "      <td>2018010004</td>\n",
       "      <td>10</td>\n",
       "      <td>5</td>\n",
       "      <td>3</td>\n",
       "      <td>2</td>\n",
       "      <td>1</td>\n",
       "      <td>7</td>\n",
       "      <td>1</td>\n",
       "      <td>6</td>\n",
       "      <td>2</td>\n",
       "      <td>...</td>\n",
       "      <td>7</td>\n",
       "      <td>98</td>\n",
       "      <td>98</td>\n",
       "      <td>4</td>\n",
       "      <td>4</td>\n",
       "      <td>2</td>\n",
       "      <td>98</td>\n",
       "      <td>0.808358</td>\n",
       "      <td>2.516841</td>\n",
       "      <td>0.922693</td>\n",
       "    </tr>\n",
       "    <tr>\n",
       "      <th>4</th>\n",
       "      <td>2018010005</td>\n",
       "      <td>13</td>\n",
       "      <td>8</td>\n",
       "      <td>4</td>\n",
       "      <td>1</td>\n",
       "      <td>2</td>\n",
       "      <td>2</td>\n",
       "      <td>1</td>\n",
       "      <td>6</td>\n",
       "      <td>1</td>\n",
       "      <td>...</td>\n",
       "      <td></td>\n",
       "      <td>1</td>\n",
       "      <td>3</td>\n",
       "      <td>98</td>\n",
       "      <td>2</td>\n",
       "      <td>1</td>\n",
       "      <td>98</td>\n",
       "      <td>0.448075</td>\n",
       "      <td>0.614733</td>\n",
       "      <td>1.232221</td>\n",
       "    </tr>\n",
       "  </tbody>\n",
       "</table>\n",
       "<p>5 rows × 128 columns</p>\n",
       "</div>"
      ],
      "text/plain": [
       "       NFCSID  STATEQ  CENSUSDIV  CENSUSREG  A3  A3Ar_w  A3B  A4A_new_w  \\\n",
       "0  2018010001      48          9          4   2       5   11          1   \n",
       "1  2018010002      10          5          3   2       2    8          1   \n",
       "2  2018010003      44          7          3   2       2    8          1   \n",
       "3  2018010004      10          5          3   2       1    7          1   \n",
       "4  2018010005      13          8          4   1       2    2          1   \n",
       "\n",
       "   A5_2015  A6  ...  M42  M6  M7  M8  M31  M9 M10    wgt_n2    wgt_d2  \\\n",
       "0        5   4  ...        1   3  98   98  98   1  0.683683  0.519642   \n",
       "1        6   1  ...        1   3  98    3   1  98  0.808358  2.516841   \n",
       "2        6   1  ...        1   1  98   98   1  98  1.021551  1.896192   \n",
       "3        6   2  ...    7  98  98   4    4   2  98  0.808358  2.516841   \n",
       "4        6   1  ...        1   3  98    2   1  98  0.448075  0.614733   \n",
       "\n",
       "     wgt_s3  \n",
       "0  1.095189  \n",
       "1  0.922693  \n",
       "2  0.671093  \n",
       "3  0.922693  \n",
       "4  1.232221  \n",
       "\n",
       "[5 rows x 128 columns]"
      ]
     },
     "metadata": {},
     "output_type": "display_data"
    },
    {
     "data": {
      "text/html": [
       "<div>\n",
       "<style scoped>\n",
       "    .dataframe tbody tr th:only-of-type {\n",
       "        vertical-align: middle;\n",
       "    }\n",
       "\n",
       "    .dataframe tbody tr th {\n",
       "        vertical-align: top;\n",
       "    }\n",
       "\n",
       "    .dataframe thead th {\n",
       "        text-align: right;\n",
       "    }\n",
       "</style>\n",
       "<table border=\"1\" class=\"dataframe\">\n",
       "  <thead>\n",
       "    <tr style=\"text-align: right;\">\n",
       "      <th></th>\n",
       "      <th>NFCSID</th>\n",
       "      <th>A1</th>\n",
       "      <th>A2</th>\n",
       "      <th>A3</th>\n",
       "      <th>B2_1</th>\n",
       "      <th>B2_2</th>\n",
       "      <th>B2_3</th>\n",
       "      <th>B2_4</th>\n",
       "      <th>B2_5</th>\n",
       "      <th>B2_7</th>\n",
       "      <th>...</th>\n",
       "      <th>G12</th>\n",
       "      <th>G13</th>\n",
       "      <th>H2</th>\n",
       "      <th>H3</th>\n",
       "      <th>WGT1</th>\n",
       "      <th>S_Gender</th>\n",
       "      <th>S_Age</th>\n",
       "      <th>S_Ethnicity</th>\n",
       "      <th>S_Education</th>\n",
       "      <th>S_Income</th>\n",
       "    </tr>\n",
       "  </thead>\n",
       "  <tbody>\n",
       "    <tr>\n",
       "      <th>0</th>\n",
       "      <td>2018010042</td>\n",
       "      <td>2</td>\n",
       "      <td>1</td>\n",
       "      <td>1</td>\n",
       "      <td>98</td>\n",
       "      <td>98</td>\n",
       "      <td>1</td>\n",
       "      <td>1</td>\n",
       "      <td>98</td>\n",
       "      <td>2</td>\n",
       "      <td>...</td>\n",
       "      <td>3</td>\n",
       "      <td>4</td>\n",
       "      <td>1</td>\n",
       "      <td>2</td>\n",
       "      <td>0.910655</td>\n",
       "      <td>2</td>\n",
       "      <td>3</td>\n",
       "      <td>1</td>\n",
       "      <td>1</td>\n",
       "      <td>2</td>\n",
       "    </tr>\n",
       "    <tr>\n",
       "      <th>1</th>\n",
       "      <td>2018010047</td>\n",
       "      <td>1</td>\n",
       "      <td>1</td>\n",
       "      <td>1</td>\n",
       "      <td>1</td>\n",
       "      <td>1</td>\n",
       "      <td>1</td>\n",
       "      <td>1</td>\n",
       "      <td>1</td>\n",
       "      <td>2</td>\n",
       "      <td>...</td>\n",
       "      <td>2</td>\n",
       "      <td>2</td>\n",
       "      <td>1</td>\n",
       "      <td>1</td>\n",
       "      <td>1.566608</td>\n",
       "      <td>1</td>\n",
       "      <td>1</td>\n",
       "      <td>2</td>\n",
       "      <td>2</td>\n",
       "      <td>2</td>\n",
       "    </tr>\n",
       "    <tr>\n",
       "      <th>2</th>\n",
       "      <td>2018010050</td>\n",
       "      <td>2</td>\n",
       "      <td>1</td>\n",
       "      <td>1</td>\n",
       "      <td>1</td>\n",
       "      <td>1</td>\n",
       "      <td>2</td>\n",
       "      <td>2</td>\n",
       "      <td>2</td>\n",
       "      <td>2</td>\n",
       "      <td>...</td>\n",
       "      <td>98</td>\n",
       "      <td>98</td>\n",
       "      <td>1</td>\n",
       "      <td>2</td>\n",
       "      <td>0.609443</td>\n",
       "      <td>2</td>\n",
       "      <td>3</td>\n",
       "      <td>1</td>\n",
       "      <td>2</td>\n",
       "      <td>2</td>\n",
       "    </tr>\n",
       "    <tr>\n",
       "      <th>3</th>\n",
       "      <td>2018010051</td>\n",
       "      <td>1</td>\n",
       "      <td>1</td>\n",
       "      <td>1</td>\n",
       "      <td>2</td>\n",
       "      <td>2</td>\n",
       "      <td>1</td>\n",
       "      <td>2</td>\n",
       "      <td>1</td>\n",
       "      <td>2</td>\n",
       "      <td>...</td>\n",
       "      <td>1</td>\n",
       "      <td>4</td>\n",
       "      <td>1</td>\n",
       "      <td>2</td>\n",
       "      <td>0.609443</td>\n",
       "      <td>1</td>\n",
       "      <td>3</td>\n",
       "      <td>1</td>\n",
       "      <td>2</td>\n",
       "      <td>2</td>\n",
       "    </tr>\n",
       "    <tr>\n",
       "      <th>4</th>\n",
       "      <td>2018010053</td>\n",
       "      <td>1</td>\n",
       "      <td>1</td>\n",
       "      <td>1</td>\n",
       "      <td>1</td>\n",
       "      <td>1</td>\n",
       "      <td>1</td>\n",
       "      <td>1</td>\n",
       "      <td>2</td>\n",
       "      <td>1</td>\n",
       "      <td>...</td>\n",
       "      <td>3</td>\n",
       "      <td>4</td>\n",
       "      <td>1</td>\n",
       "      <td>1</td>\n",
       "      <td>0.609443</td>\n",
       "      <td>1</td>\n",
       "      <td>3</td>\n",
       "      <td>1</td>\n",
       "      <td>2</td>\n",
       "      <td>3</td>\n",
       "    </tr>\n",
       "  </tbody>\n",
       "</table>\n",
       "<p>5 rows × 105 columns</p>\n",
       "</div>"
      ],
      "text/plain": [
       "       NFCSID  A1  A2  A3  B2_1  B2_2  B2_3  B2_4  B2_5  B2_7  ...  G12  G13  \\\n",
       "0  2018010042   2   1   1    98    98     1     1    98     2  ...    3    4   \n",
       "1  2018010047   1   1   1     1     1     1     1     1     2  ...    2    2   \n",
       "2  2018010050   2   1   1     1     1     2     2     2     2  ...   98   98   \n",
       "3  2018010051   1   1   1     2     2     1     2     1     2  ...    1    4   \n",
       "4  2018010053   1   1   1     1     1     1     1     2     1  ...    3    4   \n",
       "\n",
       "   H2  H3      WGT1  S_Gender  S_Age  S_Ethnicity  S_Education S_Income  \n",
       "0   1   2  0.910655         2      3            1            1        2  \n",
       "1   1   1  1.566608         1      1            2            2        2  \n",
       "2   1   2  0.609443         2      3            1            2        2  \n",
       "3   1   2  0.609443         1      3            1            2        2  \n",
       "4   1   1  0.609443         1      3            1            2        3  \n",
       "\n",
       "[5 rows x 105 columns]"
      ]
     },
     "metadata": {},
     "output_type": "display_data"
    }
   ],
   "source": [
    "# Check the import results.\n",
    "display(df_sbs.head())\n",
    "display(df_inv.head())"
   ]
  },
  {
   "cell_type": "code",
   "execution_count": 5,
   "metadata": {},
   "outputs": [],
   "source": [
    "import pandas as pd\n",
    "import numpy as np\n",
    "import os\n",
    "\n",
    "# import libraries for visualizations\n",
    "import matplotlib.pyplot as plt\n",
    "import seaborn as sns\n",
    "\n",
    "# magic code for viewing plots using jupyter notebooks:\n",
    "%matplotlib inline"
   ]
  },
  {
   "cell_type": "markdown",
   "metadata": {},
   "source": [
    "---\n",
    "# DEMOGRAPHICS\n",
    "There were a total of 27,091 respondents in the survey.   A higher number of respondents identified as female."
   ]
  },
  {
   "cell_type": "code",
   "execution_count": 1,
   "metadata": {},
   "outputs": [
    {
     "ename": "NameError",
     "evalue": "name 'df_sbs' is not defined",
     "output_type": "error",
     "traceback": [
      "\u001b[0;31m---------------------------------------------------------------------------\u001b[0m",
      "\u001b[0;31mNameError\u001b[0m                                 Traceback (most recent call last)",
      "\u001b[0;32m<ipython-input-1-34a3378a1cac>\u001b[0m in \u001b[0;36m<module>\u001b[0;34m\u001b[0m\n\u001b[1;32m      1\u001b[0m \u001b[0;31m# create a nicer column for gender\u001b[0m\u001b[0;34m\u001b[0m\u001b[0;34m\u001b[0m\u001b[0;34m\u001b[0m\u001b[0m\n\u001b[0;32m----> 2\u001b[0;31m \u001b[0mdf_sbs\u001b[0m\u001b[0;34m[\u001b[0m\u001b[0;34m'Gender'\u001b[0m\u001b[0;34m]\u001b[0m \u001b[0;34m=\u001b[0m \u001b[0mdf_sbs\u001b[0m\u001b[0;34m[\u001b[0m\u001b[0;34m'A3'\u001b[0m\u001b[0;34m]\u001b[0m\u001b[0;34m.\u001b[0m\u001b[0mapply\u001b[0m\u001b[0;34m(\u001b[0m\u001b[0;32mlambda\u001b[0m \u001b[0mx\u001b[0m\u001b[0;34m:\u001b[0m \u001b[0;34m'Male'\u001b[0m \u001b[0;32mif\u001b[0m \u001b[0mx\u001b[0m \u001b[0;34m==\u001b[0m \u001b[0;36m1\u001b[0m \u001b[0;32melse\u001b[0m \u001b[0;34m'Female'\u001b[0m\u001b[0;34m)\u001b[0m\u001b[0;34m\u001b[0m\u001b[0;34m\u001b[0m\u001b[0m\n\u001b[0m",
      "\u001b[0;31mNameError\u001b[0m: name 'df_sbs' is not defined"
     ]
    }
   ],
   "source": [
    "# create a nicer column for gender\n",
    "df_sbs['Gender'] = df_sbs['A3'].apply(lambda x: 'Male' if x == 1 else 'Female')"
   ]
  },
  {
   "cell_type": "code",
   "execution_count": 6,
   "metadata": {},
   "outputs": [
    {
     "name": "stdout",
     "output_type": "stream",
     "text": [
      "Gender\n",
      "Female    15135\n",
      "Male      11956\n",
      "dtype: int64\n"
     ]
    },
    {
     "data": {
      "text/plain": [
       "<seaborn.axisgrid.FacetGrid at 0x7f5d71d20250>"
      ]
     },
     "execution_count": 6,
     "metadata": {},
     "output_type": "execute_result"
    },
    {
     "data": {
      "image/png": "[encoded data removed]",
      "text/plain": [
       "<Figure size 360x360 with 1 Axes>"
      ]
     },
     "metadata": {
      "needs_background": "light"
     },
     "output_type": "display_data"
    }
   ],
   "source": [
    "# print the number in each gender\n",
    "print(df_sbs[['Gender']].value_counts())\n",
    "\n",
    "# plot the gender distribution\n",
    "sns.catplot(x=\"Gender\", \n",
    "            kind=\"count\", \n",
    "            data=df_sbs,\n",
    "            palette=(\"Blues\"))"
   ]
  },
  {
   "cell_type": "markdown",
   "metadata": {},
   "source": [
    "---\n",
    "# PARTICIPATION\n",
    "Initially it appears that quite a bit of the female respondents hold an investment account"
   ]
  },
  {
   "cell_type": "code",
   "execution_count": 7,
   "metadata": {},
   "outputs": [
    {
     "data": {
      "text/plain": [
       "Text(0.5, 0.98, 'Do you or your spouse hold an employer-provided retirement account?')"
      ]
     },
     "execution_count": 7,
     "metadata": {},
     "output_type": "execute_result"
    },
    {
     "data": {
      "image/png": "[encoded data removed]",
      "text/plain": [
       "<Figure size 432.625x360 with 1 Axes>"
      ]
     },
     "metadata": {
      "needs_background": "light"
     },
     "output_type": "display_data"
    }
   ],
   "source": [
    "# who has access to an investment account\n",
    "\n",
    "# create a clean column with labels\n",
    "def set_employer_retirement_accounts(score):\n",
    "    if score == 1:\n",
    "        return 'Yes'\n",
    "    elif score == 2:\n",
    "        return 'No'\n",
    "    else:\n",
    "        return \"Unknown\"\n",
    "        \n",
    "df_sbs['Hold_Retirement_Account'] = df_sbs.apply(lambda x: set_employer_retirement_accounts(x['C1_2012']),axis=1)\n",
    "\n",
    "# plot the gender distribution\n",
    "g3 = sns.catplot(x=\"Hold_Retirement_Account\", \n",
    "            kind=\"count\",\n",
    "            hue='Gender',\n",
    "            data=df_sbs,\n",
    "            order=[\"Yes\", \"No\", \"Unknown\"],\n",
    "            palette=(\"Blues\"))\n",
    "g3.fig.suptitle('Do you or your spouse hold an employer-provided retirement account?') "
   ]
  },
  {
   "cell_type": "markdown",
   "metadata": {},
   "source": [
    "Looking at those results as a percentage of respondents, about 53.5% of female respondents hold a retirement account while about 61.2% of male respondents hold a retirement account.  Out of 27,000 respondents about 15,000 have "
   ]
  },
  {
   "cell_type": "code",
   "execution_count": 8,
   "metadata": {},
   "outputs": [
    {
     "data": {
      "text/plain": [
       "Text(0.5, 0.98, 'Do you or your spouse hold another type of retirement account?')"
      ]
     },
     "execution_count": 8,
     "metadata": {},
     "output_type": "execute_result"
    },
    {
     "data": {
      "image/png": "[encoded data removed]",
      "text/plain": [
       "<Figure size 432.625x360 with 1 Axes>"
      ]
     },
     "metadata": {
      "needs_background": "light"
     },
     "output_type": "display_data"
    }
   ],
   "source": [
    "# who has access to an investment account\n",
    "\n",
    "# create a clean column with labels\n",
    "def set_self_retirement_accounts(score):\n",
    "    if score == 1:\n",
    "        return 'Yes'\n",
    "    elif score == 2:\n",
    "        return 'No'\n",
    "    else:\n",
    "        return \"Unknown\"\n",
    "        \n",
    "df_sbs['Hold_Self_Retirement_Account'] = df_sbs.apply(lambda x: set_self_retirement_accounts(x['C4_2012']),axis=1)\n",
    "\n",
    "# plot the gender distribution\n",
    "g3 = sns.catplot(x=\"Hold_Self_Retirement_Account\", \n",
    "            kind=\"count\",\n",
    "            hue='Gender',\n",
    "            data=df_sbs,\n",
    "            order=[\"Yes\", \"No\", \"Unknown\"],\n",
    "            palette=(\"Blues\"))\n",
    "g3.fig.suptitle('Do you or your spouse hold another type of retirement account?') "
   ]
  },
  {
   "cell_type": "code",
   "execution_count": 9,
   "metadata": {},
   "outputs": [
    {
     "data": {
      "text/plain": [
       "Text(0.5, 0.98, 'Do you or your spouse hold another type of investment account?')"
      ]
     },
     "execution_count": 9,
     "metadata": {},
     "output_type": "execute_result"
    },
    {
     "data": {
      "image/png": "[encoded data removed]",
      "text/plain": [
       "<Figure size 432.625x360 with 1 Axes>"
      ]
     },
     "metadata": {
      "needs_background": "light"
     },
     "output_type": "display_data"
    }
   ],
   "source": [
    "# who has access to an investment account\n",
    "\n",
    "# create a clean column with labels\n",
    "def set_investment_accounts(score):\n",
    "    if score == '1':\n",
    "        return 'Yes'\n",
    "    elif score == '2':\n",
    "        return 'No'\n",
    "    else:\n",
    "        return \"Unknown\"\n",
    "        \n",
    "df_sbs['Other_Market_Investments'] = df_sbs.apply(lambda x: set_investment_accounts(x['B14']),axis=1)\n",
    "\n",
    "# plot the gender distribution\n",
    "g5 = sns.catplot(x=\"Other_Market_Investments\", \n",
    "            kind=\"count\",\n",
    "            hue='Gender',\n",
    "            data=df_sbs,\n",
    "            order=[\"Yes\", \"No\", \"Unknown\"],\n",
    "            palette=(\"Blues\"))\n",
    "g5.fig.suptitle('Do you or your spouse hold another type of investment account?') "
   ]
  },
  {
   "cell_type": "code",
   "execution_count": 10,
   "metadata": {},
   "outputs": [
    {
     "data": {
      "text/plain": [
       "Text(0.5, 0.98, 'Do you participate in the market in some way?')"
      ]
     },
     "execution_count": 10,
     "metadata": {},
     "output_type": "execute_result"
    },
    {
     "data": {
      "image/png": "[encoded data removed]",
      "text/plain": [
       "<Figure size 432.625x360 with 1 Axes>"
      ]
     },
     "metadata": {
      "needs_background": "light"
     },
     "output_type": "display_data"
    }
   ],
   "source": [
    "# who has access to an investment account\n",
    "\n",
    "# create a clean column with labels\n",
    "def set_participant(account1, account2, account3):\n",
    "    if 'Yes' in {account1, account2, account3}:\n",
    "        return 'Yes'\n",
    "    else:\n",
    "        return \"No\"\n",
    "        \n",
    "df_sbs['Market_Participant'] = df_sbs.apply(lambda x: set_participant(x['Hold_Retirement_Account'], x['Hold_Self_Retirement_Account'], x['Other_Market_Investments']),axis=1)\n",
    "\n",
    "# plot the gender distribution\n",
    "g5 = sns.catplot(x=\"Market_Participant\", \n",
    "            kind=\"count\",\n",
    "            hue='Gender',\n",
    "            data=df_sbs,\n",
    "            order=[\"Yes\", \"No\"],\n",
    "            palette=(\"Blues\"))\n",
    "g5.fig.suptitle('Do you participate in the market in some way?') "
   ]
  },
  {
   "cell_type": "code",
   "execution_count": 11,
   "metadata": {},
   "outputs": [
    {
     "data": {
      "text/plain": [
       "Gender  Market_Participant\n",
       "Female  Yes                   0.62775\n",
       "        No                    0.37225\n",
       "dtype: float64"
      ]
     },
     "execution_count": 11,
     "metadata": {},
     "output_type": "execute_result"
    }
   ],
   "source": [
    "df_sbs[(df_sbs['Gender'] =='Female')][['Gender','Market_Participant']].value_counts(normalize=True)"
   ]
  },
  {
   "cell_type": "code",
   "execution_count": 12,
   "metadata": {},
   "outputs": [
    {
     "data": {
      "text/plain": [
       "Gender  Market_Participant\n",
       "Male    Yes                   0.725828\n",
       "        No                    0.274172\n",
       "dtype: float64"
      ]
     },
     "execution_count": 12,
     "metadata": {},
     "output_type": "execute_result"
    }
   ],
   "source": [
    "df_sbs[(df_sbs['Gender'] =='Male')][['Gender','Market_Participant']].value_counts(normalize=True)"
   ]
  },
  {
   "cell_type": "markdown",
   "metadata": {},
   "source": [
    "In other words, about 62% of all female respondents participated in the market in some way.   However, about 72% of males particpate in the market in some way."
   ]
  },
  {
   "cell_type": "code",
   "execution_count": 13,
   "metadata": {},
   "outputs": [
    {
     "data": {
      "text/plain": [
       "Gender  Hold_Retirement_Account\n",
       "Female  Yes                        8099\n",
       "Male    Yes                        7322\n",
       "dtype: int64"
      ]
     },
     "execution_count": 13,
     "metadata": {},
     "output_type": "execute_result"
    }
   ],
   "source": [
    "df_sbs[(df_sbs['Hold_Retirement_Account'] =='Yes')][['Gender','Hold_Retirement_Account']].value_counts()"
   ]
  },
  {
   "cell_type": "markdown",
   "metadata": {},
   "source": [
    "It's difficult to see who's account these actually belong to.   There is a lot of unknown data.   Not clear the gender of the partner, lots of respondents with unknown or non responses to this question."
   ]
  },
  {
   "cell_type": "code",
   "execution_count": 15,
   "metadata": {},
   "outputs": [
    {
     "data": {
      "text/plain": [
       "Text(0.5, 0.98, 'Who owns the retirement account?')"
      ]
     },
     "execution_count": 15,
     "metadata": {},
     "output_type": "execute_result"
    },
    {
     "data": {
      "image/png": "[encoded data removed]",
      "text/plain": [
       "<Figure size 360x360 with 1 Axes>"
      ]
     },
     "metadata": {
      "needs_background": "light"
     },
     "output_type": "display_data"
    }
   ],
   "source": [
    "# create a clean column with labels\n",
    "def who_owns_account(gender, account, owner):\n",
    "    if account == 'Yes':\n",
    "        if gender == 'Female' and owner in ('1', '3'):\n",
    "            return 'Female Respondent Has Employer Provided Retirement Account'\n",
    "        elif  owner in ('98','99', ' '):\n",
    "            return 'Unknown'\n",
    "        else:\n",
    "            return \"Someone else owns the account\"\n",
    "\n",
    "\n",
    "df_sbs['Account_Owner'] = df_sbs.apply(lambda x: who_owns_account(x['Gender'], x['Hold_Retirement_Account'], x['C2_2012']),axis=1)\n",
    "\n",
    "\n",
    "g3 = sns.catplot(y=\"Account_Owner\", \n",
    "            kind=\"count\",\n",
    "            data=df_sbs.where(df_sbs['C1_2012'] == 1),\n",
    "            order=['Female Respondent Has Employer Provided Retirement Account', \"Someone else owns the account\", \"Unknown\"],\n",
    "            palette=(\"Blues\"))\n",
    "g3.fig.suptitle('Who owns the retirement account?')"
   ]
  },
  {
   "cell_type": "code",
   "execution_count": 16,
   "metadata": {},
   "outputs": [
    {
     "data": {
      "text/plain": [
       "Gender  Account_Owner                                             \n",
       "Female  Female Respondent Has Employer Provided Retirement Account    0.465613\n",
       "        Unknown                                                       0.303988\n",
       "        Someone else owns the account                                 0.230399\n",
       "dtype: float64"
      ]
     },
     "execution_count": 16,
     "metadata": {},
     "output_type": "execute_result"
    }
   ],
   "source": [
    "df_sbs[(df_sbs['Gender'] =='Female')][['Gender','Account_Owner']].value_counts(normalize=True)"
   ]
  },
  {
   "cell_type": "markdown",
   "metadata": {},
   "source": [
    "---\n",
    "# ATTITUDES"
   ]
  },
  {
   "cell_type": "markdown",
   "metadata": {},
   "source": [
    "Who knows more about investing?   There's not  a huge knowledge gap."
   ]
  },
  {
   "cell_type": "code",
   "execution_count": 17,
   "metadata": {},
   "outputs": [
    {
     "data": {
      "text/plain": [
       "Text(0.5, 0.98, 'Who knows about investing?')"
      ]
     },
     "execution_count": 17,
     "metadata": {},
     "output_type": "execute_result"
    },
    {
     "data": {
      "image/png": "[encoded data removed]",
      "text/plain": [
       "<Figure size 360x360 with 1 Axes>"
      ]
     },
     "metadata": {
      "needs_background": "light"
     },
     "output_type": "display_data"
    }
   ],
   "source": [
    "# create a clean column with labels\n",
    "def set_knowledge(gender, knower):\n",
    "    if gender == 'Female' and knower in ('1'):\n",
    "        return 'Female Respondent Knows More'\n",
    "    if gender == 'Male' and knower in ('1'):\n",
    "        return 'Male Respondent Knows More'\n",
    "    else:\n",
    "        return 'Other'\n",
    "        \n",
    "df_sbs['Investment_Knowledge'] = df_sbs.apply(lambda x: set_knowledge(x['Gender'], x['A14']),axis=1)\n",
    "\n",
    "\n",
    "g3 = sns.catplot(y=\"Investment_Knowledge\", \n",
    "            kind=\"count\",\n",
    "            data=df_sbs,\n",
    "            palette=(\"Blues\"))\n",
    "g3.fig.suptitle('Who knows about investing?')"
   ]
  },
  {
   "cell_type": "markdown",
   "metadata": {},
   "source": [
    "Fear about financial products, not a lot of fear compared to men"
   ]
  },
  {
   "cell_type": "markdown",
   "metadata": {},
   "source": [
    "Let's look at the access to capital for women vs. men:"
   ]
  },
  {
   "cell_type": "code",
   "execution_count": 18,
   "metadata": {},
   "outputs": [
    {
     "data": {
      "text/plain": [
       "<seaborn.axisgrid.FacetGrid at 0x7f5d74027c10>"
      ]
     },
     "execution_count": 18,
     "metadata": {},
     "output_type": "execute_result"
    },
    {
     "data": {
      "image/png": "[encoded data removed]",
      "text/plain": [
       "<Figure size 432.625x360 with 1 Axes>"
      ]
     },
     "metadata": {
      "needs_background": "light"
     },
     "output_type": "display_data"
    }
   ],
   "source": [
    "# create a clean column with labels\n",
    "def income_categories(score):\n",
    "    switcher = {\n",
    "        1: \"Less than \\$15,000\",\n",
    "        2: \"At least \\$15,000 but less than \\$25,000\",\n",
    "        3: \"At least \\$25,000 but less than \\$35,000\",\n",
    "        4: \"At least \\$35,000 but less than \\$50,000\",\n",
    "        5: \"At least \\$50,000 but less than \\$75,000\",\n",
    "        6: \"At least \\$75,000 but less than \\$100,000\",\n",
    "        7: \"At least \\$100,000 but less than \\$150,000\",\n",
    "        8: \"\\$150,000 or more\",\n",
    "        98: \"Unknown\",\n",
    "        99: \"Unknown\"\n",
    "    }\n",
    "    return switcher.get(score, \"Unknown\")\n",
    "        \n",
    "df_sbs['Income_Category'] = df_sbs.apply(lambda x: income_categories(x['A8']),axis=1)\n",
    "\n",
    "# plot the gender distribution\n",
    "sns.catplot(y=\"Income_Category\", \n",
    "            kind=\"count\", \n",
    "            data=df_sbs.sort_values(['A8']),\n",
    "            hue=\"Gender\",\n",
    "            palette=(\"Blues\"))"
   ]
  },
  {
   "cell_type": "code",
   "execution_count": 19,
   "metadata": {},
   "outputs": [
    {
     "data": {
      "text/plain": [
       "<seaborn.axisgrid.FacetGrid at 0x7f5da2202050>"
      ]
     },
     "execution_count": 19,
     "metadata": {},
     "output_type": "execute_result"
    },
    {
     "data": {
      "image/png": "[encoded data removed]",
      "text/plain": [
       "<Figure size 432.625x360 with 1 Axes>"
      ]
     },
     "metadata": {
      "needs_background": "light"
     },
     "output_type": "display_data"
    }
   ],
   "source": [
    "# create a clean column with labels\n",
    "def set_spending(score):\n",
    "    switcher = {\n",
    "        1: \"Very difficult\",\n",
    "        2: \"Somewhat difficult\",\n",
    "        3: \"Not at all difficult\",\n",
    "        98: \"Unknown\",\n",
    "        99: \"Unknown\"\n",
    "    }\n",
    "    return switcher.get(score, \"Unknown\")\n",
    "        \n",
    "df_sbs['Spending_vs_Income'] = df_sbs.apply(lambda x: set_spending(x['J4']),axis=1)\n",
    "\n",
    "# plot the gender distribution\n",
    "sns.catplot(y=\"Spending_vs_Income\", \n",
    "            kind=\"count\", \n",
    "            data=df_sbs,\n",
    "            hue=\"Gender\",\n",
    "            palette=(\"Blues\"))"
   ]
  },
  {
   "cell_type": "markdown",
   "metadata": {},
   "source": [
    "General feelings about discussing finanaces:"
   ]
  },
  {
   "cell_type": "code",
   "execution_count": 20,
   "metadata": {},
   "outputs": [
    {
     "data": {
      "text/plain": [
       "Text(0.5, 0.98, 'Discussing My Finances Makes Me Feel Stressed')"
      ]
     },
     "execution_count": 20,
     "metadata": {},
     "output_type": "execute_result"
    },
    {
     "data": {
      "image/png": "[encoded data removed]",
      "text/plain": [
       "<Figure size 432.625x360 with 1 Axes>"
      ]
     },
     "metadata": {
      "needs_background": "light"
     },
     "output_type": "display_data"
    }
   ],
   "source": [
    "\n",
    "# create a clean column with labels\n",
    "def financial_stress(score):\n",
    "    if score <= 3:\n",
    "        return 'Disagree'\n",
    "    elif score == 4:\n",
    "        return 'Neutral'\n",
    "    elif score <= 7:\n",
    "        return \"Agree\"\n",
    "    else:\n",
    "        return \"Don't know.\"\n",
    "        \n",
    "df_sbs['Stressed'] = df_sbs.apply(lambda x: financial_stress(x['J33_41']),axis=1)\n",
    "\n",
    "# plot the gender distribution\n",
    "g2 = sns.catplot(x=\"Stressed\", \n",
    "            kind=\"count\",\n",
    "            hue='Gender',\n",
    "            data=df_sbs,\n",
    "            palette=(\"Blues\"))\n",
    "g2.fig.suptitle('Discussing My Finances Makes Me Feel Stressed') # can also get the figure from plt.gcf()"
   ]
  },
  {
   "cell_type": "markdown",
   "metadata": {},
   "source": [
    "41% of males report feeling stressed about discussing finances while 49% of females discuss feeling stressed."
   ]
  },
  {
   "cell_type": "markdown",
   "metadata": {},
   "source": [
    "Let's look at the types of employment."
   ]
  },
  {
   "cell_type": "code",
   "execution_count": 21,
   "metadata": {},
   "outputs": [
    {
     "data": {
      "text/plain": [
       "<seaborn.axisgrid.FacetGrid at 0x7f5d73bd42d0>"
      ]
     },
     "execution_count": 21,
     "metadata": {},
     "output_type": "execute_result"
    },
    {
     "data": {
      "image/png": "[encoded data removed]",
      "text/plain": [
       "<Figure size 432.625x360 with 1 Axes>"
      ]
     },
     "metadata": {
      "needs_background": "light"
     },
     "output_type": "display_data"
    }
   ],
   "source": [
    "# create a clean column with labels\n",
    "def set_employment_status(score):\n",
    "    switcher = {\n",
    "        1: \"Self-employed\",\n",
    "        2: \"Work full-time for an employer\",\n",
    "        3: \"Work part-time for an employer\",\n",
    "        4: \"Homemaker\",\n",
    "        5: \"Full-time student\",\n",
    "        6: \"Permanently sick, disabled, or unable to work\",\n",
    "        7: \"Unemployed or temporarily laid off\",\n",
    "        8: \"Retired\",\n",
    "        99: \"Unknown\"\n",
    "    }\n",
    "    return switcher.get(score, \"Unknown\")\n",
    "        \n",
    "df_sbs['Employment_Status'] = df_sbs.apply(lambda x: set_employment_status(x['A9']),axis=1)\n",
    "\n",
    "# plot the gender distribution\n",
    "sns.catplot(y=\"Employment_Status\", \n",
    "            kind=\"count\", \n",
    "            data=df_sbs,\n",
    "            hue=\"Gender\",\n",
    "            palette=(\"Blues\"))"
   ]
  },
  {
   "cell_type": "markdown",
   "metadata": {},
   "source": [
    "It's clear that an overwhelming majority of full-time respondents are male.   If we group this, we see\n"
   ]
  },
  {
   "cell_type": "code",
   "execution_count": 22,
   "metadata": {},
   "outputs": [
    {
     "data": {
      "text/plain": [
       "<seaborn.axisgrid.FacetGrid at 0x7f5d75463a10>"
      ]
     },
     "execution_count": 22,
     "metadata": {},
     "output_type": "execute_result"
    },
    {
     "data": {
      "image/png": "[encoded data removed]",
      "text/plain": [
       "<Figure size 432.625x360 with 1 Axes>"
      ]
     },
     "metadata": {
      "needs_background": "light"
     },
     "output_type": "display_data"
    }
   ],
   "source": [
    "# create a clean column with labels\n",
    "def set_fulltime_employment_status(score):\n",
    "    switcher = {\n",
    "        1: \"Other\",\n",
    "        2: \"Full-time\",\n",
    "        3: \"Part-time\",\n",
    "        4: \"Other\",\n",
    "        5: \"Other\",\n",
    "        6: \"Other\",\n",
    "        7: \"Other\",\n",
    "        8: \"Retired\",\n",
    "        99: \"Unknown\"\n",
    "    }\n",
    "    return switcher.get(score, \"Unknown\")\n",
    "        \n",
    "df_sbs['Fulltime_Employment_Status'] = df_sbs.apply(lambda x: set_fulltime_employment_status(x['A9']),axis=1)\n",
    "\n",
    "# plot the gender distribution\n",
    "sns.catplot(y=\"Fulltime_Employment_Status\", \n",
    "            kind=\"count\", \n",
    "            data=df_sbs,\n",
    "            hue=\"Gender\",\n",
    "            order=[\"Full-time\",\"Part-time\",\"Other\",\"Retired\"],\n",
    "            palette=(\"Blues\"))"
   ]
  },
  {
   "cell_type": "code",
   "execution_count": 25,
   "metadata": {},
   "outputs": [
    {
     "data": {
      "text/plain": [
       "<seaborn.axisgrid.FacetGrid at 0x7f5d7198dbd0>"
      ]
     },
     "execution_count": 25,
     "metadata": {},
     "output_type": "execute_result"
    },
    {
     "data": {
      "image/png": "[encoded data removed]",
      "text/plain": [
       "<Figure size 461.625x360 with 1 Axes>"
      ]
     },
     "metadata": {
      "needs_background": "light"
     },
     "output_type": "display_data"
    }
   ],
   "source": [
    "# this is clearly a likely entry point for investment\n",
    "# plot the gender distribution\n",
    "sns.catplot(y=\"Fulltime_Employment_Status\", \n",
    "            kind=\"count\", \n",
    "            data=df_sbs[~df_sbs.Hold_Retirement_Account.eq(\"Don't know\")],\n",
    "            hue=\"Market_Participant\",\n",
    "            order=[\"Full-time\",\"Part-time\",\"Other\",\"Retired\"],\n",
    "            palette=(\"Greens\"))"
   ]
  },
  {
   "cell_type": "code",
   "execution_count": 26,
   "metadata": {},
   "outputs": [],
   "source": [
    "df_sbs.to_csv('cleaned_data.csv',index=False)"
   ]
  },
  {
   "cell_type": "markdown",
   "metadata": {},
   "source": [
    "## Findings"
   ]
  },
  {
   "cell_type": "code",
   "execution_count": null,
   "metadata": {},
   "outputs": [],
   "source": []
  },
  {
   "cell_type": "markdown",
   "metadata": {},
   "source": [
    "## Discussion (including Limitations and Implications)\n",
    "\n",
    "Summarize the findings, and what they mean (implications for business, design, further research, public policy, etc). An explicit “Discussion” “Conclusion” and “Limitations” section are great! But there are other ways to organize this information too. It just needs to be there in some form."
   ]
  },
  {
   "cell_type": "code",
   "execution_count": null,
   "metadata": {},
   "outputs": [],
   "source": []
  },
  {
   "cell_type": "markdown",
   "metadata": {},
   "source": [
    "## Conclusion"
   ]
  },
  {
   "cell_type": "code",
   "execution_count": null,
   "metadata": {},
   "outputs": [],
   "source": []
  },
  {
   "cell_type": "markdown",
   "metadata": {},
   "source": [
    "## References"
   ]
  }
 ],
 "metadata": {
  "kernelspec": {
   "display_name": "Python 3",
   "language": "python",
   "name": "python3"
  },
  "language_info": {
   "codemirror_mode": {
    "name": "ipython",
    "version": 3
   },
   "file_extension": ".py",
   "mimetype": "text/x-python",
   "name": "python",
   "nbconvert_exporter": "python",
   "pygments_lexer": "ipython3",
   "version": "3.7.4"
  }
 },
 "nbformat": 4,
 "nbformat_minor": 4
}
