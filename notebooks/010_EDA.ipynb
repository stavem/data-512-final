{
 "cells": [
  {
   "cell_type": "code",
   "execution_count": 13,
   "metadata": {},
   "outputs": [],
   "source": [
    "# change the current working directory - use relative references later\n",
    "import os\n",
    "os.chdir('/home/jovyan/data-512/data-512-final/data-512-final')"
   ]
  },
  {
   "cell_type": "markdown",
   "metadata": {},
   "source": [
    "Since multiple files are going to be downloaded from the internet.   We'll define a method to retreive the data."
   ]
  },
  {
   "cell_type": "code",
   "execution_count": 14,
   "metadata": {},
   "outputs": [],
   "source": [
    "def get_data(zip_file_url):\n",
    "    \"\"\"\n",
    "    Input: Website to extract zip file.\n",
    "    Output:  Extracted data in '/raw_data' folder\n",
    "    \"\"\"\n",
    "    \n",
    "    import requests, zipfile, io\n",
    "    r = requests.get(zip_file_url)\n",
    "    if r.ok:\n",
    "        print('Request Succesful.')\n",
    "    else:\n",
    "        print('Error submitting request.')\n",
    "        \n",
    "    z = zipfile.ZipFile(io.BytesIO(r.content))\n",
    "    z.extractall('./raw_data')"
   ]
  },
  {
   "cell_type": "code",
   "execution_count": 7,
   "metadata": {},
   "outputs": [
    {
     "name": "stdout",
     "output_type": "stream",
     "text": [
      "Request Succesful.\n",
      "Request Succesful.\n"
     ]
    }
   ],
   "source": [
    "# download state by state data, store this in a data frame\n",
    "BASE_URL = 'https://www.usfinancialcapability.org/downloads/'\n",
    "\n",
    "file_list = ['NFCS_2018_State_by_State_Tracking_Data_Excel.zip', 'NFCS_2018_Inv_Data_Excel.zip']\n",
    "\n",
    "for filename in file_list:\n",
    "    get_data(zip_file_url = BASE_URL + filename)\n",
    "        \n",
    "# read the state by state data into a dataframe\n",
    "df_sbs = pd.read_csv('raw_data/NFCS 2018 State Data 190603.csv')\n",
    "\n",
    "# read the investor data into a dataframe\n",
    "df_inv = pd.read_csv('raw_data/NFCS 2018 Investor Data_191107.csv')"
   ]
  },
  {
   "cell_type": "code",
   "execution_count": 1,
   "metadata": {},
   "outputs": [],
   "source": [
    "def get_data(zip_file_url):\n",
    "    \"\"\"\n",
    "    Input: Website to extract zip file.\n",
    "    Output:  Extracted data in '/raw_data' folder\n",
    "    \"\"\"\n",
    "    \n",
    "    import requests, zipfile, io\n",
    "    r = requests.get(zip_file_url)\n",
    "    if r.ok:\n",
    "        print('Request Succesful.')\n",
    "    else:\n",
    "        print('Error submitting request.')\n",
    "        \n",
    "    z = zipfile.ZipFile(io.BytesIO(r.content))\n",
    "    z.extractall('../raw_data')\n",
    "    "
   ]
  },
  {
   "cell_type": "code",
   "execution_count": 4,
   "metadata": {},
   "outputs": [
    {
     "name": "stdout",
     "output_type": "stream",
     "text": [
      "True\n"
     ]
    }
   ],
   "source": [
    "import requests, zipfile, io\n",
    "zip_file_url = 'https://www.usfinancialcapability.org/downloads/NFCS_2018_State_by_State_Tracking_Data_Excel.zip'\n",
    "r = requests.get(zip_file_url)\n",
    "print(r.ok)\n",
    "z = zipfile.ZipFile(io.BytesIO(r.content))\n",
    "z.extractall('./raw_data')"
   ]
  },
  {
   "cell_type": "code",
   "execution_count": null,
   "metadata": {},
   "outputs": [],
   "source": [
    "import pandas as pd\n",
    "\n",
    "#pandas support zip file reads\n",
    "df = pd.read_csv('https://www.usfinancialcapability.org/downloads/NFCS_2018_State_by_State_Tracking_Data_Excel.zip')"
   ]
  },
  {
   "cell_type": "code",
   "execution_count": 22,
   "metadata": {},
   "outputs": [],
   "source": [
    "import pandas as pd\n",
    "import numpy as np\n",
    "import os\n",
    "\n",
    "# import libraries for visualizations\n",
    "import matplotlib.pyplot as plt\n",
    "import seaborn as sns\n",
    "\n",
    "# magic code for viewing plots using jupyter notebooks:\n",
    "%matplotlib inline"
   ]
  },
  {
   "cell_type": "markdown",
   "metadata": {},
   "source": [
    "Download the data"
   ]
  },
  {
   "cell_type": "markdown",
   "metadata": {},
   "source": [
    "Pull in the data.   Create separate dataframes for the state by state data and the investor information."
   ]
  },
  {
   "cell_type": "code",
   "execution_count": 19,
   "metadata": {},
   "outputs": [],
   "source": [
    "import pandas as pd\n",
    "# set the base directory\n",
    "os.chdir('/home/jovyan/data-512/data-512-final/data-512-final')\n",
    "\n",
    "# read the data\n",
    "df_inv = pd.read_csv('raw_data/NFCS 2018 Investor Data 191107.csv')\n",
    "df_sbs = pd.read_csv('raw_data/NFCS 2018 State Data 190603.csv')"
   ]
  },
  {
   "cell_type": "code",
   "execution_count": 21,
   "metadata": {},
   "outputs": [
    {
     "ename": "NameError",
     "evalue": "name 'sns' is not defined",
     "output_type": "error",
     "traceback": [
      "\u001b[0;31m---------------------------------------------------------------------------\u001b[0m",
      "\u001b[0;31mNameError\u001b[0m                                 Traceback (most recent call last)",
      "\u001b[0;32m<ipython-input-21-e970accdc90c>\u001b[0m in \u001b[0;36m<module>\u001b[0;34m\u001b[0m\n\u001b[1;32m      3\u001b[0m \u001b[0;34m\u001b[0m\u001b[0m\n\u001b[1;32m      4\u001b[0m \u001b[0;31m# plot the gender distribution\u001b[0m\u001b[0;34m\u001b[0m\u001b[0;34m\u001b[0m\u001b[0;34m\u001b[0m\u001b[0m\n\u001b[0;32m----> 5\u001b[0;31m sns.catplot(x=\"Gender\", \n\u001b[0m\u001b[1;32m      6\u001b[0m             \u001b[0mkind\u001b[0m\u001b[0;34m=\u001b[0m\u001b[0;34m\"count\"\u001b[0m\u001b[0;34m,\u001b[0m\u001b[0;34m\u001b[0m\u001b[0;34m\u001b[0m\u001b[0m\n\u001b[1;32m      7\u001b[0m             \u001b[0mdata\u001b[0m\u001b[0;34m=\u001b[0m\u001b[0mdf_sbs\u001b[0m\u001b[0;34m,\u001b[0m\u001b[0;34m\u001b[0m\u001b[0;34m\u001b[0m\u001b[0m\n",
      "\u001b[0;31mNameError\u001b[0m: name 'sns' is not defined"
     ]
    }
   ],
   "source": [
    "# create a nicer column for gender\n",
    "df_sbs['Gender'] = df_sbs['A3'].apply(lambda x: 'Male' if x == 1 else 'Female')\n",
    "\n",
    "# plot the gender distribution\n",
    "sns.catplot(x=\"Gender\", \n",
    "            kind=\"count\", \n",
    "            data=df_sbs,\n",
    "            palette=(\"Blues\"))"
   ]
  },
  {
   "cell_type": "code",
   "execution_count": 23,
   "metadata": {},
   "outputs": [
    {
     "data": {
      "text/plain": [
       "Text(0.5, 0.98, 'Do you hold an investment account?')"
      ]
     },
     "execution_count": 23,
     "metadata": {},
     "output_type": "execute_result"
    },
    {
     "data": {
      "image/png": "[encoded data removed]",
      "text/plain": [
       "<Figure size 432.625x360 with 1 Axes>"
      ]
     },
     "metadata": {
      "needs_background": "light"
     },
     "output_type": "display_data"
    }
   ],
   "source": [
    "# who has access to an investment account\n",
    "\n",
    "# create a clean column with labels\n",
    "def investment_accounts(score):\n",
    "    if score == 1:\n",
    "        return 'Yes'\n",
    "    elif score == 2:\n",
    "        return 'No'\n",
    "    else:\n",
    "        return \"Don't know\"\n",
    "        \n",
    "df_sbs['Hold_Investment_Account'] = df_sbs.apply(lambda x: investment_accounts(x['C1_2012']),axis=1)\n",
    "\n",
    "# plot the gender distribution\n",
    "g3 = sns.catplot(x=\"Hold_Investment_Account\", \n",
    "            kind=\"count\",\n",
    "            hue='Gender',\n",
    "            data=df_sbs,\n",
    "            order=[\"Yes\", \"No\", \"Don't know\"],\n",
    "            palette=(\"Blues\"))\n",
    "g3.fig.suptitle('Do you hold an investment account?')"
   ]
  },
  {
   "cell_type": "code",
   "execution_count": 27,
   "metadata": {},
   "outputs": [
    {
     "data": {
      "text/plain": [
       "27091"
      ]
     },
     "execution_count": 27,
     "metadata": {},
     "output_type": "execute_result"
    }
   ],
   "source": [
    "len(df_sbs)"
   ]
  },
  {
   "cell_type": "code",
   "execution_count": 26,
   "metadata": {},
   "outputs": [
    {
     "data": {
      "text/plain": [
       "Gender\n",
       "Female    15135\n",
       "Male      11956\n",
       "dtype: int64"
      ]
     },
     "execution_count": 26,
     "metadata": {},
     "output_type": "execute_result"
    }
   ],
   "source": [
    "df_sbs[['Gender']].value_counts(normalize=False)"
   ]
  },
  {
   "cell_type": "code",
   "execution_count": null,
   "metadata": {},
   "outputs": [],
   "source": [
    "# what percentage of female respondents hold investment accounts?\n",
    "df_sbs[(df_sbs['Gender'] =='Female')][['Gender','Hold_Investment_Account']].value_counts(normalize=True)"
   ]
  },
  {
   "cell_type": "code",
   "execution_count": null,
   "metadata": {},
   "outputs": [],
   "source": [
    "# what percentage of male respondents hold investment accounts?\n",
    "df_sbs[(df_sbs['Gender'] =='Male')][['Gender','Hold_Investment_Account']].value_counts(normalize=True)"
   ]
  },
  {
   "cell_type": "code",
   "execution_count": null,
   "metadata": {},
   "outputs": [],
   "source": [
    "%%timeit\n",
    "df.groupby('city').sales_factor.mean()\n",
    "df.groupby('city').sales_factor.count()\n",
    "df.groupby('city').id.first()\n",
    "3.05 ms ± 65.3 µs per loop (mean ± std. dev. of 7 runs, 100 loops each)\n",
    "%%timeit\n",
    "df.groupby(\"city\").agg({\"sales_factor\": [\"mean\", \"count\"], \"id\": \"first\"})\n",
    "4.5 ms ± 131 µs per loop (mean ± std. dev. of 7 runs, 100 loops each)"
   ]
  },
  {
   "cell_type": "markdown",
   "metadata": {},
   "source": [
    "We see more females than male in the initial survey.  Let's see some of their responses to determine differing opinions."
   ]
  },
  {
   "cell_type": "code",
   "execution_count": null,
   "metadata": {},
   "outputs": [],
   "source": [
    "# plot the gender distribution\n",
    "g = sns.catplot(x=\"J33_41\", \n",
    "            kind=\"count\",\n",
    "            hue='Gender',\n",
    "            data=df_sbs,\n",
    "            #title=\"Discussing my finances can make me feel stressed\",\n",
    "            palette=(\"Blues\"))\n",
    "#plt.subplots_adjust(top=0.9)\n",
    "g.fig.suptitle('Discussing My Finances Makes Me Feel Stressed') # can also get the figure from plt.gcf()"
   ]
  },
  {
   "cell_type": "code",
   "execution_count": null,
   "metadata": {},
   "outputs": [],
   "source": [
    "# create a clean column with labels\n",
    "def investment_knowledge(gender, knowledge):\n",
    "    if  gender == 'Male' and knowledge in ('1'):\n",
    "        return 'Partner/Spouse Is More Knowledgeable'\n",
    "    elif gender == 'Female' and knowledge in ('1'):\n",
    "        return 'Female Respondent Is Knowledgeable'\n",
    "    elif  knowledge in ('3'):\n",
    "        return 'Female Respondent Is Knowledgeable'\n",
    "    #elif knowledge in ('3'):\n",
    "    #    return 'Female Respondent Is Knowledgeable'\n",
    "    elif knowledge == ' ':\n",
    "        return ''\n",
    "    else:\n",
    "        return 'Partner/Spouse Is More Knowledgeable'\n",
    "        \n",
    "df_sbs['Investment_Knowledge'] = df_sbs.apply(lambda x: investment_knowledge(x['Gender'], x['A14']),axis=1)\n",
    "\n",
    "\n",
    "g3 = sns.catplot(y=\"Investment_Knowledge\", \n",
    "            kind=\"count\",\n",
    "            data=df_sbs.where(df_sbs['Investment_Knowledge'] != ''),\n",
    "            palette=(\"Blues\"))\n",
    "g3.fig.suptitle('Who knows more about investments?') # can also get the figure from plt.gcf()"
   ]
  },
  {
   "cell_type": "code",
   "execution_count": null,
   "metadata": {},
   "outputs": [],
   "source": [
    "# about 49% of females report being stressed vs %40 of males\n",
    "df_sbs[(df_sbs['Gender'] =='Female')][['Gender','Stressed']].value_counts(normalize=True)"
   ]
  },
  {
   "cell_type": "code",
   "execution_count": null,
   "metadata": {},
   "outputs": [],
   "source": [
    "df_sbs[['Gender', 'C2_2012', 'Account_Owner']]"
   ]
  },
  {
   "cell_type": "markdown",
   "metadata": {},
   "source": [
    "Difficult to get much information from this.   Lots of respondents don't know who owns the account.  Also we don't have the gender of the respondent's spouse, so it's difficult to say."
   ]
  },
  {
   "cell_type": "code",
   "execution_count": null,
   "metadata": {},
   "outputs": [],
   "source": [
    "# create a clean column with labels\n",
    "def who_owns_account(gender, owner):\n",
    "    if owner in ('3') or (gender == 'Female' and owner in ('1')):\n",
    "        return 'Female Respondent Owns Account'\n",
    "    elif  gender == 'Female' and owner in ('2'):\n",
    "        return \"Female's Partner Owns Account\"\n",
    "    elif  gender == 'Male' and owner in ('2'):\n",
    "        return 'Unknown'\n",
    "    elif  gender == 'Male' and owner in ('1'):\n",
    "        return 'Male Owns Account'\n",
    "    elif  owner in ('98','99', ' '):\n",
    "        return 'Unknown'\n",
    "        \n",
    "df_sbs['Account_Owner'] = df_sbs.apply(lambda x: who_owns_account(x['Gender'], x['C2_2012']),axis=1)\n",
    "\n",
    "\n",
    "g3 = sns.catplot(y=\"Account_Owner\", \n",
    "            kind=\"count\",\n",
    "            data=df_sbs.where(df_sbs['C1_2012'] == 1),\n",
    "            order=[\"Female Respondent Owns Account\", 'Male Owns Account', \"Female's Partner Owns Account\", \"Unknown\"],\n",
    "            palette=(\"Blues\"))\n",
    "g3.fig.suptitle('Who owns the account?')"
   ]
  },
  {
   "cell_type": "code",
   "execution_count": null,
   "metadata": {},
   "outputs": [],
   "source": [
    "# plot the gender distributiondf\n",
    "g3 = sns.catplot(x=\"Account_Owner\", \n",
    "            kind=\"count\",\n",
    "            #hue='Gender',\n",
    "            data=df_sbs.where(df_sbs['Account_Owner'] != ''),\n",
    "            palette=(\"Blues\"))\n",
    "g3.fig.suptitle('Who owns the account?') # can also get the figure from plt.gcf()"
   ]
  },
  {
   "cell_type": "code",
   "execution_count": null,
   "metadata": {},
   "outputs": [],
   "source": [
    "df_sbs[(df_sbs['C1_2012'] == 1)][['Account_Owner']].value_counts(normalize=True)"
   ]
  },
  {
   "cell_type": "code",
   "execution_count": null,
   "metadata": {},
   "outputs": [],
   "source": [
    "# only 33% of the women actually own the account directly.   About 42% of the male respondents said they own it\n",
    "pd.DataFrame(df_sbs[(df_sbs['Account_Owner'] !='')]['Account_Owner'].value_counts(normalize=True))"
   ]
  },
  {
   "cell_type": "code",
   "execution_count": null,
   "metadata": {},
   "outputs": [],
   "source": [
    "sns.barplot(x='group', y='Values', data=df, estimator=lambda x: sum(x==0)*100.0/len(x))"
   ]
  },
  {
   "cell_type": "code",
   "execution_count": null,
   "metadata": {},
   "outputs": [],
   "source": [
    "df_sbs['Gender']"
   ]
  },
  {
   "cell_type": "code",
   "execution_count": null,
   "metadata": {},
   "outputs": [],
   "source": [
    "df_sbs['C2_2012']"
   ]
  },
  {
   "cell_type": "markdown",
   "metadata": {},
   "source": [
    "---"
   ]
  },
  {
   "cell_type": "code",
   "execution_count": null,
   "metadata": {},
   "outputs": [],
   "source": [
    "# preview the results\n",
    "df_sbs.head()"
   ]
  },
  {
   "cell_type": "markdown",
   "metadata": {},
   "source": [
    "Define \"participation\" in the following ways:\n",
    "\n",
    "* Primary decision maker (otherwise, they may just coincidentally have accounts) \n",
    "  A1 = 1 OR 2\n",
    "* Hold investments in retirement accounts (e.g., 401(k), IRA, etc.)\n",
    "A2"
   ]
  },
  {
   "cell_type": "code",
   "execution_count": null,
   "metadata": {},
   "outputs": [],
   "source": [
    "# lets define participation as holding a retirement investment account or a private investment account\n"
   ]
  },
  {
   "cell_type": "code",
   "execution_count": null,
   "metadata": {},
   "outputs": [],
   "source": [
    "# visuals\n",
    "\n",
    "# import libraries for visualizations\n",
    "import matplotlib.pyplot as plt\n",
    "import seaborn as sns\n",
    "\n",
    "# magic code for viewing plots using jupyter notebooks:\n",
    "%matplotlib inline"
   ]
  },
  {
   "cell_type": "code",
   "execution_count": null,
   "metadata": {},
   "outputs": [],
   "source": [
    "# plot the gender distribution\n",
    "sns.catplot(x=\"S_Gender\", \n",
    "            kind=\"count\", \n",
    "            data=df_inv,\n",
    "           # order=[\"none\", \"some\", \"hs\", \"bachelors\", \"professional\", \"masters\", \"doctorate\"],\n",
    "            palette=(\"Blues\"))"
   ]
  },
  {
   "cell_type": "code",
   "execution_count": null,
   "metadata": {},
   "outputs": [],
   "source": [
    "# let's see if women participate in investments less!\n",
    "# plot the gender distribution\n",
    "sns.catplot(x=\"decision_maker\", \n",
    "            kind=\"count\",\n",
    "            #hue='S_Gender',\n",
    "            data=df_inv,\n",
    "           # order=[\"none\", \"some\", \"hs\", \"bachelors\", \"professional\", \"masters\", \"doctorate\"],\n",
    "            palette=(\"Blues\"))"
   ]
  },
  {
   "cell_type": "code",
   "execution_count": null,
   "metadata": {},
   "outputs": [],
   "source": [
    "df_inv.loc[~df_inv['A2'].isin([1,2])]"
   ]
  },
  {
   "cell_type": "code",
   "execution_count": null,
   "metadata": {},
   "outputs": [],
   "source": [
    "# create new column to identify decision makers\n",
    "df_inv['decision_maker'] = 0\n",
    "df_inv.loc[df_inv['A1'].~isin([1,2]),'decision_maker']=1\n"
   ]
  },
  {
   "cell_type": "code",
   "execution_count": null,
   "metadata": {},
   "outputs": [],
   "source": [
    "df_inv.loc[df_inv['decision_maker']==0]"
   ]
  },
  {
   "cell_type": "code",
   "execution_count": null,
   "metadata": {},
   "outputs": [],
   "source": [
    "# we see slightly more men than women in the survey.\n",
    "\n",
    "# let's create a new column to identify participants\n",
    "df_inv.loc[df_inv['A1'].isin([1,2]) & \n",
    "           ((df_inv['A2']==1) | (df_inv['A3']==1)),\n",
    "           'participant']=1"
   ]
  },
  {
   "cell_type": "code",
   "execution_count": null,
   "metadata": {},
   "outputs": [],
   "source": [
    "df_inv.loc[df_inv['A1'].isin([1,2]) & ((df_inv['A2']==1) | (df_inv['A3']==1)) ].head(10)"
   ]
  },
  {
   "cell_type": "code",
   "execution_count": null,
   "metadata": {},
   "outputs": [],
   "source": [
    "# plot education distribution\n",
    "sns.catplot(y=\"education\", \n",
    "            kind=\"count\", \n",
    "            data=toxicity_worker_demographics,\n",
    "            order=[\"none\", \"some\", \"hs\", \"bachelors\", \"professional\", \"masters\", \"doctorate\"],\n",
    "            palette=(\"Blues\"))\n",
    "\n",
    "# plot gender dist\n",
    "sns.catplot(x=\"gender\", \n",
    "            kind=\"count\", \n",
    "            data=toxicity_worker_demographics,\n",
    "            palette=(\"Blues\"))\n",
    "\n",
    "# plot age group dist\n",
    "sns.catplot(x=\"age_group\", \n",
    "            kind=\"count\", \n",
    "            data=toxicity_worker_demographics,\n",
    "            order=[\"Under 18\", \"18-30\", \"30-45\", \"45-60\", \"Over 60\"],\n",
    "            palette=(\"Blues\"))\n",
    "\n",
    "# plot language dist\n",
    "sns.catplot(x=\"english_first_language\", \n",
    "            kind=\"count\", \n",
    "            data=toxicity_worker_demographics,\n",
    "            palette=(\"Blues\"))\n",
    "\n",
    "plt.tight_layout()"
   ]
  },
  {
   "cell_type": "code",
   "execution_count": null,
   "metadata": {},
   "outputs": [],
   "source": [
    "# join the labels and comments\n",
    "toxicity_annotated_comments['labeled_toxic'] = toxicity_labels"
   ]
  },
  {
   "cell_type": "code",
   "execution_count": null,
   "metadata": {},
   "outputs": [],
   "source": [
    "# preview the results\n",
    "toxicity_annotated_comments.loc[toxicity_annotated_comments['labeled_toxic'] == True].head(10)"
   ]
  },
  {
   "cell_type": "code",
   "execution_count": null,
   "metadata": {},
   "outputs": [],
   "source": [
    "# join demographics to annotations\n",
    "joined_toxicity_demographics = toxicity_annotations.join(toxicity_worker_demographics, on=\"worker_id\", rsuffix=\"_r\")"
   ]
  },
  {
   "cell_type": "code",
   "execution_count": null,
   "metadata": {},
   "outputs": [],
   "source": [
    "# calculate average toxicity per user\n",
    "avg_worker_toxicity = joined_toxicity_demographics.groupby(\"worker_id\")[\"toxicity_score\"].mean()\n",
    "\n",
    "# join the average toxicity to the demographics table\n",
    "toxicity_worker_demographics = toxicity_worker_demographics.join( avg_worker_toxicity )\n",
    "\n",
    "# preview the results\n",
    "toxicity_worker_demographics.head()"
   ]
  },
  {
   "cell_type": "code",
   "execution_count": null,
   "metadata": {},
   "outputs": [],
   "source": [
    "# create barplot, specify the order\n",
    "sns.barplot(y=\"education\", \n",
    "                 x=\"toxicity_score\", \n",
    "                 data=toxicity_worker_demographics, \n",
    "                 order=[\"none\", \"some\", \"hs\", \"bachelors\", \"professional\", \"masters\", \"doctorate\"],\n",
    "                 palette=(\"Blues\"))\n",
    "\n",
    "# save results for README file\n",
    "fig = sns_plot.get_figure()\n",
    "fig.savefig('output.png')"
   ]
  }
 ],
 "metadata": {
  "kernelspec": {
   "display_name": "Python 3",
   "language": "python",
   "name": "python3"
  },
  "language_info": {
   "codemirror_mode": {
    "name": "ipython",
    "version": 3
   },
   "file_extension": ".py",
   "mimetype": "text/x-python",
   "name": "python",
   "nbconvert_exporter": "python",
   "pygments_lexer": "ipython3",
   "version": "3.7.4"
  }
 },
 "nbformat": 4,
 "nbformat_minor": 4
}
