{
 "cells": [
  {
   "cell_type": "markdown",
   "metadata": {},
   "source": [
    "### RETRIEVE DATA"
   ]
  },
  {
   "cell_type": "code",
   "execution_count": 25,
   "metadata": {},
   "outputs": [],
   "source": [
    "# change the current working directory - use relative references later\n",
    "import os\n",
    "import pandas as pd\n",
    "os.chdir('/home/jovyan/data-512/data-512-final/data-512-final')\n",
    "# read the state by state data into a dataframe\n",
    "df_sbs = pd.read_csv('raw_data/NFCS 2018 State Data 190603.csv')\n",
    "\n",
    "# read the investor data into a dataframe\n",
    "df_inv = pd.read_csv('raw_data/NFCS 2018 Investor Data 191107.csv')"
   ]
  },
  {
   "cell_type": "markdown",
   "metadata": {},
   "source": [
    "### Do women participate less?"
   ]
  },
  {
   "cell_type": "markdown",
   "metadata": {},
   "source": [
    "First, set up the plotting environment."
   ]
  },
  {
   "cell_type": "code",
   "execution_count": 26,
   "metadata": {},
   "outputs": [],
   "source": [
    "# import libraries for visualizations\n",
    "import matplotlib.pyplot as plt\n",
    "import seaborn as sns\n",
    "\n",
    "# magic code for viewing plots using jupyter notebooks:\n",
    "%matplotlib inline"
   ]
  },
  {
   "cell_type": "markdown",
   "metadata": {},
   "source": [
    "Look a the distribution of gender in the data file"
   ]
  },
  {
   "cell_type": "code",
   "execution_count": 27,
   "metadata": {},
   "outputs": [
    {
     "data": {
      "text/plain": [
       "<seaborn.axisgrid.FacetGrid at 0x7fb60ea7ead0>"
      ]
     },
     "execution_count": 27,
     "metadata": {},
     "output_type": "execute_result"
    },
    {
     "data": {
      "image/png": "[encoded data removed]",
      "text/plain": [
       "<Figure size 360x360 with 1 Axes>"
      ]
     },
     "metadata": {
      "needs_background": "light"
     },
     "output_type": "display_data"
    }
   ],
   "source": [
    "# create a nicer column for gender\n",
    "df_sbs['Gender'] = df_sbs['A3'].apply(lambda x: 'Male' if x == 1 else 'Female')\n",
    "\n",
    "# plot the gender distribution\n",
    "sns.catplot(x=\"Gender\", \n",
    "            kind=\"count\", \n",
    "            data=df_sbs,\n",
    "            palette=(\"Blues\"))"
   ]
  },
  {
   "cell_type": "code",
   "execution_count": 28,
   "metadata": {},
   "outputs": [
    {
     "data": {
      "text/plain": [
       "Text(0.5, 0.98, 'Do you hold an investment account?')"
      ]
     },
     "execution_count": 28,
     "metadata": {},
     "output_type": "execute_result"
    },
    {
     "data": {
      "image/png": "[encoded data removed]",
      "text/plain": [
       "<Figure size 432.625x360 with 1 Axes>"
      ]
     },
     "metadata": {
      "needs_background": "light"
     },
     "output_type": "display_data"
    }
   ],
   "source": [
    "# who has access to an investment account\n",
    "\n",
    "# create a clean column with labels\n",
    "def investment_accounts(score):\n",
    "    if score == 1:\n",
    "        return 'Yes'\n",
    "    elif score == 2:\n",
    "        return 'No'\n",
    "    else:\n",
    "        return \"Don't know\"\n",
    "        \n",
    "df_sbs['Hold_Investment_Account'] = df_sbs.apply(lambda x: investment_accounts(x['C1_2012']),axis=1)\n",
    "\n",
    "# plot the gender distribution\n",
    "g3 = sns.catplot(x=\"Hold_Investment_Account\", \n",
    "            kind=\"count\",\n",
    "            hue='Gender',\n",
    "            data=df_sbs,\n",
    "            order=[\"Yes\", \"No\", \"Don't know\"],\n",
    "            palette=(\"Blues\"))\n",
    "g3.fig.suptitle('Do you hold an investment account?')"
   ]
  },
  {
   "cell_type": "code",
   "execution_count": 21,
   "metadata": {},
   "outputs": [
    {
     "data": {
      "text/plain": [
       "Gender  Hold_Investment_Account\n",
       "Female  Yes                        0.195633\n",
       "        Don't know                 0.191838\n",
       "Male    Yes                        0.174619\n",
       "        Don't know                 0.163023\n",
       "Female  No                         0.161980\n",
       "Male    No                         0.112907\n",
       "dtype: float64"
      ]
     },
     "execution_count": 21,
     "metadata": {},
     "output_type": "execute_result"
    }
   ],
   "source": [
    "# what percentage of female respondents hold investment accounts?\n",
    "df_sbs[['Gender','Hold_Investment_Account']].value_counts(normalize=True)"
   ]
  },
  {
   "cell_type": "code",
   "execution_count": 20,
   "metadata": {},
   "outputs": [
    {
     "data": {
      "text/plain": [
       "Gender  Hold_Investment_Account\n",
       "Female  Yes                        21189\n",
       "        Don't know                 20778\n",
       "Male    Yes                        18913\n",
       "        Don't know                 17657\n",
       "Female  No                         17544\n",
       "Male    No                         12229\n",
       "dtype: int64"
      ]
     },
     "execution_count": 20,
     "metadata": {},
     "output_type": "execute_result"
    }
   ],
   "source": [
    "# what percentage of female respondents hold investment accounts?\n",
    "df_sbs[['Gender','Hold_Investment_Account']].value_counts(normalize=False)"
   ]
  },
  {
   "cell_type": "code",
   "execution_count": 9,
   "metadata": {},
   "outputs": [
    {
     "data": {
      "text/plain": [
       "Gender\n",
       "Female    59511\n",
       "Male      48799\n",
       "Name: Hold_Investment_Account, dtype: int64"
      ]
     },
     "execution_count": 9,
     "metadata": {},
     "output_type": "execute_result"
    }
   ],
   "source": [
    "#df_sbs.groupby('Gender').Hold_Investment_Account.mean()\n",
    "df_sbs.groupby('Gender').Hold_Investment_Account.count()"
   ]
  },
  {
   "cell_type": "code",
   "execution_count": 24,
   "metadata": {},
   "outputs": [
    {
     "data": {
      "text/plain": [
       "Gender\n",
       "Female    59511\n",
       "Male      48799\n",
       "Name: NFCSID, dtype: int64"
      ]
     },
     "execution_count": 24,
     "metadata": {},
     "output_type": "execute_result"
    }
   ],
   "source": [
    "df_sbs.groupby('Gender').NFCSID.nunique()"
   ]
  },
  {
   "cell_type": "code",
   "execution_count": null,
   "metadata": {},
   "outputs": [],
   "source": [
    "%%timeit\n",
    "df_sbs.groupby('Gender').sales_factor.mean()\n",
    "df_sbs.groupby('Gender').sales_factor.count()\n",
    "df_sbs.groupby('Gender').id.first()\n",
    "3.05 ms ± 65.3 µs per loop (mean ± std. dev. of 7 runs, 100 loops each)\n",
    "%%timeit\n",
    "df.groupby(\"city\").agg({\"sales_factor\": [\"mean\", \"count\"], \"id\": \"first\"})\n",
    "4.5 ms ± 131 µs per loop (mean ± std. dev. of 7 runs, 100 loops each)"
   ]
  }
 ],
 "metadata": {
  "kernelspec": {
   "display_name": "Python 3",
   "language": "python",
   "name": "python3"
  },
  "language_info": {
   "codemirror_mode": {
    "name": "ipython",
    "version": 3
   },
   "file_extension": ".py",
   "mimetype": "text/x-python",
   "name": "python",
   "nbconvert_exporter": "python",
   "pygments_lexer": "ipython3",
   "version": "3.7.4"
  }
 },
 "nbformat": 4,
 "nbformat_minor": 4
}
