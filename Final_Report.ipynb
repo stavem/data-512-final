{
 "cells": [
  {
   "cell_type": "markdown",
   "metadata": {},
   "source": [
    "# GENDER AND STOCK MARKET PARTICIPATION\n",
    "_Karl Stavem_"
   ]
  },
  {
   "cell_type": "markdown",
   "metadata": {},
   "source": [
    "## Table of Contents\n",
    "1.  [Motivation and Problem Statement](#motivation)\n",
    "1.  [Research Questions and Hypotheses](#rq)\n",
    "1.  [Background and Related Work](#brr)\n",
    "1.  [Data](#dd)\n",
    "1.  [A Note On Terminology](#terminology)\n",
    "1.  [Methodology](#methodology)\n",
    "1.  [Data Preprocessing](#dpp)\n",
    "1.  [Findings](#findings)\n",
    "1.  [Discussion](#discussion)\n",
    "1.  [Conclusion](#conclusion)"
   ]
  },
  {
   "cell_type": "markdown",
   "metadata": {},
   "source": [
    "<span id=\"motivation\"/>\n",
    "    \n",
    "### Motivation and Problem Statement\n",
    "There is a significant and well-established [gender pay gap](https://www.pewresearch.org/fact-tank/2019/03/22/gender-pay-gap-facts/) in the workplace.  However, a large portion of individual wealth comes from investment in the stock market and accumulated retirement funds.   The goal of this study is to examine participation in the stock market and look at how that may differ across gender lines.   I hope to eaxamine how this pay gap in earnings can lead to a wealth gap in accumulated retirement savings."
   ]
  },
  {
   "cell_type": "markdown",
   "metadata": {},
   "source": [
    "<span id=\"rq\"/>\n",
    "\n",
    "### Research Questions and Hypotheses\n",
    "\n",
    "There are two specific questions that I will address in this analysis:\n",
    "\n",
    "- _Q 1:  Do women participate in the stock market at a lower rate than men?_\n",
    "- _Q 2.1:  What are they key factors that affect stock market participation?_  \n",
    "- _Q 2.2:  Do these key factors disproportionally affect women?_\n",
    "\n",
    "My initial hypothesis at the begining of this study was that women participate in the stock market at a lower rate than men.  I believed that this drop in participation would be driven less by differences in attitudes or dispositions, and instead be driven by income and employment.\n"
   ]
  },
  {
   "cell_type": "markdown",
   "metadata": {},
   "source": [
    "<span id=\"brr\" />\n",
    "\n",
    "### Background and Related Work\n",
    "Many financial advisory firms have conducted independent research into these issues in the past.   For example Northwestern Mutual has routinely [published findings](https://news.northwesternmutual.com/planning-and-progress-2019) outlining general attitudes and bevahiors around money and investing.   Addtionally, FINRA publishes results from the National Financial Capability Study on [their website](https://www.usfinancialcapability.org/results.php?region=US) every three years.  However, most of these studies do not specifically focus on gender."
   ]
  },
  {
   "cell_type": "markdown",
   "metadata": {},
   "source": [
    "<span id=\"dd\" />\n",
    "\n",
    "### Data\n",
    "\n",
    "\n",
    "#### Descrption\n",
    "The primary dataset used to address these questions is the _2018 National Financial Capability Study (NFCS)_, funded by the FINRA Investor Education Foundation.  The NFCS is a longitudinal survey conducted across the United States every three years.   The goal of the survey is to benchmark key indicators of financial capability in U.S. households and evaluate how these indictors vary by regions, attitudes, and demographics.  While this is a longitudinal survey that has been conducted every three years since 2009, my analysis focuses exclusively on the 2018 dataset.  While the FINRA Investor Education Foundation publishes its own findings on this data, it has made the datasets, questionaires, and documents available to outside researchers.\n",
    "\n",
    "#### Dimensions\n",
    "The 2018 NFCS contains responses from roughly 27,000 households across all 50 states.  Each respondent provided answers to 127 different questions.   All responses have been numericall encoded into a single .csv file.\n",
    "\n",
    "\n",
    "#### Access\n",
    "\n",
    "The 2018 NFCS dataset is freely available online and is subject to FINRA's [terms of use](https://www.usfinancialcapability.org/terms.php).  Full details and descrptions can be found on the on the [Data and Downloads](https://www.usfinancialcapability.org/downloads.php) page of the US Financial Capability website.  The primrary dataset used in this exploration is titled, _2018 State-by-State Survey — Respondent-Level Data, Comma delimited Excel file (.csv)_ and it may be downloaded in a .zip file directly from FINRA's website using [this link](https://www.usfinancialcapability.org/downloads/NFCS_2018_State_by_State_Data_Excel.zip).  This project already contains the full 2018 NFCS dataset, which can be viewed directly here: [\\\"NFCS 2018 State Data 190603.csv\\\"](raw_data/NFCS%202018%20State%20Data%20190603.csv). "
   ]
  },
  {
   "cell_type": "markdown",
   "metadata": {},
   "source": [
    "<span id=\"terminology\" />\n",
    "\n",
    "### A Note on Terminology\n",
    "\n",
    "It is important to acknowledge the usage of specific terms like _gender_ and _sex_ in this analysis.  Regrettably, the NFCS dataset uses terms like _gender_ and _sex_ interchangebly as well as terms like _woman_ and _female_.   Additionally, all survey respondents were required to self-identify strictly as either _male_ or _female_ with no alternative for non-binary designations.   As a result, the findings presented in this study make the same adjustments.   Unfortunately, all subsequent analysis will use these words interchangebly and all findings are based on the assumption that respondents fall neatly into one of two distinct gender groups, either male or female."
   ]
  },
  {
   "cell_type": "markdown",
   "metadata": {},
   "source": [
    "<span id=\"methodology\" />\n",
    "\n",
    "### Methodology\n",
    "\n",
    "blah blah blah blah\n",
    "\n"
   ]
  },
  {
   "cell_type": "markdown",
   "metadata": {},
   "source": [
    "<span id=\"dpp\"/>\n",
    "\n",
    "### Data Preprocessing\n",
    "\n",
    "Each respondent in this survey was asked 127 individual questions; however, not all of the questions posed are useful to this analysis.   The following section will download the raw data from the website and create a refined dataframe to work with."
   ]
  },
  {
   "cell_type": "markdown",
   "metadata": {},
   "source": [
    "First, import all necessary libraries for processing and analysing the data."
   ]
  },
  {
   "cell_type": "code",
   "execution_count": 1,
   "metadata": {},
   "outputs": [],
   "source": [
    "# import libraries for data aquisition and processing\n",
    "import pandas as pd\n",
    "import numpy as np\n",
    "import requests, zipfile, io\n",
    "\n",
    "# import libraries for visualizations\n",
    "import matplotlib.pyplot as plt\n",
    "import seaborn as sns\n",
    "\n",
    "# import libraries for statistical tests\n",
    "import math\n",
    "from statsmodels.stats.proportion import proportions_ztest\n",
    "import statsmodels.formula.api as smf\n",
    "import statsmodels.api as sm"
   ]
  },
  {
   "cell_type": "markdown",
   "metadata": {},
   "source": [
    "Since the data on the FINRA website is in zipped form, I have created a method to extract the raw data into the _raw_data_ directory.  Additionally, since there are multiple datasets available on the website, this will make future analysis easier."
   ]
  },
  {
   "cell_type": "code",
   "execution_count": 2,
   "metadata": {},
   "outputs": [],
   "source": [
    "def get_data(zip_file_url):\n",
    "    \"\"\"\n",
    "    Input: Website to extract zip file.\n",
    "    Output:  Extracted data in '/raw_data' folder\n",
    "    \"\"\"\n",
    "    import requests, zipfile, io\n",
    "    r = requests.get(zip_file_url)\n",
    "    if r.ok:\n",
    "        print('Request Succesful.')\n",
    "    else:\n",
    "        print('Error submitting request.')\n",
    "        \n",
    "    z = zipfile.ZipFile(io.BytesIO(r.content))\n",
    "    z.extractall('./raw_data')"
   ]
  },
  {
   "cell_type": "markdown",
   "metadata": {},
   "source": [
    "Now we can call the method to save the files in the appropriate place."
   ]
  },
  {
   "cell_type": "code",
   "execution_count": 3,
   "metadata": {},
   "outputs": [
    {
     "name": "stdout",
     "output_type": "stream",
     "text": [
      "Request Succesful.\n"
     ]
    }
   ],
   "source": [
    "#%%capture\n",
    "\n",
    "# download state by state data, store this in a data frame\n",
    "BASE_URL = 'https://www.usfinancialcapability.org/downloads/'\n",
    "\n",
    "# populate the list of data sets to download from the site\n",
    "file_list = ['NFCS_2018_State_by_State_Data_Excel.zip']\n",
    "\n",
    "# call the function for each file in the list\n",
    "for filename in file_list:\n",
    "    get_data(zip_file_url = BASE_URL + filename)"
   ]
  },
  {
   "cell_type": "markdown",
   "metadata": {},
   "source": [
    "We will store this data as a pandas dataframe."
   ]
  },
  {
   "cell_type": "code",
   "execution_count": 4,
   "metadata": {},
   "outputs": [
    {
     "data": {
      "text/html": [
       "<div>\n",
       "<style scoped>\n",
       "    .dataframe tbody tr th:only-of-type {\n",
       "        vertical-align: middle;\n",
       "    }\n",
       "\n",
       "    .dataframe tbody tr th {\n",
       "        vertical-align: top;\n",
       "    }\n",
       "\n",
       "    .dataframe thead th {\n",
       "        text-align: right;\n",
       "    }\n",
       "</style>\n",
       "<table border=\"1\" class=\"dataframe\">\n",
       "  <thead>\n",
       "    <tr style=\"text-align: right;\">\n",
       "      <th></th>\n",
       "      <th>NFCSID</th>\n",
       "      <th>STATEQ</th>\n",
       "      <th>CENSUSDIV</th>\n",
       "      <th>CENSUSREG</th>\n",
       "      <th>A3</th>\n",
       "      <th>A3Ar_w</th>\n",
       "      <th>A3B</th>\n",
       "      <th>A4A_new_w</th>\n",
       "      <th>A5_2015</th>\n",
       "      <th>A6</th>\n",
       "      <th>...</th>\n",
       "      <th>M42</th>\n",
       "      <th>M6</th>\n",
       "      <th>M7</th>\n",
       "      <th>M8</th>\n",
       "      <th>M31</th>\n",
       "      <th>M9</th>\n",
       "      <th>M10</th>\n",
       "      <th>wgt_n2</th>\n",
       "      <th>wgt_d2</th>\n",
       "      <th>wgt_s3</th>\n",
       "    </tr>\n",
       "  </thead>\n",
       "  <tbody>\n",
       "    <tr>\n",
       "      <th>0</th>\n",
       "      <td>2018010001</td>\n",
       "      <td>48</td>\n",
       "      <td>9</td>\n",
       "      <td>4</td>\n",
       "      <td>2</td>\n",
       "      <td>5</td>\n",
       "      <td>11</td>\n",
       "      <td>1</td>\n",
       "      <td>5</td>\n",
       "      <td>4</td>\n",
       "      <td>...</td>\n",
       "      <td></td>\n",
       "      <td>1</td>\n",
       "      <td>3</td>\n",
       "      <td>98</td>\n",
       "      <td>98</td>\n",
       "      <td>98</td>\n",
       "      <td>1</td>\n",
       "      <td>0.683683</td>\n",
       "      <td>0.519642</td>\n",
       "      <td>1.095189</td>\n",
       "    </tr>\n",
       "    <tr>\n",
       "      <th>1</th>\n",
       "      <td>2018010002</td>\n",
       "      <td>10</td>\n",
       "      <td>5</td>\n",
       "      <td>3</td>\n",
       "      <td>2</td>\n",
       "      <td>2</td>\n",
       "      <td>8</td>\n",
       "      <td>1</td>\n",
       "      <td>6</td>\n",
       "      <td>1</td>\n",
       "      <td>...</td>\n",
       "      <td></td>\n",
       "      <td>1</td>\n",
       "      <td>3</td>\n",
       "      <td>98</td>\n",
       "      <td>3</td>\n",
       "      <td>1</td>\n",
       "      <td>98</td>\n",
       "      <td>0.808358</td>\n",
       "      <td>2.516841</td>\n",
       "      <td>0.922693</td>\n",
       "    </tr>\n",
       "    <tr>\n",
       "      <th>2</th>\n",
       "      <td>2018010003</td>\n",
       "      <td>44</td>\n",
       "      <td>7</td>\n",
       "      <td>3</td>\n",
       "      <td>2</td>\n",
       "      <td>2</td>\n",
       "      <td>8</td>\n",
       "      <td>1</td>\n",
       "      <td>6</td>\n",
       "      <td>1</td>\n",
       "      <td>...</td>\n",
       "      <td></td>\n",
       "      <td>1</td>\n",
       "      <td>1</td>\n",
       "      <td>98</td>\n",
       "      <td>98</td>\n",
       "      <td>1</td>\n",
       "      <td>98</td>\n",
       "      <td>1.021551</td>\n",
       "      <td>1.896192</td>\n",
       "      <td>0.671093</td>\n",
       "    </tr>\n",
       "    <tr>\n",
       "      <th>3</th>\n",
       "      <td>2018010004</td>\n",
       "      <td>10</td>\n",
       "      <td>5</td>\n",
       "      <td>3</td>\n",
       "      <td>2</td>\n",
       "      <td>1</td>\n",
       "      <td>7</td>\n",
       "      <td>1</td>\n",
       "      <td>6</td>\n",
       "      <td>2</td>\n",
       "      <td>...</td>\n",
       "      <td>7</td>\n",
       "      <td>98</td>\n",
       "      <td>98</td>\n",
       "      <td>4</td>\n",
       "      <td>4</td>\n",
       "      <td>2</td>\n",
       "      <td>98</td>\n",
       "      <td>0.808358</td>\n",
       "      <td>2.516841</td>\n",
       "      <td>0.922693</td>\n",
       "    </tr>\n",
       "    <tr>\n",
       "      <th>4</th>\n",
       "      <td>2018010005</td>\n",
       "      <td>13</td>\n",
       "      <td>8</td>\n",
       "      <td>4</td>\n",
       "      <td>1</td>\n",
       "      <td>2</td>\n",
       "      <td>2</td>\n",
       "      <td>1</td>\n",
       "      <td>6</td>\n",
       "      <td>1</td>\n",
       "      <td>...</td>\n",
       "      <td></td>\n",
       "      <td>1</td>\n",
       "      <td>3</td>\n",
       "      <td>98</td>\n",
       "      <td>2</td>\n",
       "      <td>1</td>\n",
       "      <td>98</td>\n",
       "      <td>0.448075</td>\n",
       "      <td>0.614733</td>\n",
       "      <td>1.232221</td>\n",
       "    </tr>\n",
       "  </tbody>\n",
       "</table>\n",
       "<p>5 rows × 128 columns</p>\n",
       "</div>"
      ],
      "text/plain": [
       "       NFCSID  STATEQ  CENSUSDIV  CENSUSREG  A3  A3Ar_w  A3B  A4A_new_w  \\\n",
       "0  2018010001      48          9          4   2       5   11          1   \n",
       "1  2018010002      10          5          3   2       2    8          1   \n",
       "2  2018010003      44          7          3   2       2    8          1   \n",
       "3  2018010004      10          5          3   2       1    7          1   \n",
       "4  2018010005      13          8          4   1       2    2          1   \n",
       "\n",
       "   A5_2015  A6  ...  M42  M6  M7  M8  M31  M9 M10    wgt_n2    wgt_d2  \\\n",
       "0        5   4  ...        1   3  98   98  98   1  0.683683  0.519642   \n",
       "1        6   1  ...        1   3  98    3   1  98  0.808358  2.516841   \n",
       "2        6   1  ...        1   1  98   98   1  98  1.021551  1.896192   \n",
       "3        6   2  ...    7  98  98   4    4   2  98  0.808358  2.516841   \n",
       "4        6   1  ...        1   3  98    2   1  98  0.448075  0.614733   \n",
       "\n",
       "     wgt_s3  \n",
       "0  1.095189  \n",
       "1  0.922693  \n",
       "2  0.671093  \n",
       "3  0.922693  \n",
       "4  1.232221  \n",
       "\n",
       "[5 rows x 128 columns]"
      ]
     },
     "metadata": {},
     "output_type": "display_data"
    }
   ],
   "source": [
    "# read the newly aquired data into a dataframe\n",
    "raw_df = pd.read_csv('raw_data/NFCS 2018 State Data 190603.csv')\n",
    "\n",
    "# Check the import results.\n",
    "display(raw_df.head())"
   ]
  },
  {
   "cell_type": "markdown",
   "metadata": {},
   "source": [
    "Since there are about 27,000 respondents answering 127 questions each, we should see a dataset of roughly this size."
   ]
  },
  {
   "cell_type": "code",
   "execution_count": 5,
   "metadata": {},
   "outputs": [
    {
     "data": {
      "text/plain": [
       "(27091, 128)"
      ]
     },
     "execution_count": 5,
     "metadata": {},
     "output_type": "execute_result"
    }
   ],
   "source": [
    "raw_df.shape"
   ]
  },
  {
   "cell_type": "markdown",
   "metadata": {},
   "source": [
    "Since there are 127 questions in the survey and none of them have meaningful names, the function below will assign more informative headers to key columns in the dataset.  Since not all 127 questions are relevant to this research, the extranneous columns can be dropped."
   ]
  },
  {
   "cell_type": "code",
   "execution_count": 6,
   "metadata": {},
   "outputs": [],
   "source": [
    "def set_column_names(c):\n",
    "    switcher = {\n",
    "        'NFCSID':'id', \n",
    "        'A3':'gender', \n",
    "        'A5_2015':'education', \n",
    "        'A8':'income', \n",
    "        'A9':'work_status',\n",
    "        'A14':'investment_knowledge',\n",
    "        'J1':'financial_satisfaction_score',\n",
    "        'J2':'risk_tolerance',\n",
    "        'J3':'income_to_debt',\n",
    "        'J4':'difficult_to_pay_bills',\n",
    "        'J8':'know_retirement_amount',\n",
    "        'J20':'confidence_paying_unexpected_need',\n",
    "        'J32':'current_credit_record',\n",
    "        'J33_1':'worry_about_retirement',\n",
    "        'J33_40':'finances_makes_me_anxious',\n",
    "        'J33_41':'finances_makes_me_stressed',\n",
    "        'B2':'savings_account',\n",
    "        'B40':'comfort_asking_questions',\n",
    "        'C1_2012':'employer_provided_retirement_account',\n",
    "        'C4_2012':'self_retirement_account',\n",
    "        'B14':'other_investment_accounts',\n",
    "        'F2_3':'minimum_credit_card_payement_only',\n",
    "        'G23':'too_much_debt',\n",
    "        'M1_1':'good_at_daily_financial_matters',\n",
    "        'M1_2':'good_at_math',\n",
    "        'M4':'financial_knowledge',\n",
    "        'M40':'taken_financial_education',\n",
    "        'M41':'how_many_hours_of_financial_education'\n",
    "    }\n",
    "    return switcher.get(c, \"column_to_drop\")\n",
    "\n",
    "# create a new copy of the dataframe to manipulate\n",
    "df = raw_df\n",
    "\n",
    "# call the function above to rename columns\n",
    "df.rename(columns=lambda x: set_column_names(x), inplace=True)"
   ]
  },
  {
   "cell_type": "markdown",
   "metadata": {},
   "source": [
    "Now we are free to drop the remaining columns that will not be used in this analysis."
   ]
  },
  {
   "cell_type": "code",
   "execution_count": 7,
   "metadata": {},
   "outputs": [],
   "source": [
    "df.drop(['column_to_drop'], axis=1, inplace=True)"
   ]
  },
  {
   "cell_type": "markdown",
   "metadata": {},
   "source": [
    "There are several blank entries in the dataframe.   It is easier to work with NaN, so we will edit those cells. Additionally, there are quite a few answers coded as _Unknown_ or _Chose Not To Respond_.  These are not particularly informative for this analysis, so we will remove those data elements as well."
   ]
  },
  {
   "cell_type": "code",
   "execution_count": 8,
   "metadata": {},
   "outputs": [],
   "source": [
    "df = df.replace(r'^\\s*$', np.nan, regex=True)\n",
    "df = df.replace(98, np.nan, regex=True)\n",
    "df = df.replace(99, np.nan, regex=True)\n",
    "df = df.replace('98', np.nan, regex=True)\n",
    "df = df.replace('99', np.nan, regex=True)"
   ]
  },
  {
   "cell_type": "markdown",
   "metadata": {},
   "source": [
    "Since all the data is numerically encoded, we will convert all columns into integer data types.   Since 0 is not a valid answer for any of the survey questions, we will fill in all blank and missing data with a 0."
   ]
  },
  {
   "cell_type": "code",
   "execution_count": 10,
   "metadata": {},
   "outputs": [
    {
     "data": {
      "text/plain": [
       "id                                       int64\n",
       "gender                                   int64\n",
       "education                                int64\n",
       "income                                   int64\n",
       "work_status                              int64\n",
       "investment_knowledge                     int64\n",
       "financial_satisfaction_score             int64\n",
       "risk_tolerance                           int64\n",
       "income_to_debt                           int64\n",
       "difficult_to_pay_bills                   int64\n",
       "know_retirement_amount                   int64\n",
       "confidence_paying_unexpected_need        int64\n",
       "current_credit_record                    int64\n",
       "worry_about_retirement                   int64\n",
       "finances_makes_me_anxious                int64\n",
       "finances_makes_me_stressed               int64\n",
       "savings_account                          int64\n",
       "comfort_asking_questions                 int64\n",
       "employer_provided_retirement_account     int64\n",
       "self_retirement_account                  int64\n",
       "other_investment_accounts                int64\n",
       "minimum_credit_card_payement_only        int64\n",
       "too_much_debt                            int64\n",
       "good_at_daily_financial_matters          int64\n",
       "good_at_math                             int64\n",
       "financial_knowledge                      int64\n",
       "taken_financial_education                int64\n",
       "how_many_hours_of_financial_education    int64\n",
       "dtype: object"
      ]
     },
     "execution_count": 10,
     "metadata": {},
     "output_type": "execute_result"
    }
   ],
   "source": [
    "# convert missing data to zeros\n",
    "df = df.fillna(0)\n",
    "\n",
    "# coerce all columns in the df to integer\n",
    "cols =['id', 'gender', 'education', 'income', 'work_status','investment_knowledge',\n",
    "      'financial_satisfaction_score','risk_tolerance','income_to_debt','difficult_to_pay_bills',\n",
    "      'know_retirement_amount','confidence_paying_unexpected_need','current_credit_record','worry_about_retirement',\n",
    "      'finances_makes_me_anxious','finances_makes_me_stressed','savings_account','comfort_asking_questions',\n",
    "      'employer_provided_retirement_account','self_retirement_account','other_investment_accounts','minimum_credit_card_payement_only',\n",
    "      'too_much_debt','good_at_daily_financial_matters','good_at_math','financial_knowledge','taken_financial_education',\n",
    "      'how_many_hours_of_financial_education']\n",
    "\n",
    "df[cols] = df[cols].apply(lambda x :pd.to_numeric(x,errors='coerce').astype(int),axis=0)\n",
    "\n",
    "# check to ensure all columns are integers now\n",
    "df.dtypes"
   ]
  },
  {
   "cell_type": "markdown",
   "metadata": {},
   "source": [
    "Preview the results before moving forward."
   ]
  },
  {
   "cell_type": "code",
   "execution_count": 11,
   "metadata": {},
   "outputs": [
    {
     "data": {
      "text/html": [
       "<div>\n",
       "<style scoped>\n",
       "    .dataframe tbody tr th:only-of-type {\n",
       "        vertical-align: middle;\n",
       "    }\n",
       "\n",
       "    .dataframe tbody tr th {\n",
       "        vertical-align: top;\n",
       "    }\n",
       "\n",
       "    .dataframe thead th {\n",
       "        text-align: right;\n",
       "    }\n",
       "</style>\n",
       "<table border=\"1\" class=\"dataframe\">\n",
       "  <thead>\n",
       "    <tr style=\"text-align: right;\">\n",
       "      <th></th>\n",
       "      <th>id</th>\n",
       "      <th>gender</th>\n",
       "      <th>education</th>\n",
       "      <th>income</th>\n",
       "      <th>work_status</th>\n",
       "      <th>investment_knowledge</th>\n",
       "      <th>financial_satisfaction_score</th>\n",
       "      <th>risk_tolerance</th>\n",
       "      <th>income_to_debt</th>\n",
       "      <th>difficult_to_pay_bills</th>\n",
       "      <th>...</th>\n",
       "      <th>employer_provided_retirement_account</th>\n",
       "      <th>self_retirement_account</th>\n",
       "      <th>other_investment_accounts</th>\n",
       "      <th>minimum_credit_card_payement_only</th>\n",
       "      <th>too_much_debt</th>\n",
       "      <th>good_at_daily_financial_matters</th>\n",
       "      <th>good_at_math</th>\n",
       "      <th>financial_knowledge</th>\n",
       "      <th>taken_financial_education</th>\n",
       "      <th>how_many_hours_of_financial_education</th>\n",
       "    </tr>\n",
       "  </thead>\n",
       "  <tbody>\n",
       "    <tr>\n",
       "      <th>0</th>\n",
       "      <td>2018010001</td>\n",
       "      <td>2</td>\n",
       "      <td>5</td>\n",
       "      <td>1</td>\n",
       "      <td>6</td>\n",
       "      <td>0</td>\n",
       "      <td>1</td>\n",
       "      <td>1</td>\n",
       "      <td>3</td>\n",
       "      <td>1</td>\n",
       "      <td>...</td>\n",
       "      <td>1</td>\n",
       "      <td>2</td>\n",
       "      <td>0</td>\n",
       "      <td>0</td>\n",
       "      <td>7</td>\n",
       "      <td>1</td>\n",
       "      <td>6</td>\n",
       "      <td>2</td>\n",
       "      <td>2</td>\n",
       "      <td>0</td>\n",
       "    </tr>\n",
       "    <tr>\n",
       "      <th>1</th>\n",
       "      <td>2018010002</td>\n",
       "      <td>2</td>\n",
       "      <td>6</td>\n",
       "      <td>5</td>\n",
       "      <td>2</td>\n",
       "      <td>1</td>\n",
       "      <td>4</td>\n",
       "      <td>3</td>\n",
       "      <td>3</td>\n",
       "      <td>2</td>\n",
       "      <td>...</td>\n",
       "      <td>1</td>\n",
       "      <td>1</td>\n",
       "      <td>1</td>\n",
       "      <td>2</td>\n",
       "      <td>1</td>\n",
       "      <td>7</td>\n",
       "      <td>6</td>\n",
       "      <td>5</td>\n",
       "      <td>2</td>\n",
       "      <td>0</td>\n",
       "    </tr>\n",
       "    <tr>\n",
       "      <th>2</th>\n",
       "      <td>2018010003</td>\n",
       "      <td>2</td>\n",
       "      <td>6</td>\n",
       "      <td>4</td>\n",
       "      <td>2</td>\n",
       "      <td>3</td>\n",
       "      <td>1</td>\n",
       "      <td>1</td>\n",
       "      <td>2</td>\n",
       "      <td>1</td>\n",
       "      <td>...</td>\n",
       "      <td>1</td>\n",
       "      <td>2</td>\n",
       "      <td>2</td>\n",
       "      <td>1</td>\n",
       "      <td>7</td>\n",
       "      <td>1</td>\n",
       "      <td>1</td>\n",
       "      <td>2</td>\n",
       "      <td>2</td>\n",
       "      <td>0</td>\n",
       "    </tr>\n",
       "    <tr>\n",
       "      <th>3</th>\n",
       "      <td>2018010004</td>\n",
       "      <td>2</td>\n",
       "      <td>6</td>\n",
       "      <td>5</td>\n",
       "      <td>2</td>\n",
       "      <td>3</td>\n",
       "      <td>8</td>\n",
       "      <td>10</td>\n",
       "      <td>2</td>\n",
       "      <td>3</td>\n",
       "      <td>...</td>\n",
       "      <td>98</td>\n",
       "      <td>98</td>\n",
       "      <td>2</td>\n",
       "      <td>0</td>\n",
       "      <td>98</td>\n",
       "      <td>6</td>\n",
       "      <td>6</td>\n",
       "      <td>98</td>\n",
       "      <td>2</td>\n",
       "      <td>3</td>\n",
       "    </tr>\n",
       "    <tr>\n",
       "      <th>4</th>\n",
       "      <td>2018010005</td>\n",
       "      <td>1</td>\n",
       "      <td>6</td>\n",
       "      <td>3</td>\n",
       "      <td>2</td>\n",
       "      <td>1</td>\n",
       "      <td>6</td>\n",
       "      <td>5</td>\n",
       "      <td>3</td>\n",
       "      <td>3</td>\n",
       "      <td>...</td>\n",
       "      <td>1</td>\n",
       "      <td>2</td>\n",
       "      <td>2</td>\n",
       "      <td>2</td>\n",
       "      <td>4</td>\n",
       "      <td>7</td>\n",
       "      <td>4</td>\n",
       "      <td>4</td>\n",
       "      <td>2</td>\n",
       "      <td>0</td>\n",
       "    </tr>\n",
       "  </tbody>\n",
       "</table>\n",
       "<p>5 rows × 28 columns</p>\n",
       "</div>"
      ],
      "text/plain": [
       "           id  gender  education  income  work_status  investment_knowledge  \\\n",
       "0  2018010001       2          5       1            6                     0   \n",
       "1  2018010002       2          6       5            2                     1   \n",
       "2  2018010003       2          6       4            2                     3   \n",
       "3  2018010004       2          6       5            2                     3   \n",
       "4  2018010005       1          6       3            2                     1   \n",
       "\n",
       "   financial_satisfaction_score  risk_tolerance  income_to_debt  \\\n",
       "0                             1               1               3   \n",
       "1                             4               3               3   \n",
       "2                             1               1               2   \n",
       "3                             8              10               2   \n",
       "4                             6               5               3   \n",
       "\n",
       "   difficult_to_pay_bills  ...  employer_provided_retirement_account  \\\n",
       "0                       1  ...                                     1   \n",
       "1                       2  ...                                     1   \n",
       "2                       1  ...                                     1   \n",
       "3                       3  ...                                    98   \n",
       "4                       3  ...                                     1   \n",
       "\n",
       "   self_retirement_account  other_investment_accounts  \\\n",
       "0                        2                          0   \n",
       "1                        1                          1   \n",
       "2                        2                          2   \n",
       "3                       98                          2   \n",
       "4                        2                          2   \n",
       "\n",
       "   minimum_credit_card_payement_only  too_much_debt  \\\n",
       "0                                  0              7   \n",
       "1                                  2              1   \n",
       "2                                  1              7   \n",
       "3                                  0             98   \n",
       "4                                  2              4   \n",
       "\n",
       "   good_at_daily_financial_matters  good_at_math  financial_knowledge  \\\n",
       "0                                1             6                    2   \n",
       "1                                7             6                    5   \n",
       "2                                1             1                    2   \n",
       "3                                6             6                   98   \n",
       "4                                7             4                    4   \n",
       "\n",
       "   taken_financial_education  how_many_hours_of_financial_education  \n",
       "0                          2                                      0  \n",
       "1                          2                                      0  \n",
       "2                          2                                      0  \n",
       "3                          2                                      3  \n",
       "4                          2                                      0  \n",
       "\n",
       "[5 rows x 28 columns]"
      ]
     },
     "execution_count": 11,
     "metadata": {},
     "output_type": "execute_result"
    }
   ],
   "source": [
    "df.head()"
   ]
  },
  {
   "cell_type": "markdown",
   "metadata": {},
   "source": [
    "Looking at an initial breakdown of the data, there are slightly more female respondents than male respondents.   About 56% of respondents are women and 44%  of all respondents are men."
   ]
  },
  {
   "cell_type": "code",
   "execution_count": 12,
   "metadata": {},
   "outputs": [
    {
     "name": "stdout",
     "output_type": "stream",
     "text": [
      "Female    15135\n",
      "Male      11956\n",
      "Name: cat_gender, dtype: int64\n"
     ]
    },
    {
     "data": {
      "image/png": "[encoded data removed]",
      "text/plain": [
       "<Figure size 432x288 with 1 Axes>"
      ]
     },
     "metadata": {},
     "output_type": "display_data"
    }
   ],
   "source": [
    "# create a clean categorical column for gender\n",
    "df['cat_gender'] = df['gender'].apply(lambda x: 'Male' if x == 1 else 'Female')\n",
    "\n",
    "# plot the totals in a quick pie chart\n",
    "g1 = df['cat_gender'].value_counts().plot.pie(autopct=\"%.1f%%\")\n",
    "fig = g1.get_figure()\n",
    "fig.savefig('./figures/g1.png')\n",
    "\n",
    "# print total counts for each group\n",
    "print(df['cat_gender'].value_counts())"
   ]
  },
  {
   "cell_type": "markdown",
   "metadata": {},
   "source": [
    "<span id=\"findings\" />\n",
    "          \n",
    "          \n",
    "### Findings"
   ]
  },
  {
   "cell_type": "markdown",
   "metadata": {},
   "source": [
    "#### Q 1: Do women participate in the stock market at a lower rate than men?\n",
    "This analysis begins by addressing the question of whether women participate in the stock market at a lower rate than men.  Since all of these responses are numerically encoded, it may be useful to create cleaner categorical columns with more informative entries.  The following code performs this task."
   ]
  },
  {
   "cell_type": "code",
   "execution_count": 13,
   "metadata": {},
   "outputs": [],
   "source": [
    "# who has access to an investment account\n",
    "\n",
    "# create a clean column with labels\n",
    "def set_investment_accounts(score):\n",
    "    if score==1:\n",
    "        return 'Yes'\n",
    "    elif score==2:\n",
    "        return 'No'\n",
    "    else:\n",
    "        return \"Unknown\"\n",
    "\n",
    "# who has employer-provided account, other retirement, or other investments        \n",
    "df['cat_employer_provided_retirement_account'] = df.apply(lambda x: set_investment_accounts(x['employer_provided_retirement_account']),axis=1)\n",
    "df['cat_self_retirement_account'] = df.apply(lambda x: set_investment_accounts(x['self_retirement_account']),axis=1)\n",
    "df['cat_other_investment_accounts'] = df.apply(lambda x: set_investment_accounts(x['other_investment_accounts']),axis=1)"
   ]
  },
  {
   "cell_type": "markdown",
   "metadata": {},
   "source": [
    "In order to be considered a participant in the stock market, a respondent must meet _at least one_ of the following criteria:  \n",
    "- Hold an employer-provided retirement account.\n",
    "- Hold a retirement account not provided by an employer.\n",
    "- Hold any investments in stocks, bonds, mutual funds, or other securities outside of a retirement account.\n",
    "\n",
    "We can create a categorical column that tracks this information."
   ]
  },
  {
   "cell_type": "code",
   "execution_count": 14,
   "metadata": {},
   "outputs": [],
   "source": [
    "# create a clean column with labels\n",
    "def set_participant(account1, account2, account3):\n",
    "    if 'Yes' in {account1, account2, account3}:\n",
    "        return 'Yes'\n",
    "    else:\n",
    "        return \"No\"\n",
    "    \n",
    "def set_participant_numerical(account1, account2, account3):\n",
    "    if 'Yes' in {account1, account2, account3}:\n",
    "        return 1\n",
    "    else:\n",
    "        return 0\n",
    "        \n",
    "df['cat_market_participant'] = df.apply(lambda x: set_participant(x['cat_employer_provided_retirement_account'], x['cat_self_retirement_account'], x['cat_other_investment_accounts']),axis=1)\n",
    "df['market_participant'] = df.apply(lambda x: set_participant_numerical(x['cat_employer_provided_retirement_account'], x['cat_self_retirement_account'], x['cat_other_investment_accounts']),axis=1)\n"
   ]
  },
  {
   "cell_type": "markdown",
   "metadata": {},
   "source": [
    "We can now graph this data and examine the relationship."
   ]
  },
  {
   "cell_type": "code",
   "execution_count": 15,
   "metadata": {},
   "outputs": [
    {
     "data": {
      "image/png": "[encoded data removed]",
      "text/plain": [
       "<Figure size 432.625x360 with 1 Axes>"
      ]
     },
     "metadata": {
      "needs_background": "light"
     },
     "output_type": "display_data"
    }
   ],
   "source": [
    "# plot the gender distribution\n",
    "g2 = sns.catplot(x=\"cat_market_participant\", \n",
    "            kind=\"count\",\n",
    "            hue='cat_gender',\n",
    "            data=df,\n",
    "            order=[\"Yes\", \"No\"],\n",
    "            palette=(\"Blues\"))\n",
    "\n",
    "# set labels\n",
    "g2.fig.suptitle('Do you participate in the market in some way?') \n",
    "g2.set(xlabel='Market Participation', )\n",
    "g2._legend.set_title(\"Gender\")\n",
    "\n",
    "# save output\n",
    "g2.savefig('./figures/g2.png')"
   ]
  },
  {
   "cell_type": "markdown",
   "metadata": {},
   "source": [
    "There are a higher number of female respondents that participate in the market.   However, there are more females in our respondent pool. These results must be normalized against the total population in each group."
   ]
  },
  {
   "cell_type": "code",
   "execution_count": 16,
   "metadata": {},
   "outputs": [
    {
     "name": "stdout",
     "output_type": "stream",
     "text": [
      "cat_gender  cat_market_participant\n",
      "Female      Yes                       0.62775\n",
      "            No                        0.37225\n",
      "dtype: float64\n",
      "cat_gender  cat_market_participant\n",
      "Male        Yes                       0.725828\n",
      "            No                        0.274172\n",
      "dtype: float64\n"
     ]
    }
   ],
   "source": [
    "print(df[(df['cat_gender'] =='Female')][['cat_gender','cat_market_participant']].value_counts(normalize=True))\n",
    "print(df[(df['cat_gender'] =='Male')][['cat_gender','cat_market_participant']].value_counts(normalize=True))"
   ]
  },
  {
   "cell_type": "markdown",
   "metadata": {},
   "source": [
    "72% of male respondents participate in the market in some way, while only 62% of female respondents particpate.  To examine whether or not this is statistically significant, a simple two-sample Z-test for a proportion will be run.  In this case the null hypothesis is that the proportion should be equal for the two groups.  The alternative hypothesis is that the proportion of market participants is less for women than it is for men."
   ]
  },
  {
   "cell_type": "code",
   "execution_count": 17,
   "metadata": {},
   "outputs": [
    {
     "name": "stdout",
     "output_type": "stream",
     "text": [
      "Z-Statistic: -17.061, \n",
      "P-Value: 0.000, \n",
      "Conclusion:\n",
      "Reject the null hypothesis.\n"
     ]
    }
   ],
   "source": [
    "# set significance level\n",
    "alpha = 0.025\n",
    "\n",
    "# compare market participation in both populations\n",
    "female_participants, female_respondents = (9501, 15135)\n",
    "male_participants, male_respondents = (8678, 11956)\n",
    "\n",
    "participants = np.array([female_participants, male_participants])\n",
    "respondents = np.array([female_respondents, male_respondents])\n",
    "\n",
    "# run our test\n",
    "stat, p_val = proportions_ztest(count=participants, nobs=respondents,  alternative='smaller')\n",
    "\n",
    "# check results\n",
    "print('Z-Statistic: %0.3f, \\nP-Value: %0.3f, \\nConclusion:' % (stat, p_val))\n",
    "if p_val < alpha:\n",
    "    print (\"Reject the null hypothesis.\")\n",
    "else:\n",
    "    print(\"Fail to reject the null hypothesis.\")\n"
   ]
  },
  {
   "cell_type": "markdown",
   "metadata": {},
   "source": [
    "It is clear from the results that this is a signifcant difference between the two proportions.   Based on this sample, it appears women participate in the market at a lower rate then men.  Perhaps a clearer way to quantify this difference is to run a logistic regression with `market_participant` as the target variable and `gender` as the predictor."
   ]
  },
  {
   "cell_type": "code",
   "execution_count": 18,
   "metadata": {},
   "outputs": [
    {
     "name": "stdout",
     "output_type": "stream",
     "text": [
      "                 Generalized Linear Model Regression Results                  \n",
      "==============================================================================\n",
      "Dep. Variable:     market_participant   No. Observations:                27091\n",
      "Model:                            GLM   Df Residuals:                    27089\n",
      "Model Family:                Binomial   Df Model:                            1\n",
      "Link Function:                  logit   Scale:                          1.0000\n",
      "Method:                          IRLS   Log-Likelihood:                -17014.\n",
      "Date:                Mon, 14 Dec 2020   Deviance:                       34028.\n",
      "Time:                        03:08:37   Pearson chi2:                 2.71e+04\n",
      "No. Iterations:                     5                                         \n",
      "Covariance Type:            nonrobust                                         \n",
      "==================================================================================\n",
      "                     coef    std err          z      P>|z|      [0.025      0.975]\n",
      "----------------------------------------------------------------------------------\n",
      "Intercept          0.9736      0.021     47.488      0.000       0.933       1.014\n",
      "C(gender)[T.2]    -0.4510      0.027    -17.009      0.000      -0.503      -0.399\n",
      "==================================================================================\n"
     ]
    }
   ],
   "source": [
    "formula = 'market_participant ~ C(gender)'\n",
    "\n",
    "model = smf.glm(formula = formula, data=df, family=sm.families.Binomial())\n",
    "result = model.fit()\n",
    "print(result.summary())"
   ]
  },
  {
   "cell_type": "markdown",
   "metadata": {},
   "source": [
    "Again, there is highly significant p-value for the categorical variable of gender.  Exponentiating the coefficient allows for a clearer interpretation."
   ]
  },
  {
   "cell_type": "code",
   "execution_count": 19,
   "metadata": {},
   "outputs": [
    {
     "name": "stdout",
     "output_type": "stream",
     "text": [
      "0.36299655819951526\n"
     ]
    }
   ],
   "source": [
    "odds = 1 - math.exp(result.params['C(gender)[T.2]'])\n",
    "print(odds)"
   ]
  },
  {
   "cell_type": "markdown",
   "metadata": {},
   "source": [
    "With this result we can say that the odds of participating in the market are lower by about 36% when a respondent is a female instead of a male."
   ]
  },
  {
   "cell_type": "markdown",
   "metadata": {},
   "source": [
    "#### Q 2.1: What are they key factors that affect stock market participation?\n",
    "\n",
    "In this section I perform an exploratory data analysis to identify some of the key factors driving stock market participation.   The table below presents a correlation table for all columns compared to `market_participant`."
   ]
  },
  {
   "cell_type": "code",
   "execution_count": 29,
   "metadata": {},
   "outputs": [
    {
     "data": {
      "text/plain": [
       "market_participant                       1.000000\n",
       "income                                   0.525258\n",
       "minimum_credit_card_payement_only        0.439276\n",
       "education                                0.297341\n",
       "investment_knowledge                     0.208074\n",
       "how_many_hours_of_financial_education    0.080058\n",
       "financial_satisfaction_score             0.003703\n",
       "good_at_math                            -0.007664\n",
       "good_at_daily_financial_matters         -0.013562\n",
       "comfort_asking_questions                -0.033841\n",
       "risk_tolerance                          -0.056592\n",
       "other_investment_accounts               -0.075332\n",
       "taken_financial_education               -0.081764\n",
       "financial_knowledge                     -0.091308\n",
       "work_status                             -0.096174\n",
       "difficult_to_pay_bills                  -0.096545\n",
       "savings_account                         -0.097192\n",
       "gender                                  -0.103653\n",
       "finances_makes_me_stressed              -0.108988\n",
       "finances_makes_me_anxious               -0.113147\n",
       "self_retirement_account                 -0.118633\n",
       "worry_about_retirement                  -0.120533\n",
       "too_much_debt                           -0.122325\n",
       "income_to_debt                          -0.142960\n",
       "confidence_paying_unexpected_need       -0.174995\n",
       "current_credit_record                   -0.191735\n",
       "know_retirement_amount                  -0.223153\n",
       "employer_provided_retirement_account    -0.257645\n",
       "Name: market_participant, dtype: float64"
      ]
     },
     "execution_count": 29,
     "metadata": {},
     "output_type": "execute_result"
    }
   ],
   "source": [
    "df[df.columns[1:]].corr()['market_participant'][:].sort_values(ascending=False)"
   ]
  },
  {
   "cell_type": "markdown",
   "metadata": {},
   "source": [
    "`Income` appears to be strongly correlated with market participation; however, not all of the variables listed above contain ordinal data so they will not be reflected properly.   Given that income appears to be a key factor, I suspect that work status is also strongly correlated.   In order investigate this relationship, the column needs to be modified slightly. "
   ]
  },
  {
   "cell_type": "code",
   "execution_count": 21,
   "metadata": {},
   "outputs": [],
   "source": [
    "# create a clean column with labels\n",
    "def set_work_status(score):\n",
    "    switcher = {\n",
    "        1: \"Self-employed\",\n",
    "        2: \"Work full-time for an employer\",\n",
    "        3: \"Work part-time for an employer\",\n",
    "        4: \"Homemaker\",\n",
    "        5: \"Full-time student\",\n",
    "        6: \"Permanently sick, disabled, or unable to work\",\n",
    "        7: \"Unemployed or temporarily laid off\",\n",
    "        8: \"Retired\",\n",
    "        99: \"Unknown\"\n",
    "    }\n",
    "    return switcher.get(score, \"Unknown\")\n",
    "        \n",
    "df['cat_work_status'] = df.apply(lambda x: set_work_status(x['work_status']),axis=1)"
   ]
  },
  {
   "cell_type": "markdown",
   "metadata": {},
   "source": [
    "We can graph this variable and it's relationship to market participation."
   ]
  },
  {
   "cell_type": "code",
   "execution_count": 22,
   "metadata": {},
   "outputs": [
    {
     "data": {
      "image/png": "[encoded data removed]",
      "text/plain": [
       "<Figure size 624.25x360 with 1 Axes>"
      ]
     },
     "metadata": {
      "needs_background": "light"
     },
     "output_type": "display_data"
    }
   ],
   "source": [
    "# plot the distribution\n",
    "g3 = sns.catplot(x=\"cat_market_participant\", \n",
    "            kind=\"count\", \n",
    "            data=df,\n",
    "            hue=\"cat_work_status\",\n",
    "            palette=(\"Blues\")\n",
    "           )\n",
    "g3.set(xlabel='Market Participant', )\n",
    "g3._legend.set_title(\"Work Status\")\n",
    "g3.fig.suptitle('Work Status vs. Market Participation') \n",
    "g3.savefig('./figures/g3.png')"
   ]
  },
  {
   "cell_type": "markdown",
   "metadata": {},
   "source": [
    "From the graph it is clear that an overwhelming majority of market participants hold full time jobs or are retired.   Using a similar method, we can investigate other columns in the dataset."
   ]
  },
  {
   "cell_type": "code",
   "execution_count": 23,
   "metadata": {},
   "outputs": [
    {
     "data": {
      "image/png": "[encoded data removed]",
      "text/plain": [
       "<Figure size 496.125x360 with 1 Axes>"
      ]
     },
     "metadata": {
      "needs_background": "light"
     },
     "output_type": "display_data"
    }
   ],
   "source": [
    "def set_credit_record(score):\n",
    "    switcher = {\n",
    "        1: \"Very bad\",\n",
    "        2: \"Bad\",\n",
    "        3: \"About average\",\n",
    "        4: \"Good\",\n",
    "        5: \"Very good\",\n",
    "        98: \"Don’t know\",\n",
    "        99: \"Prefer not to say\"\n",
    "    }\n",
    "    return switcher.get(score, \"Unknown\")\n",
    "        \n",
    "df['cat_current_credit_record'] = df.apply(lambda x: set_credit_record(x['current_credit_record']),axis=1)\n",
    "\n",
    "\n",
    "# plot the distribution\n",
    "g4 = sns.catplot(x=\"cat_market_participant\", \n",
    "            kind=\"count\", \n",
    "            data=df,\n",
    "            hue=\"cat_current_credit_record\",\n",
    "            palette=(\"Blues\")\n",
    "           )\n",
    "g4.set(xlabel='Market Participant', )\n",
    "g4._legend.set_title(\"Current Credit Record\")\n",
    "g4.fig.suptitle('Credit Record vs. Market Participation') \n",
    "g4.savefig('./figures/g4.png')"
   ]
  },
  {
   "cell_type": "markdown",
   "metadata": {},
   "source": [
    "Individuals with better credit records appear to have a much higher liklihood of investing in the stock market.   However, credit records are highly correlated with income and work status.  Looking at some other variables not related to income:"
   ]
  },
  {
   "cell_type": "code",
   "execution_count": 24,
   "metadata": {},
   "outputs": [
    {
     "data": {
      "image/png": "[encoded data removed]",
      "text/plain": [
       "<Figure size 438.125x360 with 1 Axes>"
      ]
     },
     "metadata": {
      "needs_background": "light"
     },
     "output_type": "display_data"
    }
   ],
   "source": [
    "# plot the distribution\n",
    "g5 = sns.catplot(x=\"cat_market_participant\", \n",
    "            kind=\"count\", \n",
    "            data=df,\n",
    "            hue=\"risk_tolerance\",\n",
    "            palette=(\"Blues\")\n",
    "           )\n",
    "g5.set(xlabel='Market Participant', )\n",
    "g5._legend.set_title(\"Tolerance for risk (1=Low, 10=high)\")\n",
    "g5.fig.suptitle('Risk Tolerance vs. Market Participation') \n",
    "g5.savefig('./figures/g5.png')"
   ]
  },
  {
   "cell_type": "markdown",
   "metadata": {},
   "source": [
    "From the graph above, it is clear that individuals with no tolerance for risk do not participate in the stock market.  However, the correlation is not as strong as with some of the other income-related categories.  Individuals across the spectrum of risk tolerance are participating in the market.  Quickly looking at several other categories:"
   ]
  },
  {
   "cell_type": "code",
   "execution_count": 25,
   "metadata": {},
   "outputs": [
    {
     "data": {
      "image/png": "[encoded data removed]",
      "text/plain": [
       "<Figure size 512.75x360 with 1 Axes>"
      ]
     },
     "metadata": {
      "needs_background": "light"
     },
     "output_type": "display_data"
    },
    {
     "data": {
      "image/png": "[encoded data removed]",
      "text/plain": [
       "<Figure size 528.625x360 with 1 Axes>"
      ]
     },
     "metadata": {
      "needs_background": "light"
     },
     "output_type": "display_data"
    },
    {
     "data": {
      "image/png": "[encoded data removed]",
      "text/plain": [
       "<Figure size 438.75x360 with 1 Axes>"
      ]
     },
     "metadata": {
      "needs_background": "light"
     },
     "output_type": "display_data"
    },
    {
     "data": {
      "image/png": "[encoded data removed]",
      "text/plain": [
       "<Figure size 469.875x360 with 1 Axes>"
      ]
     },
     "metadata": {
      "needs_background": "light"
     },
     "output_type": "display_data"
    }
   ],
   "source": [
    "# plot the distribution\n",
    "g6 = sns.catplot(x=\"cat_market_participant\", \n",
    "            kind=\"count\", \n",
    "            data=df,\n",
    "            hue=\"finances_makes_me_anxious\",\n",
    "            palette=(\"Blues\")\n",
    "           )\n",
    "g6.set(xlabel='Market Participant', )\n",
    "g6._legend.set_title(\"1=Strongly Disagree,\\ \\n10=Strongly Agree\")\n",
    "g6.fig.suptitle('Talking about my finances makes me feel anxious') \n",
    "g6.savefig('./figures/g6.png')\n",
    "\n",
    "# plot the distribution\n",
    "g7 = sns.catplot(x=\"cat_market_participant\", \n",
    "            kind=\"count\", \n",
    "            data=df,\n",
    "            hue=\"good_at_daily_financial_matters\",\n",
    "            palette=(\"Blues\")\n",
    "           )\n",
    "g7.set(xlabel='Market Participant', )\n",
    "g7._legend.set_title(\"1=Strongly Disagree,\\ \\n10=Strongly Agree\")\n",
    "g7.fig.suptitle('I am good at dealing with day-to-day financial matters') \n",
    "g7.savefig('./figures/g7.png')\n",
    "\n",
    "g8 = sns.catplot(x=\"cat_market_participant\", \n",
    "            kind=\"count\", \n",
    "            data=df,\n",
    "            hue=\"good_at_math\",\n",
    "            palette=(\"Blues\")\n",
    "           )\n",
    "g8.set(xlabel='Market Participant', )\n",
    "g8._legend.set_title(\"1=Strongly Disagree, \\n10=Strongly Agree\")\n",
    "g8.fig.suptitle('I am pretty good at math') \n",
    "g8.savefig('./figures/g8.png')\n",
    "\n",
    "g9 = sns.catplot(x=\"cat_market_participant\", \n",
    "            kind=\"count\", \n",
    "            data=df,\n",
    "            hue=\"financial_knowledge\",\n",
    "            palette=(\"Blues\")\n",
    "           )\n",
    "g9.set(xlabel='Market Participant', )\n",
    "g9._legend.set_title(\"1=Very Low, \\n10=Very High\")\n",
    "g9.fig.suptitle('How would you assess your overall financial knowledge?') \n",
    "g9.savefig('./figures/g9.png')"
   ]
  },
  {
   "cell_type": "markdown",
   "metadata": {},
   "source": [
    "From the collection of graphs above if at appears as though the following features play a key role whether or not an individual participates in the market:  \n",
    "- Factors related to income (work status, income, credit record, etc).\n",
    "- General comfort dealing with day-to-day financial matters.\n",
    "- General math skills.\n",
    "\n",
    "I will examine some of these key features in the next section."
   ]
  },
  {
   "cell_type": "markdown",
   "metadata": {},
   "source": [
    "#### Q 2.2: Do these key factors disproportionally affect women?\n",
    "\n",
    "Looking at the general comfort with day-to-day financial matters, as well as general math skills, there is almost no difference in the reported scores between men and women."
   ]
  },
  {
   "cell_type": "code",
   "execution_count": 26,
   "metadata": {},
   "outputs": [
    {
     "data": {
      "image/png": "[encoded data removed]",
      "text/plain": [
       "<Figure size 438.75x360 with 1 Axes>"
      ]
     },
     "metadata": {
      "needs_background": "light"
     },
     "output_type": "display_data"
    },
    {
     "data": {
      "image/png": "[encoded data removed]",
      "text/plain": [
       "<Figure size 469.875x360 with 1 Axes>"
      ]
     },
     "metadata": {
      "needs_background": "light"
     },
     "output_type": "display_data"
    }
   ],
   "source": [
    "g10 = sns.catplot(x=\"cat_gender\", \n",
    "            kind=\"count\", \n",
    "            data=df,\n",
    "            hue=\"good_at_math\",\n",
    "            palette=(\"Blues\")\n",
    "           )\n",
    "g10.set(xlabel='Gender', )\n",
    "g10._legend.set_title(\"1=Strongly Disagree, \\n10=Strongly Agree\")\n",
    "g10.fig.suptitle('I am pretty good at math') \n",
    "g10.savefig('./figures/g10.png')\n",
    "\n",
    "g11 = sns.catplot(x=\"cat_gender\", \n",
    "            kind=\"count\", \n",
    "            data=df,\n",
    "            hue=\"financial_knowledge\",\n",
    "            palette=(\"Blues\")\n",
    "           )\n",
    "g11.set(xlabel='Gender', )\n",
    "g11._legend.set_title(\"1=Very Low, \\n10=Very High\")\n",
    "g11.fig.suptitle('How would you assess your overall financial knowledge?') \n",
    "g11.savefig('./figures/g11.png')"
   ]
  },
  {
   "cell_type": "markdown",
   "metadata": {},
   "source": [
    "However, looking at employment types illustrates a vast difference between the two genders.  Since the vast majority of employer provided retirement accounts are only available to full-time employees, dividing up the responses by this feature is helpful."
   ]
  },
  {
   "cell_type": "code",
   "execution_count": 27,
   "metadata": {},
   "outputs": [
    {
     "data": {
      "image/png": "[encoded data removed]",
      "text/plain": [
       "<Figure size 483.375x360 with 1 Axes>"
      ]
     },
     "metadata": {
      "needs_background": "light"
     },
     "output_type": "display_data"
    }
   ],
   "source": [
    "df['cat_ft_status'] = df['work_status'].apply(lambda x: 'Full-Time' if x == 2 else 'Other')\n",
    "\n",
    "g12 = sns.catplot(x=\"cat_ft_status\", \n",
    "            kind=\"count\", \n",
    "            data=df.where(df['work_status'] != 8),\n",
    "            hue=\"cat_market_participant\",\n",
    "            palette=(\"Blues\")\n",
    "           )\n",
    "\n",
    "g12.set(xlabel='Work Status', )\n",
    "g12._legend.set_title(\"Market Participant\")\n",
    "g12.fig.suptitle('Work Status vs. Market Participation') \n",
    "g12.savefig('./figures/g12.png')"
   ]
  },
  {
   "cell_type": "markdown",
   "metadata": {},
   "source": [
    "It's clear that an overwhelming majority of market participants are full time employees.  Looking at the number of full-time employees split along gender lines:"
   ]
  },
  {
   "cell_type": "code",
   "execution_count": 28,
   "metadata": {},
   "outputs": [
    {
     "name": "stdout",
     "output_type": "stream",
     "text": [
      "cat_gender  cat_ft_status\n",
      "Female      Other            0.661711\n",
      "            Full-Time        0.338289\n",
      "dtype: float64\n",
      "cat_gender  cat_ft_status\n",
      "Male        Other            0.524925\n",
      "            Full-Time        0.475075\n",
      "dtype: float64\n"
     ]
    }
   ],
   "source": [
    "print(df[(df['cat_gender'] =='Female')][['cat_gender','cat_ft_status']].value_counts(normalize=True))\n",
    "print(df[(df['cat_gender'] =='Male')][['cat_gender','cat_ft_status']].value_counts(normalize=True))"
   ]
  },
  {
   "cell_type": "markdown",
   "metadata": {},
   "source": [
    "Only 33.8% of all female respondents were considered full-time employees, compared to nearly half of the male respondents.  Above all other features, the discrepancy in full-time employement appears to account for the greatest variance in market participation between genders."
   ]
  },
  {
   "cell_type": "markdown",
   "metadata": {},
   "source": [
    "<span id=\"discussion\" />\n",
    "\n",
    "### Discussion"
   ]
  },
  {
   "cell_type": "code",
   "execution_count": null,
   "metadata": {},
   "outputs": [],
   "source": []
  },
  {
   "cell_type": "markdown",
   "metadata": {},
   "source": [
    "<span id=\"conclusion\" />\n",
    "\n",
    "### Conclusion\n",
    "blah blah blah"
   ]
  },
  {
   "cell_type": "code",
   "execution_count": null,
   "metadata": {},
   "outputs": [],
   "source": []
  },
  {
   "cell_type": "markdown",
   "metadata": {},
   "source": [
    "<span id=\"questions\"/>\n",
    "\n"
   ]
  }
 ],
 "metadata": {
  "kernelspec": {
   "display_name": "Python 3",
   "language": "python",
   "name": "python3"
  },
  "language_info": {
   "codemirror_mode": {
    "name": "ipython",
    "version": 3
   },
   "file_extension": ".py",
   "mimetype": "text/x-python",
   "name": "python",
   "nbconvert_exporter": "python",
   "pygments_lexer": "ipython3",
   "version": "3.7.4"
  }
 },
 "nbformat": 4,
 "nbformat_minor": 4
}
