{
 "cells": [
  {
   "cell_type": "markdown",
   "metadata": {},
   "source": [
    "# GENDER AND STOCK MARKET PARTICIPATION\n",
    "_Karl Stavem_"
   ]
  },
  {
   "cell_type": "markdown",
   "metadata": {},
   "source": [
    "## Table of Contents\n",
    "1.  [Motivation and Problem Statement](#motivation)\n",
    "1.  [Research Questions and Hypotheses](#rq)\n",
    "1.  [Background and Related Work](#brr)\n",
    "1.  [Data](#dd)\n",
    "1.  [A Note On Terminology](#terminology)\n",
    "1.  [Methodology](#methodology)\n",
    "1.  [Data Preprocessing](#dpp)\n",
    "1.  [Findings](#findings)\n",
    "1.  [Discussion](#discussion)\n",
    "1.  [Conclusion](#conclusion)"
   ]
  },
  {
   "cell_type": "markdown",
   "metadata": {},
   "source": [
    "<span id=\"motivation\"/>\n",
    "    \n",
    "### Motivation and Problem Statement\n",
    "This study looks at the stock market and the ways in which participation varies by gender.  Because there is a significant and well-established [gender pay gap](https://www.pewresearch.org/fact-tank/2019/03/22/gender-pay-gap-facts/) it is vital to understand the ways this may lead to a exponential disparity in accumulated wealth and retirement savings."
   ]
  },
  {
   "cell_type": "markdown",
   "metadata": {},
   "source": [
    "<span id=\"rq\"/>\n",
    "\n",
    "### Research Questions and Hypotheses\n",
    "\n",
    "There are two specific questions that I will address in this analysis:\n",
    "\n",
    "- _Q 1:  Do women participate in the stock market at a lower rate than men?_\n",
    "- _Q 2.1:  What are they key factors that affect stock market participation?_  \n",
    "- _Q 2.2:  Do these key factors disproportionally affect women?_\n",
    "\n",
    "My initial hypothesis is that women participate in the stock market at a lower rate than men.   I expect that this drop in participation is driven less by differences in attitudes or perceptions and more.\n"
   ]
  },
  {
   "cell_type": "markdown",
   "metadata": {},
   "source": [
    "<span id=\"brr\" />\n",
    "\n",
    "### Background and Related Work\n",
    "Many financial advisory firms have conducted independent research into these issues in the past.   For example Northwestern Mutual has routinely [published findings](https://news.northwesternmutual.com/planning-and-progress-2019) outlining general attitudes and bevahiors around money and investing.   Addtionally, FINRA publishes results from the National Financial Capability Study on [their website](https://www.usfinancialcapability.org/results.php?region=US) every three years.  However, most of these studies do not specifically focus on gender."
   ]
  },
  {
   "cell_type": "markdown",
   "metadata": {},
   "source": [
    "<span id=\"dd\" />\n",
    "\n",
    "### Data\n",
    "\n",
    "\n",
    "#### Descrption\n",
    "The primary dataset used to address these questions is the _2018 National Financial Capability Study (NFCS)_, funded by the FINRA Investor Education Foundation.  The NFCS is a longitudinal survey conducted across the United States every three years.   The goal of the survey is to benchmark key indicators of financial capability in U.S. households and evaluate how these indictors vary by regions, attitudes, and demographics.  While this is a longitudinal survey that has been conducted every three years since 2009, my analysis focuses exclusively on the 2018 dataset.  While the FINRA Investor Education Foundation publishes its own findings on this data, it has made the datasets, questionaires, and documents available to outside researchers.\n",
    "\n",
    "#### Dimensions\n",
    "The 2018 NFCS contains responses from roughly 27,000 households across all 50 states.  Each respondent provided answers to 127 different questions.   All responses have been numericall encoded into a single .csv file.\n",
    "\n",
    "\n",
    "#### Access\n",
    "\n",
    "The 2018 NFCS dataset is freely available online and is subject to FINRA's [terms of use](https://www.usfinancialcapability.org/terms.php).  Full details and descrptions can be found on the on the [Data and Downloads](https://www.usfinancialcapability.org/downloads.php) page of the US Financial Capability website.  The primrary dataset used in this exploration is titled, _2018 State-by-State Survey — Respondent-Level Data, Comma delimited Excel file (.csv)_ and it may be downloaded in a .zip file directly from FINRA's website using [this link](https://www.usfinancialcapability.org/downloads/NFCS_2018_State_by_State_Data_Excel.zip).  This project already contains the full 2018 NFCS dataset, which can be viewed directly here: [\\\"NFCS 2018 State Data 190603.csv\\\"](raw_data/NFCS%202018%20State%20Data%20190603.csv). "
   ]
  },
  {
   "cell_type": "markdown",
   "metadata": {},
   "source": [
    "<span id=\"terminology\" />\n",
    "\n",
    "### A Note on Terminology\n",
    "\n",
    "It is important to acknowledge the usage of specific terms like _gender_ and _sex_ in this analysis.  Regrettably, the NFCS dataset uses terms like _gender_ and _sex_ interchangebly as well as terms like _woman_ and _female_.   Additionally, all survey respondents were required to self-identify strictly as either _male_ or _female_ with no alternative for non-binary designations.   As a result, the findings presented in this study make the same adjustments.   Unfortunately, all subsequent analysis will use these words interchangebly and all findings are based on the assumption that respondents fall neatly into one of two distinct gender groups, either male or female."
   ]
  },
  {
   "cell_type": "markdown",
   "metadata": {},
   "source": [
    "<span id=\"methodology\" />\n",
    "\n",
    "### Methodology\n",
    "\n",
    "blah blah blah blah\n",
    "\n"
   ]
  },
  {
   "cell_type": "markdown",
   "metadata": {},
   "source": [
    "<span id=\"dpp\"/>\n",
    "\n",
    "### Data Preprocessing\n",
    "\n",
    "Each respondent in this survey was asked 127 individual questions; however, not all of the questions posed are useful to this analysis.   The following section will download the raw data from the website and create a refined dataframe to work with."
   ]
  },
  {
   "cell_type": "markdown",
   "metadata": {},
   "source": [
    "First, import all necessary libraries for processing and analysing the data."
   ]
  },
  {
   "cell_type": "code",
   "execution_count": 2,
   "metadata": {},
   "outputs": [],
   "source": [
    "# import libraries for data aquisition and processing\n",
    "import pandas as pd\n",
    "import numpy as np\n",
    "import requests, zipfile, io\n",
    "\n",
    "# import libraries for visualizations\n",
    "import matplotlib.pyplot as plt\n",
    "import seaborn as sns\n",
    "\n",
    "# import libraries for statistical tests\n",
    "from statsmodels.stats.proportion import proportions_ztest"
   ]
  },
  {
   "cell_type": "markdown",
   "metadata": {},
   "source": [
    "Since the data on the FINRA website is all in zipped form, I have created a method to extract the raw data into the _raw_data_ directory.  Additionally, since there are multiple datasets available on the website, this will make future analysis easier."
   ]
  },
  {
   "cell_type": "code",
   "execution_count": 50,
   "metadata": {},
   "outputs": [],
   "source": [
    "def get_data(zip_file_url):\n",
    "    \"\"\"\n",
    "    Input: Website to extract zip file.\n",
    "    Output:  Extracted data in '/raw_data' folder\n",
    "    \"\"\"\n",
    "    import requests, zipfile, io\n",
    "    r = requests.get(zip_file_url)\n",
    "    if r.ok:\n",
    "        print('Request Succesful.')\n",
    "    else:\n",
    "        print('Error submitting request.')\n",
    "        \n",
    "    z = zipfile.ZipFile(io.BytesIO(r.content))\n",
    "    z.extractall('./raw_data')"
   ]
  },
  {
   "cell_type": "markdown",
   "metadata": {},
   "source": [
    "Now we can call the method to save the files in the appropriate place."
   ]
  },
  {
   "cell_type": "code",
   "execution_count": 51,
   "metadata": {},
   "outputs": [
    {
     "name": "stdout",
     "output_type": "stream",
     "text": [
      "Request Succesful.\n"
     ]
    }
   ],
   "source": [
    "#%%capture\n",
    "\n",
    "# download state by state data, store this in a data frame\n",
    "BASE_URL = 'https://www.usfinancialcapability.org/downloads/'\n",
    "\n",
    "# populate the list of data sets to download from the site\n",
    "file_list = ['NFCS_2018_State_by_State_Data_Excel.zip']\n",
    "\n",
    "# call the function for each file in the list\n",
    "for filename in file_list:\n",
    "    get_data(zip_file_url = BASE_URL + filename)"
   ]
  },
  {
   "cell_type": "markdown",
   "metadata": {},
   "source": [
    "We will store this data as a pandas dataframe."
   ]
  },
  {
   "cell_type": "code",
   "execution_count": 52,
   "metadata": {},
   "outputs": [
    {
     "data": {
      "text/html": [
       "<div>\n",
       "<style scoped>\n",
       "    .dataframe tbody tr th:only-of-type {\n",
       "        vertical-align: middle;\n",
       "    }\n",
       "\n",
       "    .dataframe tbody tr th {\n",
       "        vertical-align: top;\n",
       "    }\n",
       "\n",
       "    .dataframe thead th {\n",
       "        text-align: right;\n",
       "    }\n",
       "</style>\n",
       "<table border=\"1\" class=\"dataframe\">\n",
       "  <thead>\n",
       "    <tr style=\"text-align: right;\">\n",
       "      <th></th>\n",
       "      <th>NFCSID</th>\n",
       "      <th>STATEQ</th>\n",
       "      <th>CENSUSDIV</th>\n",
       "      <th>CENSUSREG</th>\n",
       "      <th>A3</th>\n",
       "      <th>A3Ar_w</th>\n",
       "      <th>A3B</th>\n",
       "      <th>A4A_new_w</th>\n",
       "      <th>A5_2015</th>\n",
       "      <th>A6</th>\n",
       "      <th>...</th>\n",
       "      <th>M42</th>\n",
       "      <th>M6</th>\n",
       "      <th>M7</th>\n",
       "      <th>M8</th>\n",
       "      <th>M31</th>\n",
       "      <th>M9</th>\n",
       "      <th>M10</th>\n",
       "      <th>wgt_n2</th>\n",
       "      <th>wgt_d2</th>\n",
       "      <th>wgt_s3</th>\n",
       "    </tr>\n",
       "  </thead>\n",
       "  <tbody>\n",
       "    <tr>\n",
       "      <th>0</th>\n",
       "      <td>2018010001</td>\n",
       "      <td>48</td>\n",
       "      <td>9</td>\n",
       "      <td>4</td>\n",
       "      <td>2</td>\n",
       "      <td>5</td>\n",
       "      <td>11</td>\n",
       "      <td>1</td>\n",
       "      <td>5</td>\n",
       "      <td>4</td>\n",
       "      <td>...</td>\n",
       "      <td></td>\n",
       "      <td>1</td>\n",
       "      <td>3</td>\n",
       "      <td>98</td>\n",
       "      <td>98</td>\n",
       "      <td>98</td>\n",
       "      <td>1</td>\n",
       "      <td>0.683683</td>\n",
       "      <td>0.519642</td>\n",
       "      <td>1.095189</td>\n",
       "    </tr>\n",
       "    <tr>\n",
       "      <th>1</th>\n",
       "      <td>2018010002</td>\n",
       "      <td>10</td>\n",
       "      <td>5</td>\n",
       "      <td>3</td>\n",
       "      <td>2</td>\n",
       "      <td>2</td>\n",
       "      <td>8</td>\n",
       "      <td>1</td>\n",
       "      <td>6</td>\n",
       "      <td>1</td>\n",
       "      <td>...</td>\n",
       "      <td></td>\n",
       "      <td>1</td>\n",
       "      <td>3</td>\n",
       "      <td>98</td>\n",
       "      <td>3</td>\n",
       "      <td>1</td>\n",
       "      <td>98</td>\n",
       "      <td>0.808358</td>\n",
       "      <td>2.516841</td>\n",
       "      <td>0.922693</td>\n",
       "    </tr>\n",
       "    <tr>\n",
       "      <th>2</th>\n",
       "      <td>2018010003</td>\n",
       "      <td>44</td>\n",
       "      <td>7</td>\n",
       "      <td>3</td>\n",
       "      <td>2</td>\n",
       "      <td>2</td>\n",
       "      <td>8</td>\n",
       "      <td>1</td>\n",
       "      <td>6</td>\n",
       "      <td>1</td>\n",
       "      <td>...</td>\n",
       "      <td></td>\n",
       "      <td>1</td>\n",
       "      <td>1</td>\n",
       "      <td>98</td>\n",
       "      <td>98</td>\n",
       "      <td>1</td>\n",
       "      <td>98</td>\n",
       "      <td>1.021551</td>\n",
       "      <td>1.896192</td>\n",
       "      <td>0.671093</td>\n",
       "    </tr>\n",
       "    <tr>\n",
       "      <th>3</th>\n",
       "      <td>2018010004</td>\n",
       "      <td>10</td>\n",
       "      <td>5</td>\n",
       "      <td>3</td>\n",
       "      <td>2</td>\n",
       "      <td>1</td>\n",
       "      <td>7</td>\n",
       "      <td>1</td>\n",
       "      <td>6</td>\n",
       "      <td>2</td>\n",
       "      <td>...</td>\n",
       "      <td>7</td>\n",
       "      <td>98</td>\n",
       "      <td>98</td>\n",
       "      <td>4</td>\n",
       "      <td>4</td>\n",
       "      <td>2</td>\n",
       "      <td>98</td>\n",
       "      <td>0.808358</td>\n",
       "      <td>2.516841</td>\n",
       "      <td>0.922693</td>\n",
       "    </tr>\n",
       "    <tr>\n",
       "      <th>4</th>\n",
       "      <td>2018010005</td>\n",
       "      <td>13</td>\n",
       "      <td>8</td>\n",
       "      <td>4</td>\n",
       "      <td>1</td>\n",
       "      <td>2</td>\n",
       "      <td>2</td>\n",
       "      <td>1</td>\n",
       "      <td>6</td>\n",
       "      <td>1</td>\n",
       "      <td>...</td>\n",
       "      <td></td>\n",
       "      <td>1</td>\n",
       "      <td>3</td>\n",
       "      <td>98</td>\n",
       "      <td>2</td>\n",
       "      <td>1</td>\n",
       "      <td>98</td>\n",
       "      <td>0.448075</td>\n",
       "      <td>0.614733</td>\n",
       "      <td>1.232221</td>\n",
       "    </tr>\n",
       "  </tbody>\n",
       "</table>\n",
       "<p>5 rows × 128 columns</p>\n",
       "</div>"
      ],
      "text/plain": [
       "       NFCSID  STATEQ  CENSUSDIV  CENSUSREG  A3  A3Ar_w  A3B  A4A_new_w  \\\n",
       "0  2018010001      48          9          4   2       5   11          1   \n",
       "1  2018010002      10          5          3   2       2    8          1   \n",
       "2  2018010003      44          7          3   2       2    8          1   \n",
       "3  2018010004      10          5          3   2       1    7          1   \n",
       "4  2018010005      13          8          4   1       2    2          1   \n",
       "\n",
       "   A5_2015  A6  ...  M42  M6  M7  M8  M31  M9 M10    wgt_n2    wgt_d2  \\\n",
       "0        5   4  ...        1   3  98   98  98   1  0.683683  0.519642   \n",
       "1        6   1  ...        1   3  98    3   1  98  0.808358  2.516841   \n",
       "2        6   1  ...        1   1  98   98   1  98  1.021551  1.896192   \n",
       "3        6   2  ...    7  98  98   4    4   2  98  0.808358  2.516841   \n",
       "4        6   1  ...        1   3  98    2   1  98  0.448075  0.614733   \n",
       "\n",
       "     wgt_s3  \n",
       "0  1.095189  \n",
       "1  0.922693  \n",
       "2  0.671093  \n",
       "3  0.922693  \n",
       "4  1.232221  \n",
       "\n",
       "[5 rows x 128 columns]"
      ]
     },
     "metadata": {},
     "output_type": "display_data"
    }
   ],
   "source": [
    "# read the newly aquired data into a dataframe\n",
    "raw_df = pd.read_csv('raw_data/NFCS 2018 State Data 190603.csv')\n",
    "\n",
    "# Check the import results.\n",
    "display(raw_df.head())"
   ]
  },
  {
   "cell_type": "markdown",
   "metadata": {},
   "source": [
    "Now we can verify the size of the file.   Since there are about 27,000 respondents answering 127 questions each, we should see a dataset of roughly this size."
   ]
  },
  {
   "cell_type": "code",
   "execution_count": 53,
   "metadata": {},
   "outputs": [
    {
     "data": {
      "text/plain": [
       "(27091, 128)"
      ]
     },
     "execution_count": 53,
     "metadata": {},
     "output_type": "execute_result"
    }
   ],
   "source": [
    "raw_df.shape"
   ]
  },
  {
   "cell_type": "markdown",
   "metadata": {},
   "source": [
    "Since there are 127 questions in the survey and none of them have meaningful names, the function below will assign more informative headers to key columns in the dataset.  Since not all 127 questions are relevant to this research, the extranneous columns can be dropped."
   ]
  },
  {
   "cell_type": "code",
   "execution_count": 54,
   "metadata": {},
   "outputs": [],
   "source": [
    "def set_column_names(c):\n",
    "    switcher = {\n",
    "        'NFCSID':'id', \n",
    "        'A3':'gender', \n",
    "        'A5_2015':'education', \n",
    "        'A8':'income', \n",
    "        'A9':'work_status',\n",
    "        'A14':'investment_knowledge',\n",
    "        'J1':'financial_satisfaction_score',\n",
    "        'J2':'risk_tolerance',\n",
    "        'J3':'income_to_debt',\n",
    "        'J4':'difficult_to_pay_bills',\n",
    "        'J8':'know_retirement_amount',\n",
    "        'J20':'confidence_paying_unexpected_need',\n",
    "        'J32':'current_credit_record',\n",
    "        'J33_1':'worry_about_retirement',\n",
    "        'J33_40':'finances_makes_me_anxious',\n",
    "        'J33_41':'finances_makes_me_stressed',\n",
    "        'B2':'savings_account',\n",
    "        'B40':'comfort_asking_questions',\n",
    "        'C1_2012':'employer_provided_retirement_account',\n",
    "        'C4_2012':'self_retirement_account',\n",
    "        'B14':'other_investment_accounts',\n",
    "        'F2_3':'minimum_credit_card_payement_only',\n",
    "        'G23':'too_much_debt',\n",
    "        'M1_1':'good_at_daily_financial_matters',\n",
    "        'M1_2':'good_at_math',\n",
    "        'M4':'financial_knowledge',\n",
    "        'M40':'taken_financial_education',\n",
    "        'M41':'how_many_hours_of_financial_education'\n",
    "    }\n",
    "    return switcher.get(c, \"column_to_drop\")\n",
    "\n",
    "# create a new copy of the dataframe to manipulate\n",
    "df = raw_df\n",
    "\n",
    "# call the function above to rename columns\n",
    "df.rename(columns=lambda x: set_column_names(x), inplace=True)"
   ]
  },
  {
   "cell_type": "markdown",
   "metadata": {},
   "source": [
    "Now we are free to drop the remaining columns that will not be used in this analysis."
   ]
  },
  {
   "cell_type": "code",
   "execution_count": 55,
   "metadata": {},
   "outputs": [],
   "source": [
    "df.drop(['column_to_drop'], axis=1, inplace=True)"
   ]
  },
  {
   "cell_type": "markdown",
   "metadata": {},
   "source": [
    "There are several blank entries in the dataframe.   It is easier to work with NaN, so we will edit those cells."
   ]
  },
  {
   "cell_type": "code",
   "execution_count": 57,
   "metadata": {},
   "outputs": [],
   "source": [
    "df = df.replace(r'^\\s*$', np.nan, regex=True)"
   ]
  },
  {
   "cell_type": "markdown",
   "metadata": {},
   "source": [
    "Since all the data is numerically encoded, we will convert all columns into integer data types.   Since 0 is not a valid answer for any of the survey questions, we will fill in all blank and missing data with a 0."
   ]
  },
  {
   "cell_type": "code",
   "execution_count": 65,
   "metadata": {},
   "outputs": [
    {
     "data": {
      "text/plain": [
       "id                                       int64\n",
       "gender                                   int64\n",
       "education                                int64\n",
       "income                                   int64\n",
       "work_status                              int64\n",
       "investment_knowledge                     int64\n",
       "financial_satisfaction_score             int64\n",
       "risk_tolerance                           int64\n",
       "income_to_debt                           int64\n",
       "difficult_to_pay_bills                   int64\n",
       "know_retirement_amount                   int64\n",
       "confidence_paying_unexpected_need        int64\n",
       "current_credit_record                    int64\n",
       "worry_about_retirement                   int64\n",
       "finances_makes_me_anxious                int64\n",
       "finances_makes_me_stressed               int64\n",
       "savings_account                          int64\n",
       "comfort_asking_questions                 int64\n",
       "employer_provided_retirement_account     int64\n",
       "self_retirement_account                  int64\n",
       "other_investment_accounts                int64\n",
       "minimum_credit_card_payement_only        int64\n",
       "too_much_debt                            int64\n",
       "good_at_daily_financial_matters          int64\n",
       "good_at_math                             int64\n",
       "financial_knowledge                      int64\n",
       "taken_financial_education                int64\n",
       "how_many_hours_of_financial_education    int64\n",
       "dtype: object"
      ]
     },
     "execution_count": 65,
     "metadata": {},
     "output_type": "execute_result"
    }
   ],
   "source": [
    "# convert missing data to zeros\n",
    "df = df.fillna(0)\n",
    "\n",
    "# coerce all columns in the df to integer\n",
    "cols =['id', 'gender', 'education', 'income', 'work_status','investment_knowledge',\n",
    "      'financial_satisfaction_score','risk_tolerance','income_to_debt','difficult_to_pay_bills',\n",
    "      'know_retirement_amount','confidence_paying_unexpected_need','current_credit_record','worry_about_retirement',\n",
    "      'finances_makes_me_anxious','finances_makes_me_stressed','savings_account','comfort_asking_questions',\n",
    "      'employer_provided_retirement_account','self_retirement_account','other_investment_accounts','minimum_credit_card_payement_only',\n",
    "      'too_much_debt','good_at_daily_financial_matters','good_at_math','financial_knowledge','taken_financial_education',\n",
    "      'how_many_hours_of_financial_education']\n",
    "\n",
    "df[col] = df[cols].apply(lambda x :pd.to_numeric(x,errors='coerce').astype(int),axis=0)\n",
    "\n",
    "# check to ensure all columns are integers now\n",
    "df.dtypes"
   ]
  },
  {
   "cell_type": "markdown",
   "metadata": {},
   "source": [
    "Preview the results before moving forward."
   ]
  },
  {
   "cell_type": "code",
   "execution_count": 61,
   "metadata": {},
   "outputs": [
    {
     "data": {
      "text/html": [
       "<div>\n",
       "<style scoped>\n",
       "    .dataframe tbody tr th:only-of-type {\n",
       "        vertical-align: middle;\n",
       "    }\n",
       "\n",
       "    .dataframe tbody tr th {\n",
       "        vertical-align: top;\n",
       "    }\n",
       "\n",
       "    .dataframe thead th {\n",
       "        text-align: right;\n",
       "    }\n",
       "</style>\n",
       "<table border=\"1\" class=\"dataframe\">\n",
       "  <thead>\n",
       "    <tr style=\"text-align: right;\">\n",
       "      <th></th>\n",
       "      <th>id</th>\n",
       "      <th>gender</th>\n",
       "      <th>education</th>\n",
       "      <th>income</th>\n",
       "      <th>work_status</th>\n",
       "      <th>investment_knowledge</th>\n",
       "      <th>financial_satisfaction_score</th>\n",
       "      <th>risk_tolerance</th>\n",
       "      <th>income_to_debt</th>\n",
       "      <th>difficult_to_pay_bills</th>\n",
       "      <th>...</th>\n",
       "      <th>employer_provided_retirement_account</th>\n",
       "      <th>self_retirement_account</th>\n",
       "      <th>other_investment_accounts</th>\n",
       "      <th>minimum_credit_card_payement_only</th>\n",
       "      <th>too_much_debt</th>\n",
       "      <th>good_at_daily_financial_matters</th>\n",
       "      <th>good_at_math</th>\n",
       "      <th>financial_knowledge</th>\n",
       "      <th>taken_financial_education</th>\n",
       "      <th>how_many_hours_of_financial_education</th>\n",
       "    </tr>\n",
       "  </thead>\n",
       "  <tbody>\n",
       "    <tr>\n",
       "      <th>0</th>\n",
       "      <td>2018010001</td>\n",
       "      <td>2</td>\n",
       "      <td>5</td>\n",
       "      <td>1</td>\n",
       "      <td>6</td>\n",
       "      <td>0</td>\n",
       "      <td>1</td>\n",
       "      <td>1</td>\n",
       "      <td>3</td>\n",
       "      <td>1</td>\n",
       "      <td>...</td>\n",
       "      <td>1</td>\n",
       "      <td>2</td>\n",
       "      <td>0</td>\n",
       "      <td>0</td>\n",
       "      <td>7</td>\n",
       "      <td>1</td>\n",
       "      <td>6</td>\n",
       "      <td>2</td>\n",
       "      <td>2</td>\n",
       "      <td>0</td>\n",
       "    </tr>\n",
       "    <tr>\n",
       "      <th>1</th>\n",
       "      <td>2018010002</td>\n",
       "      <td>2</td>\n",
       "      <td>6</td>\n",
       "      <td>5</td>\n",
       "      <td>2</td>\n",
       "      <td>1</td>\n",
       "      <td>4</td>\n",
       "      <td>3</td>\n",
       "      <td>3</td>\n",
       "      <td>2</td>\n",
       "      <td>...</td>\n",
       "      <td>1</td>\n",
       "      <td>1</td>\n",
       "      <td>1</td>\n",
       "      <td>2</td>\n",
       "      <td>1</td>\n",
       "      <td>7</td>\n",
       "      <td>6</td>\n",
       "      <td>5</td>\n",
       "      <td>2</td>\n",
       "      <td>0</td>\n",
       "    </tr>\n",
       "    <tr>\n",
       "      <th>2</th>\n",
       "      <td>2018010003</td>\n",
       "      <td>2</td>\n",
       "      <td>6</td>\n",
       "      <td>4</td>\n",
       "      <td>2</td>\n",
       "      <td>3</td>\n",
       "      <td>1</td>\n",
       "      <td>1</td>\n",
       "      <td>2</td>\n",
       "      <td>1</td>\n",
       "      <td>...</td>\n",
       "      <td>1</td>\n",
       "      <td>2</td>\n",
       "      <td>2</td>\n",
       "      <td>1</td>\n",
       "      <td>7</td>\n",
       "      <td>1</td>\n",
       "      <td>1</td>\n",
       "      <td>2</td>\n",
       "      <td>2</td>\n",
       "      <td>0</td>\n",
       "    </tr>\n",
       "    <tr>\n",
       "      <th>3</th>\n",
       "      <td>2018010004</td>\n",
       "      <td>2</td>\n",
       "      <td>6</td>\n",
       "      <td>5</td>\n",
       "      <td>2</td>\n",
       "      <td>3</td>\n",
       "      <td>8</td>\n",
       "      <td>10</td>\n",
       "      <td>2</td>\n",
       "      <td>3</td>\n",
       "      <td>...</td>\n",
       "      <td>98</td>\n",
       "      <td>98</td>\n",
       "      <td>2</td>\n",
       "      <td>98</td>\n",
       "      <td>98</td>\n",
       "      <td>6</td>\n",
       "      <td>6</td>\n",
       "      <td>98</td>\n",
       "      <td>2</td>\n",
       "      <td>3</td>\n",
       "    </tr>\n",
       "    <tr>\n",
       "      <th>4</th>\n",
       "      <td>2018010005</td>\n",
       "      <td>1</td>\n",
       "      <td>6</td>\n",
       "      <td>3</td>\n",
       "      <td>2</td>\n",
       "      <td>1</td>\n",
       "      <td>6</td>\n",
       "      <td>5</td>\n",
       "      <td>3</td>\n",
       "      <td>3</td>\n",
       "      <td>...</td>\n",
       "      <td>1</td>\n",
       "      <td>2</td>\n",
       "      <td>2</td>\n",
       "      <td>2</td>\n",
       "      <td>4</td>\n",
       "      <td>7</td>\n",
       "      <td>4</td>\n",
       "      <td>4</td>\n",
       "      <td>2</td>\n",
       "      <td>0</td>\n",
       "    </tr>\n",
       "  </tbody>\n",
       "</table>\n",
       "<p>5 rows × 28 columns</p>\n",
       "</div>"
      ],
      "text/plain": [
       "           id  gender  education  income  work_status  investment_knowledge  \\\n",
       "0  2018010001       2          5       1            6                     0   \n",
       "1  2018010002       2          6       5            2                     1   \n",
       "2  2018010003       2          6       4            2                     3   \n",
       "3  2018010004       2          6       5            2                     3   \n",
       "4  2018010005       1          6       3            2                     1   \n",
       "\n",
       "   financial_satisfaction_score  risk_tolerance  income_to_debt  \\\n",
       "0                             1               1               3   \n",
       "1                             4               3               3   \n",
       "2                             1               1               2   \n",
       "3                             8              10               2   \n",
       "4                             6               5               3   \n",
       "\n",
       "   difficult_to_pay_bills  ...  employer_provided_retirement_account  \\\n",
       "0                       1  ...                                     1   \n",
       "1                       2  ...                                     1   \n",
       "2                       1  ...                                     1   \n",
       "3                       3  ...                                    98   \n",
       "4                       3  ...                                     1   \n",
       "\n",
       "   self_retirement_account  other_investment_accounts  \\\n",
       "0                        2                          0   \n",
       "1                        1                          1   \n",
       "2                        2                          2   \n",
       "3                       98                          2   \n",
       "4                        2                          2   \n",
       "\n",
       "   minimum_credit_card_payement_only  too_much_debt  \\\n",
       "0                                  0              7   \n",
       "1                                  2              1   \n",
       "2                                  1              7   \n",
       "3                                 98             98   \n",
       "4                                  2              4   \n",
       "\n",
       "   good_at_daily_financial_matters  good_at_math  financial_knowledge  \\\n",
       "0                                1             6                    2   \n",
       "1                                7             6                    5   \n",
       "2                                1             1                    2   \n",
       "3                                6             6                   98   \n",
       "4                                7             4                    4   \n",
       "\n",
       "   taken_financial_education  how_many_hours_of_financial_education  \n",
       "0                          2                                      0  \n",
       "1                          2                                      0  \n",
       "2                          2                                      0  \n",
       "3                          2                                      3  \n",
       "4                          2                                      0  \n",
       "\n",
       "[5 rows x 28 columns]"
      ]
     },
     "execution_count": 61,
     "metadata": {},
     "output_type": "execute_result"
    }
   ],
   "source": [
    "df.head()"
   ]
  },
  {
   "cell_type": "markdown",
   "metadata": {},
   "source": [
    "<span id=\"findings\" />\n",
    "          \n",
    "          \n",
    "### Findings"
   ]
  },
  {
   "cell_type": "markdown",
   "metadata": {},
   "source": [
    "If we look at an initial breakdown of the data, we see slightly more female respondents than male respondents.   About 56% of respondents are women vs 44% men."
   ]
  },
  {
   "cell_type": "code",
   "execution_count": null,
   "metadata": {},
   "outputs": [],
   "source": [
    "# create a clean categorical column for gender\n",
    "df['cat_gender'] = df['gender'].apply(lambda x: 'Male' if x == 1 else 'Female')\n",
    "\n",
    "# plot the totals in a quick pie chart\n",
    "g1 = df['cat_gender'].value_counts().plot.pie(autopct=\"%.1f%%\")\n",
    "fig = g1.get_figure()\n",
    "fig.savefig('./figures/g1.png')\n",
    "\n",
    "# print total counts for each group\n",
    "print(df['cat_gender'].value_counts())"
   ]
  },
  {
   "cell_type": "markdown",
   "metadata": {},
   "source": [
    "#### R1:   Do Women Participate in the Stock Market at a Lower Rate Than Men?\n",
    "This analysis begins by addressing the question of whether women \\participate in the stock market at a lower rate than men.  Since all of these responses are numerically encoded, it may be useful to create cleaner categorical columns with more informative entries.  The following code performs this task.\n",
    "          "
   ]
  },
  {
   "cell_type": "code",
   "execution_count": null,
   "metadata": {},
   "outputs": [],
   "source": [
    "# who has access to an investment account\n",
    "\n",
    "# create a clean column with labels\n",
    "def set_investment_accounts(score):\n",
    "    if score in (1, '1'):\n",
    "        return 'Yes'\n",
    "    elif score in (2, '2'):\n",
    "        return 'No'\n",
    "    else:\n",
    "        return \"Unknown\"\n",
    "\n",
    "# who has employer-provided account, other retirement, or other investments        \n",
    "df['cat_employer_provided_retirement_account'] = df.apply(lambda x: set_investment_accounts(x['employer_provided_retirement_account']),axis=1)\n",
    "df['cat_self_retirement_account'] = df.apply(lambda x: set_investment_accounts(x['self_retirement_account']),axis=1)\n",
    "df['cat_other_investment_accounts'] = df.apply(lambda x: set_investment_accounts(x['other_investment_accounts']),axis=1)"
   ]
  },
  {
   "cell_type": "markdown",
   "metadata": {},
   "source": [
    "In order to be considered a participant in the stock market, a respondent must meet _at least one_ of the following criteria:  \n",
    "- Hold an employer-provided retirement account.\n",
    "- Hold a retirement account not provided by an employer.\n",
    "- Hold any investments in stocks, bonds, mutual funds, or other securities outside of a retirement account.\n",
    "\n",
    "We can create a categorical column that tracks this information."
   ]
  },
  {
   "cell_type": "code",
   "execution_count": null,
   "metadata": {},
   "outputs": [],
   "source": [
    "# create a clean column with labels\n",
    "def set_participant(account1, account2, account3):\n",
    "    if 'Yes' in {account1, account2, account3}:\n",
    "        return 'Yes'\n",
    "    else:\n",
    "        return \"No\"\n",
    "        \n",
    "df['cat_market_participant'] = df.apply(lambda x: set_participant(x['cat_employer_provided_retirement_account'], x['cat_self_retirement_account'], x['cat_other_investment_accounts']),axis=1)\n"
   ]
  },
  {
   "cell_type": "markdown",
   "metadata": {},
   "source": [
    "We can now graph this data and examine the relationship."
   ]
  },
  {
   "cell_type": "code",
   "execution_count": null,
   "metadata": {},
   "outputs": [],
   "source": [
    "# plot the gender distribution\n",
    "g2 = sns.catplot(x=\"cat_market_participant\", \n",
    "            kind=\"count\",\n",
    "            hue='cat_gender',\n",
    "            data=df,\n",
    "            order=[\"Yes\", \"No\"],\n",
    "            palette=(\"Blues\"))\n",
    "\n",
    "# set title\n",
    "g2.fig.suptitle('Do you participate in the market in some way?') \n",
    "\n",
    "# save output\n",
    "g2.savefig('./figures/g2.png')"
   ]
  },
  {
   "cell_type": "markdown",
   "metadata": {},
   "source": [
    "There are a higher number of female respondents that participate in the market.   However, there are more females in our respondent pool, so these results must be normalized against the total population in each group."
   ]
  },
  {
   "cell_type": "code",
   "execution_count": null,
   "metadata": {},
   "outputs": [],
   "source": [
    "print(df[(df['cat_gender'] =='Female')][['cat_gender','cat_market_participant']].value_counts(normalize=True))\n",
    "print(df[(df['cat_gender'] =='Male')][['cat_gender','cat_market_participant']].value_counts(normalize=True))"
   ]
  },
  {
   "cell_type": "markdown",
   "metadata": {},
   "source": [
    "We can see that 72% of male respondents participate in the market in some way, while only 62% of female respondents particpate.  To examine whether or not this is statistically significant, we will run a simple two-sample Z-test for a proportion.  In this case our null hypothesis is that the proportion should be equal for the two groups.  Our alternative hypothesis is that the proportion of market participation is less for women than it is for men."
   ]
  },
  {
   "cell_type": "code",
   "execution_count": null,
   "metadata": {},
   "outputs": [],
   "source": [
    "# set significance level\n",
    "alpha = 0.025\n",
    "\n",
    "\n",
    "# compare market participation in both populations\n",
    "female_participants, female_respondents = (9501, 15135)\n",
    "male_participants, male_respondents = (8678, 11956)\n",
    "\n",
    "successes = np.array([female_participants, male_participants])\n",
    "samples = np.array([female_respondents, male_respondents])\n",
    "\n",
    "# run our test\n",
    "stat, p_val = proportions_ztest(count=successes, nobs=samples,  alternative='smaller')\n",
    "\n",
    "# check results\n",
    "print('z_stat: %0.3f, p_value: %0.3f' % (stat, p_value))\n",
    "if p_val < alpha:\n",
    "    print (\"Reject the null hypothesis.\")\n",
    "else:\n",
    "    print(\"Fail to reject the null hypothesis.\")\n"
   ]
  },
  {
   "cell_type": "markdown",
   "metadata": {},
   "source": [
    "It is clear from the results that this is a signifcant difference between the two proportions.   Based on this sample, it appears women participate in the market at a lower rate then men."
   ]
  },
  {
   "cell_type": "markdown",
   "metadata": {},
   "source": [
    "#### R2: 1.   What are some of the factors that blah blah blah>\n",
    "\n",
    "dsafkj;asdfkjdsaf"
   ]
  },
  {
   "cell_type": "code",
   "execution_count": null,
   "metadata": {},
   "outputs": [],
   "source": [
    "for name in df.columns:\n",
    "    print(name)"
   ]
  },
  {
   "cell_type": "code",
   "execution_count": null,
   "metadata": {},
   "outputs": [],
   "source": [
    "df.describe"
   ]
  },
  {
   "cell_type": "code",
   "execution_count": 64,
   "metadata": {},
   "outputs": [
    {
     "data": {
      "text/plain": [
       "income                                  -0.149901\n",
       "education                               -0.098227\n",
       "good_at_math                            -0.032530\n",
       "minimum_credit_card_payement_only       -0.025315\n",
       "financial_satisfaction_score            -0.019560\n",
       "good_at_daily_financial_matters         -0.017195\n",
       "risk_tolerance                          -0.004872\n",
       "comfort_asking_questions                -0.003697\n",
       "difficult_to_pay_bills                   0.007248\n",
       "taken_financial_education                0.007811\n",
       "how_many_hours_of_financial_education    0.008242\n",
       "financial_knowledge                      0.014366\n",
       "finances_makes_me_anxious                0.014756\n",
       "savings_account                          0.017264\n",
       "know_retirement_amount                   0.018075\n",
       "too_much_debt                            0.018204\n",
       "finances_makes_me_stressed               0.018814\n",
       "current_credit_record                    0.021596\n",
       "employer_provided_retirement_account     0.022847\n",
       "worry_about_retirement                   0.030526\n",
       "income_to_debt                           0.037816\n",
       "confidence_paying_unexpected_need        0.039031\n",
       "investment_knowledge                     0.039758\n",
       "self_retirement_account                  0.043259\n",
       "other_investment_accounts                0.044885\n",
       "work_status                              0.053748\n",
       "gender                                   1.000000\n",
       "Name: gender, dtype: float64"
      ]
     },
     "execution_count": 64,
     "metadata": {},
     "output_type": "execute_result"
    }
   ],
   "source": [
    "df[df.columns[1:]].corr()['gender'][:].sort_values()"
   ]
  },
  {
   "cell_type": "code",
   "execution_count": null,
   "metadata": {},
   "outputs": [],
   "source": [
    "corrMatrix = df.corr()\n",
    "sns.heatmap(corrMatrix, annot=True)\n",
    "plt.show()"
   ]
  },
  {
   "cell_type": "markdown",
   "metadata": {},
   "source": [
    "#### R2: 2. Do these factors disproportionally affect women?\n",
    "\n",
    "\n",
    "dsafkj;asdfkjdsaf"
   ]
  },
  {
   "cell_type": "code",
   "execution_count": null,
   "metadata": {},
   "outputs": [],
   "source": []
  },
  {
   "cell_type": "markdown",
   "metadata": {},
   "source": [
    "<span id=\"discussion\" />\n",
    "\n",
    "### Discussion"
   ]
  },
  {
   "cell_type": "code",
   "execution_count": null,
   "metadata": {},
   "outputs": [],
   "source": []
  },
  {
   "cell_type": "markdown",
   "metadata": {},
   "source": [
    "<span id=\"conclusion\" />\n",
    "\n",
    "### Conclusion\n",
    "blah blah blah"
   ]
  },
  {
   "cell_type": "code",
   "execution_count": null,
   "metadata": {},
   "outputs": [],
   "source": []
  },
  {
   "cell_type": "markdown",
   "metadata": {},
   "source": [
    "<span id=\"questions\"/>\n",
    "\n"
   ]
  }
 ],
 "metadata": {
  "kernelspec": {
   "display_name": "Python 3",
   "language": "python",
   "name": "python3"
  },
  "language_info": {
   "codemirror_mode": {
    "name": "ipython",
    "version": 3
   },
   "file_extension": ".py",
   "mimetype": "text/x-python",
   "name": "python",
   "nbconvert_exporter": "python",
   "pygments_lexer": "ipython3",
   "version": "3.7.4"
  }
 },
 "nbformat": 4,
 "nbformat_minor": 4
}
