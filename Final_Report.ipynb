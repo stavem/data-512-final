{
 "cells": [
  {
   "cell_type": "markdown",
   "metadata": {},
   "source": [
    "# GENDER AND STOCK MARKET PARTICIPATION\n",
    "_Karl Stavem_"
   ]
  },
  {
   "cell_type": "markdown",
   "metadata": {},
   "source": [
    "## Table of Contents\n",
    "1.  [Motivation and Problem Statement](#motivation)\n",
    "1.  [Background and Related Work](#brr)\n",
    "1.  [Research Questions and Hypotheses](#rq)\n",
    "1.  [Data Description](#dd)\n",
    "1.  [Methodology](#methodology)\n",
    "1.  [Data Preprocessing](#dpp)\n",
    "1.  [Findings](#findings)\n",
    "1.  [Discussion](#discussion)\n",
    "1.  [Conclusion](#conclusion)"
   ]
  },
  {
   "cell_type": "markdown",
   "metadata": {},
   "source": [
    "<span id=\"motivation\"/>\n",
    "    \n",
    "### Motivation and Problem Statement OR INTRODUCTION\n",
    "\n"
   ]
  },
  {
   "cell_type": "code",
   "execution_count": null,
   "metadata": {},
   "outputs": [],
   "source": []
  },
  {
   "cell_type": "markdown",
   "metadata": {},
   "source": [
    "<span id=\"brr\" />\n",
    "\n",
    "### Background and Related Work\n",
    "\n",
    "FINRA runs their own analysis of this dataset each time the survey is conducted.   Those results are available on [their website](https://www.usfinancialcapability.org/results.php?region=US)."
   ]
  },
  {
   "cell_type": "code",
   "execution_count": null,
   "metadata": {},
   "outputs": [],
   "source": []
  },
  {
   "cell_type": "markdown",
   "metadata": {},
   "source": [
    "<span id=\"dd\" />\n",
    "\n",
    "### Data\n",
    "\n",
    "\n",
    "#### Descrption\n",
    "The primary dataset used to address these questions is the _2018 National Financial Capability Study (NFCS)_, funded by the FINRA Investor Education Foundation.  The NFCS is a longitudinal survey conducted across the United States every three years.   The goal of the survey is to benchmark key indicators of financial capability in U.S. households and evaluate how these indictors vary by regions, attitudes, and demographics.  While this is a longitudinal survey that has been conducted every three years since 2009, my analysis focuses exclusively on the 2018 dataset.  While the FINRA Investor Education Foundation publishes its own findings on this data, it has made the datasets, questionaires, and documents available to outside researchers.\n",
    "\n",
    "#### Dimensions\n",
    "The 2018 NFCS contains responses from roughly 27,000 households across all 50 states.  Each respondent provided answers to 127 different questions.   All responses have been numericall encoded into a single .csv file.\n",
    "\n",
    "\n",
    "#### Access\n",
    "\n",
    "The 2018 NFCS dataset is freely available online and is subject to FINRA's [terms of use](https://www.usfinancialcapability.org/terms.php).  Full details and descrptions can be found on the on the [Data and Downloads](https://www.usfinancialcapability.org/downloads.php) page of the US Financial Capability website.  The primrary dataset used in this exploration is titled, _2018 State-by-State Survey — Respondent-Level Data, Comma delimited Excel file (.csv)_ and it may be downloaded in a .zip file directly from FINRA's website using [this link](https://www.usfinancialcapability.org/downloads/NFCS_2018_State_by_State_Data_Excel.zip).  This project already contains the full 2018 NFCS dataset, which can be viewed directly here: [\\\"NFCS 2018 State Data 190603.csv\\\"](raw_data/NFCS%202018%20State%20Data%20190603.csv). "
   ]
  },
  {
   "cell_type": "code",
   "execution_count": null,
   "metadata": {},
   "outputs": [],
   "source": []
  },
  {
   "cell_type": "code",
   "execution_count": null,
   "metadata": {},
   "outputs": [],
   "source": []
  },
  {
   "cell_type": "code",
   "execution_count": null,
   "metadata": {},
   "outputs": [],
   "source": []
  },
  {
   "cell_type": "code",
   "execution_count": null,
   "metadata": {},
   "outputs": [],
   "source": []
  },
  {
   "cell_type": "code",
   "execution_count": null,
   "metadata": {},
   "outputs": [],
   "source": []
  },
  {
   "cell_type": "markdown",
   "metadata": {},
   "source": [
    "<span id=\"rq\"/>\n",
    "\n",
    "### Research Questions and Hypotheses\n",
    "\n",
    "There are two primary questions that I will explore in this project:\n",
    "\n",
    "1.  _R1:  Do women participate in the stock market at a lower rate than men?_\n",
    "\n",
    "\n",
    "  \n",
    "2.  _R2.1:  What are they key factors that affect stock market participation?_  \n",
    "\n",
    "    \n",
    "    _R2.2:  Do these key factors disproportionally affect women?_\n",
    "        \n",
    "\n",
    "My initial hypotheses were as follows:\n",
    "\n",
    "_H1:  Women do participate in the stock market at lower rate than men.__\n",
    "_H2:  The primary factors that influence stock market participation are related issues like income level and employment type, rather than perceptions or knowledge of the market.__\n",
    "_H3:  Since women have a lower rate of full time employment, and on average earn less than their male \n"
   ]
  },
  {
   "cell_type": "markdown",
   "metadata": {},
   "source": [
    "<span id=\"methodology\" />\n",
    "\n",
    "### Methodology\n",
    "\n"
   ]
  },
  {
   "cell_type": "code",
   "execution_count": null,
   "metadata": {},
   "outputs": [],
   "source": [
    "\n"
   ]
  },
  {
   "cell_type": "markdown",
   "metadata": {},
   "source": [
    "<span id=\"dpp\"/>\n",
    "\n",
    "### Data Preprocessing\n",
    "\n",
    "Here is the data preprocessing"
   ]
  },
  {
   "cell_type": "code",
   "execution_count": 2,
   "metadata": {},
   "outputs": [],
   "source": [
    "import pandas as pd\n",
    "df_sbs = pd.read_csv('raw_data/NFCS 2018 State Data 190603.csv')"
   ]
  },
  {
   "cell_type": "code",
   "execution_count": null,
   "metadata": {},
   "outputs": [],
   "source": []
  },
  {
   "cell_type": "markdown",
   "metadata": {},
   "source": [
    "<span id=\"findings\" />\n",
    "          \n",
    "          \n",
    "### Findings\n",
    "\n",
    "asdfjk;lsadjfkjdsaf"
   ]
  },
  {
   "cell_type": "markdown",
   "metadata": {},
   "source": [
    "#### R1:   Do Women Participate in the Stock Market at a Lower Rate Than Men?\n",
    "\n",
    "dsafkj;asdfkjdsaf\n",
    "          "
   ]
  },
  {
   "cell_type": "code",
   "execution_count": null,
   "metadata": {},
   "outputs": [],
   "source": []
  },
  {
   "cell_type": "markdown",
   "metadata": {},
   "source": [
    "#### R2: 1.   What are some of the factors that blah blah blah>\n",
    "\n",
    "dsafkj;asdfkjdsaf"
   ]
  },
  {
   "cell_type": "code",
   "execution_count": null,
   "metadata": {},
   "outputs": [],
   "source": []
  },
  {
   "cell_type": "markdown",
   "metadata": {},
   "source": [
    "#### R2: 2. Do these factors disproportionally affect women?\n",
    "\n",
    "\n",
    "dsafkj;asdfkjdsaf"
   ]
  },
  {
   "cell_type": "code",
   "execution_count": null,
   "metadata": {},
   "outputs": [],
   "source": []
  },
  {
   "cell_type": "markdown",
   "metadata": {},
   "source": [
    "<span id=\"discussion\" />\n",
    "\n",
    "### Discussion"
   ]
  },
  {
   "cell_type": "code",
   "execution_count": null,
   "metadata": {},
   "outputs": [],
   "source": []
  },
  {
   "cell_type": "markdown",
   "metadata": {},
   "source": [
    "<span id=\"conclusion\" />\n",
    "\n",
    "### Conclusion\n",
    "blah blah blah"
   ]
  },
  {
   "cell_type": "code",
   "execution_count": null,
   "metadata": {},
   "outputs": [],
   "source": []
  },
  {
   "cell_type": "markdown",
   "metadata": {},
   "source": [
    "<span id=\"questions\"/>\n",
    "\n"
   ]
  }
 ],
 "metadata": {
  "kernelspec": {
   "display_name": "Python 3",
   "language": "python",
   "name": "python3"
  },
  "language_info": {
   "codemirror_mode": {
    "name": "ipython",
    "version": 3
   },
   "file_extension": ".py",
   "mimetype": "text/x-python",
   "name": "python",
   "nbconvert_exporter": "python",
   "pygments_lexer": "ipython3",
   "version": "3.7.4"
  }
 },
 "nbformat": 4,
 "nbformat_minor": 4
}
